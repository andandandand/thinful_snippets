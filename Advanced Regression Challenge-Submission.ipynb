{
 "cells": [
  {
   "cell_type": "code",
   "execution_count": 45,
   "metadata": {},
   "outputs": [],
   "source": [
    "import pandas as pd\n",
    "from matplotlib import pyplot as plt\n",
    "import numpy as np\n",
    "import math\n",
    "import seaborn as sns\n",
    "import sklearn\n",
    "from sklearn import linear_model\n",
    "from sklearn import preprocessing\n",
    "import statsmodels.api as sm\n",
    "from sklearn.linear_model import LogisticRegression\n",
    "%matplotlib inline\n",
    "sns.set_style('white')"
   ]
  },
  {
   "cell_type": "markdown",
   "metadata": {},
   "source": [
    "## Data Cleaning and Feature Selection"
   ]
  },
  {
   "cell_type": "code",
   "execution_count": 46,
   "metadata": {
    "collapsed": true
   },
   "outputs": [],
   "source": [
    "crime = pd.read_csv(\"https://raw.githubusercontent.com/Thinkful-Ed/data-201-resources/master/New_York_offenses/NEW_YORK-Offenses_Known_to_Law_Enforcement_by_City_2013%20-%2013tbl8ny.csv\"\n",
    "                 )"
   ]
  },
  {
   "cell_type": "code",
   "execution_count": 47,
   "metadata": {
    "collapsed": true
   },
   "outputs": [],
   "source": [
    "#cleaning, removing header rows\n",
    "crime.columns = crime.iloc[3]\n",
    "crime.droprow = crime.drop(crime.index[0:4], inplace=True)\n",
    "\n",
    "#rename columns\n",
    "crime.columns = ['city','population','violent_crime','murder','rape_revised',\n",
    "                 'rape_legacy','robbery','agg_assault','property_crime','burglary','larceny_theft',\n",
    "                 'motor_theft','arson3']\n",
    "#remove na from pop\n",
    "crime.dropna(subset = ['population'], inplace=True)\n",
    "#drop rape (revised def 1)\n",
    "crime.drop(['rape_revised','city'],axis=1,inplace=True)\n",
    "\n",
    "# Change the Arson null values to 0. \n",
    "crime['arson3'].fillna(0, inplace=True)"
   ]
  },
  {
   "cell_type": "code",
   "execution_count": 48,
   "metadata": {
    "collapsed": true
   },
   "outputs": [],
   "source": [
    "#remove , and conver to float (for desired columns)\n",
    "crime = crime.replace(',','',regex=True)\n",
    "crime.iloc[:,:] = crime.iloc[:,:].apply(lambda x: pd.to_numeric(x))\n",
    "crime = crime.reset_index(drop=True)"
   ]
  },
  {
   "cell_type": "code",
   "execution_count": 49,
   "metadata": {},
   "outputs": [
    {
     "name": "stdout",
     "output_type": "stream",
     "text": [
      "<class 'pandas.core.frame.DataFrame'>\n",
      "RangeIndex: 348 entries, 0 to 347\n",
      "Data columns (total 11 columns):\n",
      "population        348 non-null int64\n",
      "violent_crime     348 non-null int64\n",
      "murder            348 non-null int64\n",
      "rape_legacy       348 non-null int64\n",
      "robbery           348 non-null int64\n",
      "agg_assault       348 non-null int64\n",
      "property_crime    348 non-null int64\n",
      "burglary          348 non-null int64\n",
      "larceny_theft     348 non-null int64\n",
      "motor_theft       348 non-null int64\n",
      "arson3            348 non-null int64\n",
      "dtypes: int64(11)\n",
      "memory usage: 30.0 KB\n"
     ]
    }
   ],
   "source": [
    "crime.info()"
   ]
  },
  {
   "cell_type": "code",
   "execution_count": 50,
   "metadata": {},
   "outputs": [
    {
     "data": {
      "text/html": [
       "<div>\n",
       "<style>\n",
       "    .dataframe thead tr:only-child th {\n",
       "        text-align: right;\n",
       "    }\n",
       "\n",
       "    .dataframe thead th {\n",
       "        text-align: left;\n",
       "    }\n",
       "\n",
       "    .dataframe tbody tr th {\n",
       "        vertical-align: top;\n",
       "    }\n",
       "</style>\n",
       "<table border=\"1\" class=\"dataframe\">\n",
       "  <thead>\n",
       "    <tr style=\"text-align: right;\">\n",
       "      <th></th>\n",
       "      <th>population</th>\n",
       "      <th>violent_crime</th>\n",
       "      <th>murder</th>\n",
       "      <th>rape_legacy</th>\n",
       "      <th>robbery</th>\n",
       "      <th>agg_assault</th>\n",
       "      <th>property_crime</th>\n",
       "      <th>burglary</th>\n",
       "      <th>larceny_theft</th>\n",
       "      <th>motor_theft</th>\n",
       "      <th>arson3</th>\n",
       "    </tr>\n",
       "  </thead>\n",
       "  <tbody>\n",
       "    <tr>\n",
       "      <th>count</th>\n",
       "      <td>3.480000e+02</td>\n",
       "      <td>348.000000</td>\n",
       "      <td>348.000000</td>\n",
       "      <td>348.000000</td>\n",
       "      <td>348.000000</td>\n",
       "      <td>348.000000</td>\n",
       "      <td>348.000000</td>\n",
       "      <td>348.000000</td>\n",
       "      <td>348.000000</td>\n",
       "      <td>348.000000</td>\n",
       "      <td>348.000000</td>\n",
       "    </tr>\n",
       "    <tr>\n",
       "      <th>mean</th>\n",
       "      <td>4.003763e+04</td>\n",
       "      <td>201.594828</td>\n",
       "      <td>1.566092</td>\n",
       "      <td>5.864943</td>\n",
       "      <td>72.902299</td>\n",
       "      <td>121.261494</td>\n",
       "      <td>792.606322</td>\n",
       "      <td>119.683908</td>\n",
       "      <td>637.017241</td>\n",
       "      <td>35.905172</td>\n",
       "      <td>1.005747</td>\n",
       "    </tr>\n",
       "    <tr>\n",
       "      <th>std</th>\n",
       "      <td>4.500374e+05</td>\n",
       "      <td>2815.268504</td>\n",
       "      <td>18.303673</td>\n",
       "      <td>60.425452</td>\n",
       "      <td>1031.032873</td>\n",
       "      <td>1706.131730</td>\n",
       "      <td>7659.724746</td>\n",
       "      <td>924.948789</td>\n",
       "      <td>6346.054451</td>\n",
       "      <td>403.423826</td>\n",
       "      <td>7.884612</td>\n",
       "    </tr>\n",
       "    <tr>\n",
       "      <th>min</th>\n",
       "      <td>5.260000e+02</td>\n",
       "      <td>0.000000</td>\n",
       "      <td>0.000000</td>\n",
       "      <td>0.000000</td>\n",
       "      <td>0.000000</td>\n",
       "      <td>0.000000</td>\n",
       "      <td>0.000000</td>\n",
       "      <td>0.000000</td>\n",
       "      <td>0.000000</td>\n",
       "      <td>0.000000</td>\n",
       "      <td>0.000000</td>\n",
       "    </tr>\n",
       "    <tr>\n",
       "      <th>25%</th>\n",
       "      <td>3.003000e+03</td>\n",
       "      <td>2.000000</td>\n",
       "      <td>0.000000</td>\n",
       "      <td>0.000000</td>\n",
       "      <td>0.000000</td>\n",
       "      <td>1.000000</td>\n",
       "      <td>40.500000</td>\n",
       "      <td>6.000000</td>\n",
       "      <td>31.000000</td>\n",
       "      <td>0.000000</td>\n",
       "      <td>0.000000</td>\n",
       "    </tr>\n",
       "    <tr>\n",
       "      <th>50%</th>\n",
       "      <td>7.233500e+03</td>\n",
       "      <td>6.000000</td>\n",
       "      <td>0.000000</td>\n",
       "      <td>0.000000</td>\n",
       "      <td>1.000000</td>\n",
       "      <td>4.000000</td>\n",
       "      <td>112.500000</td>\n",
       "      <td>17.500000</td>\n",
       "      <td>94.000000</td>\n",
       "      <td>2.000000</td>\n",
       "      <td>0.000000</td>\n",
       "    </tr>\n",
       "    <tr>\n",
       "      <th>75%</th>\n",
       "      <td>1.842750e+04</td>\n",
       "      <td>22.000000</td>\n",
       "      <td>0.000000</td>\n",
       "      <td>2.000000</td>\n",
       "      <td>5.000000</td>\n",
       "      <td>14.000000</td>\n",
       "      <td>341.000000</td>\n",
       "      <td>51.250000</td>\n",
       "      <td>287.250000</td>\n",
       "      <td>7.000000</td>\n",
       "      <td>0.000000</td>\n",
       "    </tr>\n",
       "    <tr>\n",
       "      <th>max</th>\n",
       "      <td>8.396126e+06</td>\n",
       "      <td>52384.000000</td>\n",
       "      <td>335.000000</td>\n",
       "      <td>1112.000000</td>\n",
       "      <td>19170.000000</td>\n",
       "      <td>31767.000000</td>\n",
       "      <td>141971.000000</td>\n",
       "      <td>16606.000000</td>\n",
       "      <td>117931.000000</td>\n",
       "      <td>7434.000000</td>\n",
       "      <td>132.000000</td>\n",
       "    </tr>\n",
       "  </tbody>\n",
       "</table>\n",
       "</div>"
      ],
      "text/plain": [
       "         population  violent_crime      murder  rape_legacy       robbery  \\\n",
       "count  3.480000e+02     348.000000  348.000000   348.000000    348.000000   \n",
       "mean   4.003763e+04     201.594828    1.566092     5.864943     72.902299   \n",
       "std    4.500374e+05    2815.268504   18.303673    60.425452   1031.032873   \n",
       "min    5.260000e+02       0.000000    0.000000     0.000000      0.000000   \n",
       "25%    3.003000e+03       2.000000    0.000000     0.000000      0.000000   \n",
       "50%    7.233500e+03       6.000000    0.000000     0.000000      1.000000   \n",
       "75%    1.842750e+04      22.000000    0.000000     2.000000      5.000000   \n",
       "max    8.396126e+06   52384.000000  335.000000  1112.000000  19170.000000   \n",
       "\n",
       "        agg_assault  property_crime      burglary  larceny_theft  motor_theft  \\\n",
       "count    348.000000      348.000000    348.000000     348.000000   348.000000   \n",
       "mean     121.261494      792.606322    119.683908     637.017241    35.905172   \n",
       "std     1706.131730     7659.724746    924.948789    6346.054451   403.423826   \n",
       "min        0.000000        0.000000      0.000000       0.000000     0.000000   \n",
       "25%        1.000000       40.500000      6.000000      31.000000     0.000000   \n",
       "50%        4.000000      112.500000     17.500000      94.000000     2.000000   \n",
       "75%       14.000000      341.000000     51.250000     287.250000     7.000000   \n",
       "max    31767.000000   141971.000000  16606.000000  117931.000000  7434.000000   \n",
       "\n",
       "           arson3  \n",
       "count  348.000000  \n",
       "mean     1.005747  \n",
       "std      7.884612  \n",
       "min      0.000000  \n",
       "25%      0.000000  \n",
       "50%      0.000000  \n",
       "75%      0.000000  \n",
       "max    132.000000  "
      ]
     },
     "execution_count": 50,
     "metadata": {},
     "output_type": "execute_result"
    }
   ],
   "source": [
    "crime.describe()"
   ]
  },
  {
   "cell_type": "code",
   "execution_count": 51,
   "metadata": {},
   "outputs": [
    {
     "data": {
      "text/html": [
       "<div>\n",
       "<style>\n",
       "    .dataframe thead tr:only-child th {\n",
       "        text-align: right;\n",
       "    }\n",
       "\n",
       "    .dataframe thead th {\n",
       "        text-align: left;\n",
       "    }\n",
       "\n",
       "    .dataframe tbody tr th {\n",
       "        vertical-align: top;\n",
       "    }\n",
       "</style>\n",
       "<table border=\"1\" class=\"dataframe\">\n",
       "  <thead>\n",
       "    <tr style=\"text-align: right;\">\n",
       "      <th></th>\n",
       "      <th>population</th>\n",
       "      <th>violent_crime</th>\n",
       "      <th>murder</th>\n",
       "      <th>rape_legacy</th>\n",
       "      <th>robbery</th>\n",
       "      <th>agg_assault</th>\n",
       "      <th>property_crime</th>\n",
       "      <th>burglary</th>\n",
       "      <th>larceny_theft</th>\n",
       "      <th>motor_theft</th>\n",
       "      <th>arson3</th>\n",
       "    </tr>\n",
       "  </thead>\n",
       "  <tbody>\n",
       "    <tr>\n",
       "      <th>population</th>\n",
       "      <td>1.000000</td>\n",
       "      <td>0.998854</td>\n",
       "      <td>0.986758</td>\n",
       "      <td>0.990839</td>\n",
       "      <td>0.998469</td>\n",
       "      <td>0.999134</td>\n",
       "      <td>0.996265</td>\n",
       "      <td>0.970578</td>\n",
       "      <td>0.997946</td>\n",
       "      <td>0.992421</td>\n",
       "      <td>0.023680</td>\n",
       "    </tr>\n",
       "    <tr>\n",
       "      <th>violent_crime</th>\n",
       "      <td>0.998854</td>\n",
       "      <td>1.000000</td>\n",
       "      <td>0.992098</td>\n",
       "      <td>0.994985</td>\n",
       "      <td>0.999923</td>\n",
       "      <td>0.999942</td>\n",
       "      <td>0.998059</td>\n",
       "      <td>0.978150</td>\n",
       "      <td>0.998762</td>\n",
       "      <td>0.996271</td>\n",
       "      <td>0.040651</td>\n",
       "    </tr>\n",
       "    <tr>\n",
       "      <th>murder</th>\n",
       "      <td>0.986758</td>\n",
       "      <td>0.992098</td>\n",
       "      <td>1.000000</td>\n",
       "      <td>0.997746</td>\n",
       "      <td>0.993104</td>\n",
       "      <td>0.990843</td>\n",
       "      <td>0.995403</td>\n",
       "      <td>0.993733</td>\n",
       "      <td>0.993175</td>\n",
       "      <td>0.997992</td>\n",
       "      <td>0.128936</td>\n",
       "    </tr>\n",
       "    <tr>\n",
       "      <th>rape_legacy</th>\n",
       "      <td>0.990839</td>\n",
       "      <td>0.994985</td>\n",
       "      <td>0.997746</td>\n",
       "      <td>1.000000</td>\n",
       "      <td>0.995438</td>\n",
       "      <td>0.994140</td>\n",
       "      <td>0.997843</td>\n",
       "      <td>0.992442</td>\n",
       "      <td>0.996260</td>\n",
       "      <td>0.998764</td>\n",
       "      <td>0.093916</td>\n",
       "    </tr>\n",
       "    <tr>\n",
       "      <th>robbery</th>\n",
       "      <td>0.998469</td>\n",
       "      <td>0.999923</td>\n",
       "      <td>0.993104</td>\n",
       "      <td>0.995438</td>\n",
       "      <td>1.000000</td>\n",
       "      <td>0.999742</td>\n",
       "      <td>0.998237</td>\n",
       "      <td>0.979525</td>\n",
       "      <td>0.998735</td>\n",
       "      <td>0.996927</td>\n",
       "      <td>0.046528</td>\n",
       "    </tr>\n",
       "    <tr>\n",
       "      <th>agg_assault</th>\n",
       "      <td>0.999134</td>\n",
       "      <td>0.999942</td>\n",
       "      <td>0.990843</td>\n",
       "      <td>0.994140</td>\n",
       "      <td>0.999742</td>\n",
       "      <td>1.000000</td>\n",
       "      <td>0.997622</td>\n",
       "      <td>0.976288</td>\n",
       "      <td>0.998561</td>\n",
       "      <td>0.995403</td>\n",
       "      <td>0.034251</td>\n",
       "    </tr>\n",
       "    <tr>\n",
       "      <th>property_crime</th>\n",
       "      <td>0.996265</td>\n",
       "      <td>0.998059</td>\n",
       "      <td>0.995403</td>\n",
       "      <td>0.997843</td>\n",
       "      <td>0.998237</td>\n",
       "      <td>0.997622</td>\n",
       "      <td>1.000000</td>\n",
       "      <td>0.987137</td>\n",
       "      <td>0.999666</td>\n",
       "      <td>0.998302</td>\n",
       "      <td>0.076784</td>\n",
       "    </tr>\n",
       "    <tr>\n",
       "      <th>burglary</th>\n",
       "      <td>0.970578</td>\n",
       "      <td>0.978150</td>\n",
       "      <td>0.993733</td>\n",
       "      <td>0.992442</td>\n",
       "      <td>0.979525</td>\n",
       "      <td>0.976288</td>\n",
       "      <td>0.987137</td>\n",
       "      <td>1.000000</td>\n",
       "      <td>0.982700</td>\n",
       "      <td>0.991464</td>\n",
       "      <td>0.174057</td>\n",
       "    </tr>\n",
       "    <tr>\n",
       "      <th>larceny_theft</th>\n",
       "      <td>0.997946</td>\n",
       "      <td>0.998762</td>\n",
       "      <td>0.993175</td>\n",
       "      <td>0.996260</td>\n",
       "      <td>0.998735</td>\n",
       "      <td>0.998561</td>\n",
       "      <td>0.999666</td>\n",
       "      <td>0.982700</td>\n",
       "      <td>1.000000</td>\n",
       "      <td>0.996878</td>\n",
       "      <td>0.061608</td>\n",
       "    </tr>\n",
       "    <tr>\n",
       "      <th>motor_theft</th>\n",
       "      <td>0.992421</td>\n",
       "      <td>0.996271</td>\n",
       "      <td>0.997992</td>\n",
       "      <td>0.998764</td>\n",
       "      <td>0.996927</td>\n",
       "      <td>0.995403</td>\n",
       "      <td>0.998302</td>\n",
       "      <td>0.991464</td>\n",
       "      <td>0.996878</td>\n",
       "      <td>1.000000</td>\n",
       "      <td>0.089692</td>\n",
       "    </tr>\n",
       "    <tr>\n",
       "      <th>arson3</th>\n",
       "      <td>0.023680</td>\n",
       "      <td>0.040651</td>\n",
       "      <td>0.128936</td>\n",
       "      <td>0.093916</td>\n",
       "      <td>0.046528</td>\n",
       "      <td>0.034251</td>\n",
       "      <td>0.076784</td>\n",
       "      <td>0.174057</td>\n",
       "      <td>0.061608</td>\n",
       "      <td>0.089692</td>\n",
       "      <td>1.000000</td>\n",
       "    </tr>\n",
       "  </tbody>\n",
       "</table>\n",
       "</div>"
      ],
      "text/plain": [
       "                population  violent_crime    murder  rape_legacy   robbery  \\\n",
       "population        1.000000       0.998854  0.986758     0.990839  0.998469   \n",
       "violent_crime     0.998854       1.000000  0.992098     0.994985  0.999923   \n",
       "murder            0.986758       0.992098  1.000000     0.997746  0.993104   \n",
       "rape_legacy       0.990839       0.994985  0.997746     1.000000  0.995438   \n",
       "robbery           0.998469       0.999923  0.993104     0.995438  1.000000   \n",
       "agg_assault       0.999134       0.999942  0.990843     0.994140  0.999742   \n",
       "property_crime    0.996265       0.998059  0.995403     0.997843  0.998237   \n",
       "burglary          0.970578       0.978150  0.993733     0.992442  0.979525   \n",
       "larceny_theft     0.997946       0.998762  0.993175     0.996260  0.998735   \n",
       "motor_theft       0.992421       0.996271  0.997992     0.998764  0.996927   \n",
       "arson3            0.023680       0.040651  0.128936     0.093916  0.046528   \n",
       "\n",
       "                agg_assault  property_crime  burglary  larceny_theft  \\\n",
       "population         0.999134        0.996265  0.970578       0.997946   \n",
       "violent_crime      0.999942        0.998059  0.978150       0.998762   \n",
       "murder             0.990843        0.995403  0.993733       0.993175   \n",
       "rape_legacy        0.994140        0.997843  0.992442       0.996260   \n",
       "robbery            0.999742        0.998237  0.979525       0.998735   \n",
       "agg_assault        1.000000        0.997622  0.976288       0.998561   \n",
       "property_crime     0.997622        1.000000  0.987137       0.999666   \n",
       "burglary           0.976288        0.987137  1.000000       0.982700   \n",
       "larceny_theft      0.998561        0.999666  0.982700       1.000000   \n",
       "motor_theft        0.995403        0.998302  0.991464       0.996878   \n",
       "arson3             0.034251        0.076784  0.174057       0.061608   \n",
       "\n",
       "                motor_theft    arson3  \n",
       "population         0.992421  0.023680  \n",
       "violent_crime      0.996271  0.040651  \n",
       "murder             0.997992  0.128936  \n",
       "rape_legacy        0.998764  0.093916  \n",
       "robbery            0.996927  0.046528  \n",
       "agg_assault        0.995403  0.034251  \n",
       "property_crime     0.998302  0.076784  \n",
       "burglary           0.991464  0.174057  \n",
       "larceny_theft      0.996878  0.061608  \n",
       "motor_theft        1.000000  0.089692  \n",
       "arson3             0.089692  1.000000  "
      ]
     },
     "metadata": {},
     "output_type": "display_data"
    }
   ],
   "source": [
    "from IPython.display import display\n",
    "correlation_matrix = crime.corr()\n",
    "display(correlation_matrix)"
   ]
  },
  {
   "cell_type": "markdown",
   "metadata": {},
   "source": [
    "My features have very high correlations, except for arson which i will not use. \n",
    "There is also a very high correlation between pop and my vars, and property crime, so I am going to model using property crime per capita as my out come var."
   ]
  },
  {
   "cell_type": "code",
   "execution_count": 52,
   "metadata": {
    "collapsed": true
   },
   "outputs": [],
   "source": [
    "#create faetures\n",
    "crime_feat = pd.DataFrame()\n",
    "crime_feat['violent_ind'] = crime.violent_crime.where(crime.violent_crime ==0,1)\n",
    "crime_feat['robbery_ind'] = crime.robbery.where(crime.robbery ==0,1)\n",
    "crime_feat['murder_ind'] = crime.murder.where(crime.murder ==0,1)\n",
    "crime_feat['rape_legacy'] = crime.rape_legacy.where(crime.rape_legacy ==0,1)\n",
    "crime_feat['assault_ind'] = crime.agg_assault.where(crime.agg_assault ==0,1)\n",
    "crime_feat['motor_ind'] = crime.motor_theft.where(crime.motor_theft ==0,1)\n",
    "crime_feat['pop_sq'] =crime['population'] **2\n",
    "crime_feat['sqrt_pop'] = np.sqrt(crime['population'])\n",
    "# crime_feat['burglary'] = crime.burglary.where(crime.burglary==0,1)\n",
    "# crime_feat['larceny_theft'] = crime.larceny_theft.where(crime.larceny_theft ==0,1)\n",
    "crime_feat['burglary'] = crime['burglary']\n",
    "crime_feat['larceny_theft'] = crime['larceny_theft']\n"
   ]
  },
  {
   "cell_type": "code",
   "execution_count": 53,
   "metadata": {},
   "outputs": [
    {
     "name": "stderr",
     "output_type": "stream",
     "text": [
      "C:\\Users\\sbohan\\AppData\\Local\\Continuum\\Anaconda3\\lib\\site-packages\\sklearn\\preprocessing\\data.py:160: UserWarning: Numerical issues were encountered when centering the data and might not be solved. Dataset may contain too large values. You may need to prescale your features.\n",
      "  warnings.warn(\"Numerical issues were encountered \"\n"
     ]
    }
   ],
   "source": [
    "#now scale!\n",
    "\n",
    "# Select only numeric variables to scale.\n",
    "df_num= crime_feat.select_dtypes(include=[np.number]).dropna()\n",
    "\n",
    "# Save the column names.\n",
    "names=df_num.columns\n",
    "\n",
    "# Scale, then turn the resulting numpy array back into a data frame with the correct column names.\n",
    "feat_scaled = pd.DataFrame(preprocessing.scale(df_num), columns=names, index=crime.index)"
   ]
  },
  {
   "cell_type": "code",
   "execution_count": 54,
   "metadata": {
    "collapsed": true
   },
   "outputs": [],
   "source": [
    "#make property crime ctegorical - using mean of 112.5 as cutoff\n",
    "feat_scaled['property_crime_per_cap'] = crime['property_crime']/crime['population']\n",
    "feat_scaled['prop_ind']= np.where(feat_scaled['property_crime_per_cap'] >= np.median(feat_scaled['property_crime_per_cap']),1,0)"
   ]
  },
  {
   "cell_type": "code",
   "execution_count": 55,
   "metadata": {
    "collapsed": true
   },
   "outputs": [],
   "source": [
    "\n",
    "# Independent variables\n",
    "X = feat_scaled.drop(['property_crime_per_cap','prop_ind'], axis=1, inplace=False)\n",
    "# Dependent variable\n",
    "Y = feat_scaled['prop_ind']\n"
   ]
  },
  {
   "cell_type": "markdown",
   "metadata": {
    "collapsed": true
   },
   "source": [
    "## Vanilla\n"
   ]
  },
  {
   "cell_type": "code",
   "execution_count": null,
   "metadata": {},
   "outputs": [],
   "source": [
    "# #pick value of C that gives best accuracy on test test\n",
    "# from sklearn.model_selection import train_test_split\n",
    "# from sklearn import model_selection\n",
    "# my_C = []\n",
    "# my_accuracy = []\n",
    "# for C in np.arange(1,2000,.1):\n",
    "#     lr = LogisticRegression(C=C)\n",
    "#     X_train, X_test, Y_train, Y_test =model_selection.train_test_split(X,Y, test_size=0.30, random_state=42) \n",
    "#     fit = lr.fit(X_train, Y_train)\n",
    "#     my_C.append(C)\n",
    "#     my_accuracy.append(fit.score(X_test,Y_test))\n",
    "\n",
    "\n",
    "# plt.plot(my_C, my_accuracy)\n",
    "# plt.show()"
   ]
  },
  {
   "cell_type": "code",
   "execution_count": null,
   "metadata": {},
   "outputs": [],
   "source": [
    "# scores = pd.DataFrame({\"log_score\": my_accuracy,\"C\":my_C})\n",
    "# scores['log_score'].argmax()\n"
   ]
  },
  {
   "cell_type": "code",
   "execution_count": null,
   "metadata": {},
   "outputs": [],
   "source": [
    "# scores.iloc[2698]"
   ]
  },
  {
   "cell_type": "code",
   "execution_count": 61,
   "metadata": {},
   "outputs": [
    {
     "name": "stdout",
     "output_type": "stream",
     "text": [
      "\n",
      "Coefficients: \n",
      " [[ -1.11454833e-01   1.01500294e+00   2.58000391e-01   8.13176095e-01\n",
      "    1.09151078e+00   4.68546973e-01  -1.90230491e+02  -2.08031365e+01\n",
      "   -1.82767081e+01   2.28082789e+02]]\n",
      "\n",
      "Intercept: \n",
      " [ 2.91931738]\n",
      "\n",
      " Logistic Accuracy by property crime per capita\n",
      "prop_ind   0   1\n",
      "row_0           \n",
      "0         51   6\n",
      "1          7  41\n",
      "\n",
      "The accuracy for train set:  0.8683127572016461\n",
      "The accuracy for test set:  0.8761904761904762\n",
      "\n",
      "Each Cross Validated R2 score: \n",
      " [ 0.86111111  0.91666667  0.94444444  0.88888889  0.79411765  0.91176471\n",
      "  0.88235294  0.85294118  0.82352941  0.94117647]\n",
      "\n",
      "Overall Logistic Regression R2: 0.88 (+/- 0.09)\n",
      "\n"
     ]
    }
   ],
   "source": [
    "# Declare a logistic regression classifier.\n",
    "X_train, X_test, Y_train, Y_test =model_selection.train_test_split(X,Y, test_size=0.30, random_state=42) \n",
    "lr = LogisticRegression(C=1e20)\n",
    "# Fit the variables to the logistic model.\n",
    "fit = lr.fit(X_train, Y_train)\n",
    "\n",
    "from sklearn.model_selection import cross_val_score\n",
    "print('\\nCoefficients: \\n', fit.coef_)\n",
    "print('\\nIntercept: \\n', fit.intercept_)\n",
    "\n",
    "logistic_pred_y = fit.predict(X_test)\n",
    "print('\\n Logistic Accuracy by property crime per capita')\n",
    "print(pd.crosstab(logistic_pred_y, Y_test))\n",
    "\n",
    "\n",
    "print('\\nThe accuracy for train set: ',format(fit.score(X_train, Y_train)))\n",
    "print('The accuracy for test set: ',format(fit.score(X_test, Y_test)))\n",
    "\n",
    "\n",
    "score = cross_val_score(fit, X, Y, cv=10)\n",
    "print('\\nEach Cross Validated R2 score: \\n', score)\n",
    "print(\"\\nOverall Logistic Regression R2: %0.2f (+/- %0.2f)\\n\" % (score.mean(), score.std() * 2))\n",
    "\n",
    "\n"
   ]
  },
  {
   "cell_type": "markdown",
   "metadata": {},
   "source": [
    "## Ridge logistic regression"
   ]
  },
  {
   "cell_type": "code",
   "execution_count": 57,
   "metadata": {},
   "outputs": [
    {
     "data": {
      "image/png": "[encoded data removed]",
      "text/plain": [
       "<matplotlib.figure.Figure at 0xc84c358>"
      ]
     },
     "metadata": {},
     "output_type": "display_data"
    }
   ],
   "source": [
    "#find correct lambda to use \n",
    "# X_train, X_test, Y_train, Y_test =model_selection.train_test_split(X,Y, test_size=0.30, random_state=42) \n",
    "my_alpha = []\n",
    "my_accuracy = []\n",
    "for lambd in np.arange(0.01,2000,.1):\n",
    "    ridgeregr =LogisticRegression(penalty='l2',C=lambd)\n",
    "    X_train, X_test, Y_train, Y_test =model_selection.train_test_split(X,Y, test_size=0.30, random_state=42) \n",
    "    fit = ridgeregr.fit(X_train, Y_train)\n",
    "    my_alpha.append(lambd)\n",
    "    my_accuracy.append(fit.score(X_test,Y_test))\n",
    "\n",
    "\n",
    "plt.plot(my_alpha, my_accuracy)\n",
    "plt.show()\n",
    "    \n"
   ]
  },
  {
   "cell_type": "code",
   "execution_count": 58,
   "metadata": {},
   "outputs": [
    {
     "data": {
      "text/plain": [
       "2708"
      ]
     },
     "execution_count": 58,
     "metadata": {},
     "output_type": "execute_result"
    }
   ],
   "source": [
    "scores = pd.DataFrame({\"ridge_score\": my_accuracy,\"lambda\":my_alpha})\n",
    "scores['ridge_score'].argmax()\n"
   ]
  },
  {
   "cell_type": "code",
   "execution_count": 59,
   "metadata": {},
   "outputs": [
    {
     "data": {
      "text/plain": [
       "lambda         270.810000\n",
       "ridge_score      0.904762\n",
       "Name: 2708, dtype: float64"
      ]
     },
     "execution_count": 59,
     "metadata": {},
     "output_type": "execute_result"
    }
   ],
   "source": [
    "scores.iloc[2708]"
   ]
  },
  {
   "cell_type": "markdown",
   "metadata": {},
   "source": []
  },
  {
   "cell_type": "code",
   "execution_count": 60,
   "metadata": {},
   "outputs": [
    {
     "name": "stdout",
     "output_type": "stream",
     "text": [
      "\n",
      "Coefficients: \n",
      " [[ -0.13120499   0.947479     0.15172859   0.60659779   0.86058378\n",
      "    0.36463447  -2.36485594 -10.44272455  15.47041288  58.92434864]]\n",
      "\n",
      "Intercept: \n",
      " [ 4.57711449]\n",
      "\n",
      " Ridge Accuracy by property crime per capita\n",
      "prop_ind   0   1\n",
      "row_0           \n",
      "0         51   3\n",
      "1          7  44\n",
      "\n",
      "The accuracy for train set:  0.8600823045267489\n",
      "The accuracy for test set:  0.9047619047619048\n",
      "\n",
      "Each Cross Validated R2 score: \n",
      " [ 0.80555556  0.91666667  0.83333333  0.88888889  0.82352941  0.91176471\n",
      "  0.82352941  0.85294118  0.82352941  0.91176471]\n",
      "\n",
      "Overall Ridge Regression R2: 0.86 (+/- 0.08)\n",
      "\n"
     ]
    }
   ],
   "source": [
    "# Declare a logistic regression classifier.\n",
    "X_train, X_test, Y_train, Y_test =model_selection.train_test_split(X,Y, test_size=0.30, random_state=42) \n",
    "ridgeregr = LogisticRegression(penalty='l2', C=270.8)\n",
    "# Fit the variables to the logistic model.\n",
    "ridge_fit = ridgeregr.fit(X_train, Y_train)\n",
    "\n",
    "from sklearn.model_selection import cross_val_score\n",
    "print('\\nCoefficients: \\n', ridge_fit.coef_)\n",
    "print('\\nIntercept: \\n', ridge_fit.intercept_)\n",
    "\n",
    "ridge_pred_y = ridge_fit.predict(X_test)\n",
    "print('\\n Ridge Accuracy by property crime per capita')\n",
    "print(pd.crosstab(ridge_pred_y, Y_test))\n",
    "\n",
    "\n",
    "print('\\nThe accuracy for train set: ',format(ridge_fit.score(X_train, Y_train)))\n",
    "print('The accuracy for test set: ',format(ridge_fit.score(X_test, Y_test)))\n",
    "\n",
    "\n",
    "score = cross_val_score(ridge_fit, X, Y, cv=10)\n",
    "print('\\nEach Cross Validated R2 score: \\n', score)\n",
    "print(\"\\nOverall Ridge Regression R2: %0.2f (+/- %0.2f)\\n\" % (score.mean(), score.std() * 2))"
   ]
  },
  {
   "cell_type": "markdown",
   "metadata": {},
   "source": [
    "The accuracies of the ridge regression is slightly less than than the vanilla, using the C value we found. \n",
    "The high C value used for the vanilla, performs very similarly to a lower C value for ridge (higher regularization). \n",
    "Does this mean that reg doesnt have much of an impact? "
   ]
  },
  {
   "cell_type": "markdown",
   "metadata": {},
   "source": [
    "## Lasso\n"
   ]
  },
  {
   "cell_type": "code",
   "execution_count": 66,
   "metadata": {},
   "outputs": [
    {
     "data": {
      "image/png": "[encoded data removed]",
      "text/plain": [
       "<matplotlib.figure.Figure at 0xcdc90b8>"
      ]
     },
     "metadata": {},
     "output_type": "display_data"
    }
   ],
   "source": [
    "#find correct lambda to use \n",
    "# X_train, X_test, Y_train, Y_test =model_selection.train_test_split(X,Y, test_size=0.30, random_state=42) \n",
    "my_alpha = []\n",
    "my_accuracy = []\n",
    "for lambd in np.arange(0.01,1000,1):\n",
    "    lasso =LogisticRegression(penalty='l1',C=lambd)\n",
    "    X_train, X_test, Y_train, Y_test =model_selection.train_test_split(X,Y, test_size=0.30, random_state=42) \n",
    "    lasso_fit = lasso.fit(X_train, Y_train)\n",
    "    my_alpha.append(lambd)\n",
    "    my_accuracy.append(lasso_fit.score(X_test,Y_test))\n",
    "\n",
    "\n",
    "plt.plot(my_alpha, my_accuracy)\n",
    "plt.show()\n",
    "    "
   ]
  },
  {
   "cell_type": "code",
   "execution_count": 67,
   "metadata": {},
   "outputs": [
    {
     "data": {
      "text/plain": [
       "17"
      ]
     },
     "execution_count": 67,
     "metadata": {},
     "output_type": "execute_result"
    }
   ],
   "source": [
    "scores = pd.DataFrame({\"lasso_score\": my_accuracy,\"lambda\":my_alpha})\n",
    "scores['lasso_score'].argmax()\n"
   ]
  },
  {
   "cell_type": "code",
   "execution_count": 68,
   "metadata": {},
   "outputs": [
    {
     "data": {
      "text/plain": [
       "lambda         17.010000\n",
       "lasso_score     0.914286\n",
       "Name: 17, dtype: float64"
      ]
     },
     "execution_count": 68,
     "metadata": {},
     "output_type": "execute_result"
    }
   ],
   "source": [
    "scores.iloc[17]"
   ]
  },
  {
   "cell_type": "code",
   "execution_count": 73,
   "metadata": {},
   "outputs": [
    {
     "name": "stdout",
     "output_type": "stream",
     "text": [
      "\n",
      "Coefficients: \n",
      " [[ -0.09067834   0.83832173   0.17134663   0.54877907   0.79100542\n",
      "    0.3404959  -17.79775038  -8.97066467   8.88599551  55.51959787]]\n",
      "\n",
      "Intercept: \n",
      " [ 2.97640691]\n",
      "\n",
      " Lasso Accuracy by property crime per capita\n",
      "prop_ind   0   1\n",
      "row_0           \n",
      "0         50   3\n",
      "1          8  44\n",
      "\n",
      "The accuracy for train set:  0.8600823045267489\n",
      "The accuracy for test set:  0.8952380952380953\n",
      "\n",
      "Each Cross Validated R2 score: \n",
      " [ 0.80555556  0.91666667  0.83333333  0.88888889  0.79411765  0.88235294\n",
      "  0.85294118  0.85294118  0.82352941  0.82352941]\n",
      "\n",
      "Overall Lasso Regression R2: 0.85 (+/- 0.07)\n",
      "\n"
     ]
    }
   ],
   "source": [
    "\n",
    "# Independent variables\n",
    "X_lass = feat_scaled.drop(['property_crime_per_cap','prop_ind'], axis=1, inplace=False)\n",
    "# Dependent variable\n",
    "Y_lass = feat_scaled['prop_ind']\n",
    "\n",
    "# Declare a logistic regression classifier.\n",
    "X_train, X_test, Y_train, Y_test =model_selection.train_test_split(X_lass,Y_lass, test_size=0.30, random_state=42) \n",
    "lassoregr = LogisticRegression(penalty='l1', C=17.01)\n",
    "# Fit the variables to the logistic model.\n",
    "lasso_fit = lassoregr.fit(X_train, Y_train)\n",
    "\n",
    "from sklearn.model_selection import cross_val_score\n",
    "print('\\nCoefficients: \\n', lasso_fit.coef_)\n",
    "print('\\nIntercept: \\n', lasso_fit.intercept_)\n",
    "\n",
    "lasso_pred_y = lasso_fit.predict(X_test)\n",
    "print('\\n Lasso Accuracy by property crime per capita')\n",
    "print(pd.crosstab(lasso_pred_y, Y_test))\n",
    "\n",
    "\n",
    "print('\\nThe accuracy for train set: ',format(lasso_fit.score(X_train, Y_train)))\n",
    "print('The accuracy for test set: ',format(lasso_fit.score(X_test, Y_test)))\n",
    "\n",
    "\n",
    "score = cross_val_score(lasso_fit, X_lass, Y_lass, cv=10)\n",
    "print('\\nEach Cross Validated R2 score: \\n', score)\n",
    "print(\"\\nOverall Lasso Regression R2: %0.2f (+/- %0.2f)\\n\" % (score.mean(), score.std() * 2))"
   ]
  },
  {
   "cell_type": "markdown",
   "metadata": {},
   "source": [
    "Lasso has a lower acuracy than ridge or log. It also doesnt seem that using the lambda value we found, mininmizes any of my coefificents to zero. It also seems that lasso produces more false postive results. \n",
    "\n",
    "@Vincent - can we discuss? "
   ]
  }
 ],
 "metadata": {
  "kernelspec": {
   "display_name": "Python 3",
   "language": "python",
   "name": "python3"
  },
  "language_info": {
   "codemirror_mode": {
    "name": "ipython",
    "version": 3
   },
   "file_extension": ".py",
   "mimetype": "text/x-python",
   "name": "python",
   "nbconvert_exporter": "python",
   "pygments_lexer": "ipython3",
   "version": "3.6.1"
  }
 },
 "nbformat": 4,
 "nbformat_minor": 2
}
