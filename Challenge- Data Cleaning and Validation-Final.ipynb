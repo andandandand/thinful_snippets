{
 "cells": [
  {
   "cell_type": "code",
   "execution_count": 91,
   "metadata": {
    "collapsed": true
   },
   "outputs": [],
   "source": [
    "\n",
    "import pandas as pd\n",
    "import numpy as np\n",
    "import matplotlib.pyplot as plt\n",
    "import re\n",
    "\n",
    "\n",
    "%matplotlib inline"
   ]
  },
  {
   "cell_type": "markdown",
   "metadata": {},
   "source": [
    "### Challenge\n",
    "Determine the five most common journals and the total articles for each. Next, calculate the mean, median, and standard deviation of the open-access cost per article for each journal . "
   ]
  },
  {
   "cell_type": "code",
   "execution_count": 92,
   "metadata": {},
   "outputs": [
    {
     "name": "stdout",
     "output_type": "stream",
     "text": [
      "<class 'pandas.core.frame.DataFrame'>\n",
      "RangeIndex: 2127 entries, 0 to 2126\n",
      "Data columns (total 5 columns):\n",
      "PMID/PMCID                                             1928 non-null object\n",
      "Publisher                                              2127 non-null object\n",
      "Journal title                                          2126 non-null object\n",
      "Article title                                          2127 non-null object\n",
      "COST (£) charged to Wellcome (inc VAT when charged)    2127 non-null object\n",
      "dtypes: object(5)\n",
      "memory usage: 83.2+ KB\n"
     ]
    }
   ],
   "source": [
    "# Here is the \"dirty\" data file that I need to clean\n",
    "dirty = pd.read_csv('WELLCOME_APCspend2013_forThinkful.csv',encoding='\"ISO-8859-1\"')\n",
    "dirty.info()"
   ]
  },
  {
   "cell_type": "code",
   "execution_count": 93,
   "metadata": {},
   "outputs": [
    {
     "data": {
      "text/html": [
       "<div>\n",
       "<style>\n",
       "    .dataframe thead tr:only-child th {\n",
       "        text-align: right;\n",
       "    }\n",
       "\n",
       "    .dataframe thead th {\n",
       "        text-align: left;\n",
       "    }\n",
       "\n",
       "    .dataframe tbody tr th {\n",
       "        vertical-align: top;\n",
       "    }\n",
       "</style>\n",
       "<table border=\"1\" class=\"dataframe\">\n",
       "  <thead>\n",
       "    <tr style=\"text-align: right;\">\n",
       "      <th></th>\n",
       "      <th>ID</th>\n",
       "      <th>Publisher</th>\n",
       "      <th>Journal</th>\n",
       "      <th>Article</th>\n",
       "      <th>Cost</th>\n",
       "    </tr>\n",
       "  </thead>\n",
       "  <tbody>\n",
       "    <tr>\n",
       "      <th>0</th>\n",
       "      <td>NaN</td>\n",
       "      <td>CUP</td>\n",
       "      <td>Psychological Medicine</td>\n",
       "      <td>Reduced parahippocampal cortical thickness in ...</td>\n",
       "      <td>£0.00</td>\n",
       "    </tr>\n",
       "    <tr>\n",
       "      <th>1</th>\n",
       "      <td>PMC3679557</td>\n",
       "      <td>ACS</td>\n",
       "      <td>Biomacromolecules</td>\n",
       "      <td>Structural characterization of a Model Gram-ne...</td>\n",
       "      <td>£2381.04</td>\n",
       "    </tr>\n",
       "    <tr>\n",
       "      <th>2</th>\n",
       "      <td>23043264  PMC3506128</td>\n",
       "      <td>ACS</td>\n",
       "      <td>J Med Chem</td>\n",
       "      <td>Fumaroylamino-4,5-epoxymorphinans and related ...</td>\n",
       "      <td>£642.56</td>\n",
       "    </tr>\n",
       "    <tr>\n",
       "      <th>3</th>\n",
       "      <td>23438330 PMC3646402</td>\n",
       "      <td>ACS</td>\n",
       "      <td>J Med Chem</td>\n",
       "      <td>Orvinols with mixed kappa/mu opioid receptor a...</td>\n",
       "      <td>£669.64</td>\n",
       "    </tr>\n",
       "    <tr>\n",
       "      <th>4</th>\n",
       "      <td>23438216 PMC3601604</td>\n",
       "      <td>ACS</td>\n",
       "      <td>J Org Chem</td>\n",
       "      <td>Regioselective opening of myo-inositol orthoes...</td>\n",
       "      <td>£685.88</td>\n",
       "    </tr>\n",
       "  </tbody>\n",
       "</table>\n",
       "</div>"
      ],
      "text/plain": [
       "                      ID Publisher                 Journal  \\\n",
       "0                    NaN       CUP  Psychological Medicine   \n",
       "1             PMC3679557       ACS       Biomacromolecules   \n",
       "2  23043264  PMC3506128        ACS              J Med Chem   \n",
       "3    23438330 PMC3646402       ACS              J Med Chem   \n",
       "4   23438216 PMC3601604        ACS              J Org Chem   \n",
       "\n",
       "                                             Article      Cost  \n",
       "0  Reduced parahippocampal cortical thickness in ...     £0.00  \n",
       "1  Structural characterization of a Model Gram-ne...  £2381.04  \n",
       "2  Fumaroylamino-4,5-epoxymorphinans and related ...   £642.56  \n",
       "3  Orvinols with mixed kappa/mu opioid receptor a...   £669.64  \n",
       "4  Regioselective opening of myo-inositol orthoes...   £685.88  "
      ]
     },
     "execution_count": 93,
     "metadata": {},
     "output_type": "execute_result"
    }
   ],
   "source": [
    "df=dirty.copy()\n",
    "df= df.rename(columns={'PMID/PMCID': \"ID\", 'Publisher':'Publisher','Journal title': 'Journal', 'Article title': 'Article', \n",
    "                       'COST (£) charged to Wellcome (inc VAT when charged)': 'Cost'})\n",
    "df.head()"
   ]
  },
  {
   "cell_type": "code",
   "execution_count": 94,
   "metadata": {},
   "outputs": [
    {
     "name": "stdout",
     "output_type": "stream",
     "text": [
      "<class 'pandas.core.frame.DataFrame'>\n",
      "RangeIndex: 2127 entries, 0 to 2126\n",
      "Data columns (total 5 columns):\n",
      "ID           1928 non-null object\n",
      "Publisher    2127 non-null object\n",
      "Journal      2126 non-null object\n",
      "Article      2127 non-null object\n",
      "Cost         2127 non-null object\n",
      "dtypes: object(5)\n",
      "memory usage: 83.2+ KB\n"
     ]
    }
   ],
   "source": [
    "df.info()"
   ]
  },
  {
   "cell_type": "code",
   "execution_count": 95,
   "metadata": {
    "collapsed": true
   },
   "outputs": [],
   "source": [
    "#REMOVE NULL VALLUE IN JOURNAL\n",
    "df=df[df['Journal'].notnull()][['ID','Publisher','Journal','Article','Cost']]"
   ]
  },
  {
   "cell_type": "code",
   "execution_count": 96,
   "metadata": {},
   "outputs": [
    {
     "data": {
      "text/plain": [
       "PLoS One                                                                92\n",
       "PLoS ONE                                                                62\n",
       "Journal of Biological Chemistry                                         48\n",
       "Nucleic Acids Research                                                  21\n",
       "Proceedings of the National Academy of Sciences                         19\n",
       "Human Molecular Genetics                                                18\n",
       "PLoS Neglected Tropical Diseases                                        18\n",
       "Nature Communications                                                   17\n",
       "PLoS Pathogens                                                          15\n",
       "Neuroimage                                                              15\n",
       "PLoS Genetics                                                           15\n",
       "NeuroImage                                                              14\n",
       "BMC Public Health                                                       14\n",
       "PLOS ONE                                                                14\n",
       "Brain                                                                   14\n",
       "Movement Disorders                                                      13\n",
       "Biochemical Journal                                                     12\n",
       "Journal of Neuroscience                                                 12\n",
       "Developmental Cell                                                      12\n",
       "Journal of General Virology                                             11\n",
       "BMJ                                                                     10\n",
       "Current Biology                                                         10\n",
       "PLOS One                                                                10\n",
       "Neuron                                                                   9\n",
       "Cell Reports                                                             9\n",
       "Hepatology                                                               8\n",
       "Proceedings of the Royal Society B: Biological Sciences                  8\n",
       "Journal of Virology                                                      8\n",
       "European Journal of Immunology                                           8\n",
       "Journal of Structural Biology                                            8\n",
       "                                                                        ..\n",
       "European Child and Adolescent Psychiatty                                 1\n",
       "Clinical Radiology                                                       1\n",
       "Psychological Review                                                     1\n",
       "Journal of Aids                                                          1\n",
       "J Mol Biol                                                               1\n",
       "Maternal and Child Nutrition                                             1\n",
       "Clinical Genetics                                                        1\n",
       "Chemistry -  European Journal                                            1\n",
       "Journal of The American Society for Mass Spectrometry                    1\n",
       "Journal of Autism and Developmental Disorders                            1\n",
       "International journal of molecular sciences                              1\n",
       "ASN Neuro                                                                1\n",
       "Journal of the Association for Research in Otolaryngology                1\n",
       "European Journal of Preventive Cardiology                                1\n",
       "Plos Genetics                                                            1\n",
       "Influenza Other Respi Viruses.                                           1\n",
       "Journal of Medicinal Chemistry                                           1\n",
       "Speech Language and Hearing Research                                     1\n",
       "Azania: Archaeological Research in Africa                                1\n",
       "Angewandte Chemie                                                        1\n",
       "JERPH                                                                    1\n",
       "Neuroscience                                                             1\n",
       "Theranostics                                                             1\n",
       "Cell Adhesion and Migration                                              1\n",
       "Journal of Medical Virology                                              1\n",
       "Evolutionary Applications                                                1\n",
       "Nature communications                                                    1\n",
       "Am J Bioeth                                                              1\n",
       "International Journal of Behavioural Nutrition and Physical Activity     1\n",
       "BMC Neurology                                                            1\n",
       "Name: Journal, Length: 984, dtype: int64"
      ]
     },
     "execution_count": 96,
     "metadata": {},
     "output_type": "execute_result"
    }
   ],
   "source": [
    "#Now I want to see how dirty the journal names are before I proceed\n",
    "df['Journal'].value_counts()"
   ]
  },
  {
   "cell_type": "markdown",
   "metadata": {},
   "source": [
    "There are clearly a lot of mistakes in the entries of the Journal titles (i.e. duplications due to misspellings, acronyms, and also extra whitespace, extraneous punctuation and capitalization, etc.). There are also some journals like Plos One that have other versions or editions from that Publisher. For the purpose of this challege, I will be treating these separate. \n",
    "\n"
   ]
  },
  {
   "cell_type": "code",
   "execution_count": 97,
   "metadata": {},
   "outputs": [
    {
     "data": {
      "text/plain": [
       "0                              NaN\n",
       "1                       PMC3679557\n",
       "2            23043264  PMC3506128 \n",
       "3              23438330 PMC3646402\n",
       "4             23438216 PMC3601604 \n",
       "5                       PMC3579457\n",
       "6                       PMC3709265\n",
       "7             23057412 PMC3495574 \n",
       "8                PMCID: PMC3780468\n",
       "9                PMCID: PMC3621575\n",
       "10               PMCID: PMC3739413\n",
       "11               PMCID: PMC3530961\n",
       "12               PMCID: PMC3624797\n",
       "13                      PMC3413243\n",
       "14                      PMC3694353\n",
       "15                      PMC3572711\n",
       "16                        22610094\n",
       "17               PMCID: PMC3586974\n",
       "18    23455506  PMCID: PMC3607399 \n",
       "19      PMID: 24015914 PMC3833349 \n",
       "Name: ID, dtype: object"
      ]
     },
     "execution_count": 97,
     "metadata": {},
     "output_type": "execute_result"
    }
   ],
   "source": [
    "df['ID'].head(20)"
   ]
  },
  {
   "cell_type": "markdown",
   "metadata": {},
   "source": [
    "### Dealing with Journal Dirt\n",
    "1. Strip Whitespace\n",
    "2. Convert case \n",
    "3. Remove prepositions and other misc. characters\n",
    "4. Fix Mistakes in Spelling\n",
    "5. Replace remaining dirty strings with clean strings (i.e. abbreviations and other inconsistencies)\n",
    "6. Remove currency symbols from cost and convert as float. "
   ]
  },
  {
   "cell_type": "code",
   "execution_count": 98,
   "metadata": {},
   "outputs": [
    {
     "data": {
      "text/plain": [
       "PLOS ONE                                                    190\n",
       "JOURNAL OF BIOLOGICAL CHEMISTRY                              53\n",
       "NEUROIMAGE                                                   29\n",
       "PLOS PATHOGENS                                               24\n",
       "PLOS GENETICS                                                24\n",
       "NUCLEIC ACIDS RESEARCH                                       23\n",
       "PROCEEDINGS OF THE NATIONAL ACADEMY OF SCIENCES              20\n",
       "PLOS NEGLECTED TROPICAL DISEASES                             20\n",
       "HUMAN MOLECULAR GENETICS                                     19\n",
       "NATURE COMMUNICATIONS                                        19\n",
       "BMC PUBLIC HEALTH                                            14\n",
       "BRAIN                                                        14\n",
       "MOVEMENT DISORDERS                                           13\n",
       "JOURNAL OF NEUROSCIENCE                                      12\n",
       "BIOCHEMICAL JOURNAL                                          12\n",
       "DEVELOPMENTAL CELL                                           12\n",
       "CURRENT BIOLOGY                                              11\n",
       "JOURNAL OF GENERAL VIROLOGY                                  11\n",
       "BMJ                                                          10\n",
       "CELL REPORTS                                                  9\n",
       "NEURON                                                        9\n",
       "PLOSONE                                                       9\n",
       "PLOS COMPUTATIONAL BIOLOGY                                    9\n",
       "BMJ OPEN                                                      9\n",
       "DEVELOPMENT                                                   8\n",
       "JOURNAL OF PHYSIOLOGY                                         8\n",
       "JOURNAL OF STRUCTURAL BIOLOGY                                 8\n",
       "MOLECULAR MICROBIOLOGY                                        8\n",
       "JOURNAL OF CLINICAL ENDOCRINOLOGY AND METABOLISM              8\n",
       "MALARIA JOURNAL                                               8\n",
       "                                                           ... \n",
       "EUROPEAN RESPIRATORY JOURNAL                                  1\n",
       "MATH BIOSCI                                                   1\n",
       "JOURNAL OF APPLIED PHYSIOLOGY                                 1\n",
       "JOURNAL OF VISION                                             1\n",
       "TRENDS IN MICROBIOLOGY                                        1\n",
       "SEXUALLY TRANSMITTED INFECTIONS                               1\n",
       "AMERICAN JOURNAL OF MEDICAL GENETICS PART A                   1\n",
       "MEDICAL HUMANITIES                                            1\n",
       "OPTICS EXPRESS                                                1\n",
       "JOURNAL OF VIROL                                              1\n",
       "MOLECULAR AND CELLULAR BIOLOGY                                1\n",
       "CIRCULATION RESEARCH                                          1\n",
       "JOURNAL OF ENDOCRINOLOGY                                      1\n",
       "THE EUROPEAN JOURNAL OF NEUROSCIENCE                          1\n",
       "DEVELOPMENT GENES AND EVOLUTION                               1\n",
       "JOURNAL OF CYCSTIC FIBROSIS                                   1\n",
       "ACS CHEMICAL NEUROSCIENCE                                     1\n",
       "JOURNAL OF NEUROCHEMISTRY                                     1\n",
       "BIOCONJUGATE CHEMISTRY                                        1\n",
       "PUBLIC LIBRARY OF SCIENCE ONE                                 1\n",
       "JOURNAL OF NEUROSCIENCE                                       1\n",
       "SGM OPEN OPTION                                               1\n",
       "JOURNAL OF COGNITIVE NEUROSCIENCE                             1\n",
       "BRITISH MEDICAL BULLETIN                                      1\n",
       "AMERICAL JOURNAL OF PSYCHIATRY                                1\n",
       "INTERNATIONAL JOURNAL OF EXPERIMENTAL PATHOLOGY               1\n",
       "BMC GENOMICS.                                                 1\n",
       "J MOL BIOL                                                    1\n",
       "JOURNAL OF ACQUIRED IMMUNE DEFICIENCY SYNDROMES               1\n",
       "JOURNAL OF VISUALIZED EXPERIMENTS                             1\n",
       "Name: clean_journal, Length: 928, dtype: int64"
      ]
     },
     "execution_count": 98,
     "metadata": {},
     "output_type": "execute_result"
    }
   ],
   "source": [
    "df['clean_journal'] =df['Journal'].str.strip()\n",
    "df['clean_journal'] =df['Journal'].str.upper()\n",
    "df['clean_journal'].value_counts()"
   ]
  },
  {
   "cell_type": "markdown",
   "metadata": {},
   "source": [
    "From this, we can already see that some of the Journal like Plos One have been cleaned and grouped.\n",
    "Now we have 900 unique journal titles, versus almost 1000 prior. We are not done yet, at there is still cleaning. \n",
    "There are still misspellings and issues with puncuation. For example, there is a Plos One as well as a Plosone"
   ]
  },
  {
   "cell_type": "markdown",
   "metadata": {},
   "source": [
    "Next I should remove the punctuation and other symbols, so I can more easily look for duplicates or errors. "
   ]
  },
  {
   "cell_type": "code",
   "execution_count": 99,
   "metadata": {
    "collapsed": true
   },
   "outputs": [],
   "source": [
    "df['clean_journal'] = df['clean_journal'].str.replace('&', 'AND')\n",
    "df['clean_journal'] = df['clean_journal'].str.replace('THE ', '')\n",
    "df['clean_journal'] = df['clean_journal'].str.replace('.', '')\n",
    "df['clean_journal'] = df['clean_journal'].str.replace('OF ', '')\n",
    "df['clean_journal'] = df['clean_journal'].str.replace('FOR ', '')\n",
    "df['clean_journal'] = df['clean_journal'].str.replace(' IN ', ' ')\n",
    "df['clean_journal'] = df['clean_journal'].str.replace(':', '')\n",
    "df['clean_journal'] = df['clean_journal'].str.replace(',', '')\n",
    "df['clean_journal'] = df['clean_journal'].str.replace(' - ',' ')\n",
    "df['clean_journal'] =df['clean_journal'].str.strip()"
   ]
  },
  {
   "cell_type": "code",
   "execution_count": 100,
   "metadata": {},
   "outputs": [
    {
     "data": {
      "text/plain": [
       "PLOS ONE                                     190\n",
       "JOURNAL BIOLOGICAL CHEMISTRY                  61\n",
       "NEUROIMAGE                                    29\n",
       "NUCLEIC ACIDS RESEARCH                        26\n",
       "PLOS PATHOGENS                                24\n",
       "PLOS GENETICS                                 24\n",
       "PROCEEDINGS NATIONAL ACADEMY SCIENCES         22\n",
       "PLOS NEGLECTED TROPICAL DISEASES              20\n",
       "HUMAN MOLECULAR GENETICS                      19\n",
       "NATURE COMMUNICATIONS                         19\n",
       "JOURNAL NEUROSCIENCE                          15\n",
       "MOVEMENT DISORDERS                            15\n",
       "BRAIN                                         14\n",
       "BMC PUBLIC HEALTH                             14\n",
       "BIOCHEMICAL JOURNAL                           14\n",
       "DEVELOPMENTAL CELL                            12\n",
       "JOURNAL GENERAL VIROLOGY                      11\n",
       "FASEB JOURNAL                                 11\n",
       "CURRENT BIOLOGY                               11\n",
       "MALARIA JOURNAL                               10\n",
       "BMJ                                           10\n",
       "NEURON                                         9\n",
       "BMJ OPEN                                       9\n",
       "AMERICAN JOURNAL HUMAN GENETICS                9\n",
       "JOURNAL VIROLOGY                               9\n",
       "JOURNAL PHYSIOLOGY                             9\n",
       "PLOS COMPUTATIONAL BIOLOGY                     9\n",
       "EMBO JOURNAL                                   9\n",
       "DEVELOPMENT                                    9\n",
       "PLOSONE                                        9\n",
       "                                            ... \n",
       "CHILD PSYCHOLOGY PSYCHIATRY                    1\n",
       "AMERICAN SOCIETY NUTRITION                     1\n",
       "EXPERIMENTAL HEMATOLOGY                        1\n",
       "PROC NATL ACAD SCI U S A                       1\n",
       "PUBLIC LIBRARY SCIENCE ONE                     1\n",
       "PLOS NEGECTED TROPICAL DISEASES                1\n",
       "AMERICAN JOURNAL PATHOLOGY                     1\n",
       "INFECTION GENETICS AND EVOLUTION               1\n",
       "JOUNRAL CLINICAL MICROBIOLOGY                  1\n",
       "JOURNAL SLEEP RESEARCH                         1\n",
       "TETRAHEDRON LETTERS                            1\n",
       "JOURNAL VISION                                 1\n",
       "FRONTIERS INTEGRATIVE NEUROSCIENCE             1\n",
       "PULMONARY PHARMACOLOGY AND THERAPEUTICS        1\n",
       "CRIMINAL BEHAVIOR AND MENTAL HEALTH            1\n",
       "BRT JNL CLINICAL PHARMACOLOGY                  1\n",
       "ZOONOSES AND PUBLIC HEALTH                     1\n",
       "INT JOURNAL PARASITOLOGY                       1\n",
       "STEM CELLS AND DEVELOPMENT                     1\n",
       "NUTRITION JOURNAL                              1\n",
       "OPTICS EXPRESS                                 1\n",
       "JOURNAL OD CLINICAL ENDOCRINOLOGY              1\n",
       "PROCEEDINGS NATIONAL ACADEMY SCIENCES USA      1\n",
       "JOURNAL MICROBIOLOGY                           1\n",
       "MATH BIOSCI                                    1\n",
       "JOURNAL MOLECULAR NEUROSCIENCE                 1\n",
       "PYSCHOLOGICAL MEDICINE                         1\n",
       "EXPERIMENTAL CELL RESEARCH                     1\n",
       "VETERINARY RESEARCH                            1\n",
       "INYERNATIONAL JOURNAL EPIDEMIOLOGY             1\n",
       "Name: clean_journal, Length: 853, dtype: int64"
      ]
     },
     "execution_count": 100,
     "metadata": {},
     "output_type": "execute_result"
    }
   ],
   "source": [
    "df['clean_journal'].value_counts()"
   ]
  },
  {
   "cell_type": "markdown",
   "metadata": {
    "collapsed": true
   },
   "source": [
    "After inspecting the data, I want to go in an replace items that are still incorrect, which are mostly spelling errors"
   ]
  },
  {
   "cell_type": "code",
   "execution_count": 101,
   "metadata": {
    "collapsed": true
   },
   "outputs": [],
   "source": [
    "#other msc. misppellings\n",
    "df['clean_journal'] = df['clean_journal'].str.replace('AGFENTS','AGENTS')\n",
    "df['clean_journal'] = df['clean_journal'].str.replace('ANTIMICOBIAL','ANTIMICROBIAL')\n",
    "df['clean_journal'] = df['clean_journal'].str.replace('BEHAVIOUR ','BEHAVIOR ')\n",
    "df['clean_journal'] = df['clean_journal'].str.replace('BEHAVIOURAL ','BEHAVIORAL ')\n",
    "df['clean_journal'] = df['clean_journal'].str.replace('JNL ','JOURNAL ')\n",
    "df['clean_journal'] = df['clean_journal'].str.replace('BRT ','BRITISH ')\n",
    "df['clean_journal'] = df['clean_journal'].str.replace('INT ','INTERNATIONAL ')\n",
    "df['clean_journal'] = df['clean_journal'].str.replace('JOUNRAL ','JOURNAL ')\n",
    "df['clean_journal'] = df['clean_journal'].str.replace('JOUNAL ','JOURNAL ')\n",
    "df['clean_journal'] = df['clean_journal'].str.replace('JOURAL ','JOURNAL ')\n",
    "df['clean_journal'] = df['clean_journal'].str.replace('JOURNALS','JOURNAL')\n",
    "df['clean_journal'] = df['clean_journal'].str.replace('BIOOHYSICA','BIOPHYSICA')\n",
    "df['clean_journal'] = df['clean_journal'].str.replace('BIINFORMATICS','BIOINFORMATICS')\n",
    "df['clean_journal'] = df['clean_journal'].str.replace('BIOLOGICIAL','BIOLOGICAL')\n",
    "df['clean_journal'] = df['clean_journal'].str.replace('BIOL CHEM','BIOLOGICAL CHEMISTRY')\n",
    "df['clean_journal'] = df['clean_journal'].str.replace('BIOL CHEMISTRY','BIOLOGICAL CHEMISTRY')\n",
    "df['clean_journal'] = df['clean_journal'].str.replace('J BIOL CHEM','BIOLOGICAL CHEMISTRY')\n",
    "df['clean_journal'] = df['clean_journal'].str.replace('J BIOL CHEMISTRY','BIOLOGICAL CHEMISTRY')\n",
    "df['clean_journal'] = df['clean_journal'].str.replace('BMS ','BMC ')\n",
    "df['clean_journal'] = df['clean_journal'].str.replace('OPTHALMOLOGY','OPHTHALMOLOGY')\n",
    "df['clean_journal'] = df['clean_journal'].str.replace('ONLINE','')\n",
    "df['clean_journal'] = df['clean_journal'].str.replace('PRINT','')\n",
    "df['clean_journal'] = df['clean_journal'].str.replace('CURR BIOL','CURRENT BIOLOGY')\n",
    "df['clean_journal'] = df['clean_journal'].str.replace('EPIGENTICS','EPIGENETICS')\n",
    "# df['clean_journal'] = df['clean_journal'].str.replace('EPIDEMIOL','EPIDEMIOLOGY')\n",
    "df['clean_journal'] = df['clean_journal'].str.replace(' J ',' JOURNAL ')\n",
    "df['clean_journal'] = df['clean_journal'].str.replace('HEPTOLOGY','HEPATOLOGY')\n",
    "df['clean_journal'] = df['clean_journal'].str.replace('MOL ','MOLECULAR ')\n",
    "df['clean_journal'] = df['clean_journal'].str.replace('INYERNATIONAL','INTERNATIONAL')\n",
    "df['clean_journal'] = df['clean_journal'].str.replace('PLOSONE','PLOS ONE')\n",
    "df['clean_journal'] = df['clean_journal'].str.replace('PLOS  ONE','PLOS ONE')\n",
    "df['clean_journal'] = df['clean_journal'].str.replace('PUBLIC LIBRARY SCIENCE ONE','PLOS ONE')\n",
    "df['clean_journal'] = df['clean_journal'].str.replace('PUBLIC LIBRARY SCIENCE','PLOS ONE')\n",
    "df['clean_journal'] = df['clean_journal'].str.replace('PLOS 1','PLOS ONE')\n",
    "# df['clean_journal'] = df['clean_journal'].str.replace('BIOCHEM','BIOCHEMICAL')\n",
    "df['clean_journal'] = df['clean_journal'].str.replace('MOL BIOL','MOLECULAR BIOLOGY')\n",
    "df['clean_journal'] = df['clean_journal'].str.replace('J MOLECULAR','JOURNAL MOLECULAR')\n",
    "df['clean_journal'] = df['clean_journal'].str.replace(' OD ',' ')\n",
    "df['clean_journal'] = df['clean_journal'].str.replace('EXPERIEMENTS','EXPERIMENTS')\n",
    "df['clean_journal'] = df['clean_journal'].str.replace('EXPERMIMENTS','EXPERIMENTS')\n",
    "df['clean_journal'] = df['clean_journal'].str.replace('NEUROLMAGE','NEUROIMAGE')\n",
    "df['clean_journal'] = df['clean_journal'].str.replace('ACID ','ACIDS ')\n",
    "df['clean_journal'] = df['clean_journal'].str.replace('AMERICAL','AMERICAN')\n",
    "df['clean_journal'] = df['clean_journal'].str.replace('BRITSH','BRITISH')\n",
    "\n",
    "\n",
    "\n",
    "df['clean_journal'] =df['clean_journal'].str.strip()"
   ]
  },
  {
   "cell_type": "markdown",
   "metadata": {},
   "source": [
    "For all of the other errors with the entries (whether from abbreviations, or other inconsistencies) I will manually change the title with lambda expressions. Note, I am not changing all errors, particularly the dirt for Journals that do not have a high count in the dataset to begin with. "
   ]
  },
  {
   "cell_type": "code",
   "execution_count": 102,
   "metadata": {
    "collapsed": true
   },
   "outputs": [],
   "source": [
    "#ACTA journals from International Union of Crystallography \n",
    "df['clean_journal'] = df['clean_journal'].apply(lambda x: 'ACTA D' if 'ACTA CRYSTALLOGRAPHICA SECTION D' in x else x)\n",
    "df['clean_journal'] = df['clean_journal'].apply(lambda x: 'ACTA D' if 'ACTA CRYSTALLOGRAPHY D' in x else x)\n",
    "df['clean_journal'] = df['clean_journal'].apply(lambda x: 'ACTA F' if 'ACTA CRYSTALLOGRAPHICA SECTION F' in x else x)\n",
    "#ACTA Neuropathology\n",
    "df['clean_journal'] = df['clean_journal'].apply(lambda x: 'ACTA NEUROPATHOLOGICA' if 'ACTA NEUROPATHOL' in x else x)\n",
    "#AIDS Journal by Wolters Kluwer\n",
    "df['clean_journal'] = df['clean_journal'].apply(lambda x: 'AIDS JOURNAL' if 'AIDS' == x else x)\n",
    "df['clean_journal'] = df['clean_journal'].apply(lambda x: 'AIDS JOURNAL' if 'AIDS UK' == x else x)\n",
    "#AMERICAN JOURNAL MEDICAL GENETICS\n",
    "df['clean_journal'] = df['clean_journal'].apply(lambda x: 'AMERICAN JOURNAL MEDICAL GENETICS' if \\\n",
    "                                                'AMERICAN JOURNAL MEDICAL GENETICS PART A' in x else x)\n",
    "#ANGEWANDTE CHEMIE\n",
    "df['clean_journal'] = df['clean_journal'].apply(lambda x: 'ANGEWANDTE CHEMIE INTERNATIONAL EDITION' if \\\n",
    "                                                'ANGEWANDE CHEMIE' in x else x)\n",
    "df['clean_journal'] = df['clean_journal'].apply(lambda x: 'ANGEWANDTE CHEMIE INTERNATIONAL EDITION' if \\\n",
    "                                                'ANGEWANDTE CHEMIE' in x else x)\n",
    "df['clean_journal'] = df['clean_journal'].apply(lambda x: 'ANGEWANDTE CHEMIE INTERNATIONAL EDITION' if \\\n",
    "                                                'ANGEW CHEMS INTERNATIONAL ED' in x else x)\n",
    "#DEVELOPING WORLD BIOETHICS\n",
    "df['clean_journal'] = df['clean_journal'].apply(lambda x: 'DEVELOPING WORLD BIOETHICS' if 'DEV WORLD BIOETH' in x else x)\n",
    "#AMERICAN JOURNAL TROPICAL MEDICINE AND HYGIENE\n",
    "df['clean_journal'] = df['clean_journal'].apply(lambda x: 'AMERICAN JOURNAL TROPICAL MEDICINE AND HYGIENE' \\\n",
    "                                                if 'AM JOURNAL TROP MED HYG' in x else x)\n",
    "#TROPICAL MEDICINE AND INTERNATIONAL HEALTH\n",
    "df['clean_journal'] = df['clean_journal'].apply(lambda x: 'TROPICAL MEDICINE AND INTERNATIONAL HEALTH' \\\n",
    "                                                if 'TROP MED INTERNATIONAL HEALTH' in x else x)\n",
    "#BIOCHEMICAL SOCIETY TRANSACTIONS\n",
    "df['clean_journal'] = df['clean_journal'].apply(lambda x: 'BIOCHEMICAL SOCIETY TRANSACTIONS' \\\n",
    "                                                if 'BIOCHEM SOC TRANS' in x else x)\n",
    "#BIOINFORMATICS \n",
    "df['clean_journal'] = df['clean_journal'].apply(lambda x: 'BIOINFORMATICS' if 'BIOINFORMATICS ONLINE' in x else x)\n",
    "#BIOLOGY OPEN\n",
    "df['clean_journal'] = df['clean_journal'].apply(lambda x: 'BIOLOGY OPEN' if 'BIOL OPEN' in x else x)\n",
    "#JOURNAL OF BIOLOGICAL CHEMISTRY\n",
    "df['clean_journal'] = df['clean_journal'].apply(lambda x: 'JOURNAL OF BIOLOGICAL CHEMISTRY' \\\n",
    "                                                if 'BIOLOGICAL CHEMISTRY' in x else x)\n",
    "#CELL JOURNAL\n",
    "df['clean_journal'] = df['clean_journal'].apply(lambda x: 'CELL JOURNAL' if 'CELL' == x else x)\n",
    "#CELL DEATH AND DIFFERENTIATION\n",
    "df['clean_journal'] = df['clean_journal'].apply(lambda x: 'CELL DEATH AND DIFFERENTIATION' \\\n",
    "                                                if 'CELL DEATH DIFFERENTIATION' in x else x)\n",
    "#CHILD CARE HEATH AND DEVELOPMENT\n",
    "df['clean_journal'] = df['clean_journal'].apply(lambda x: 'CHILD CARE HEATH AND DEVELOPMENT' \\\n",
    "                                                if 'CHILD CARE HEALTH DEVELOPMENT' in x else x)\n",
    "#BIOCHIMICA ET BIOOHYSICA ACTA MOLECULAR BASIS DISEASE\n",
    "df['clean_journal'] = df['clean_journal'].apply(lambda x: 'BIOCHIMICA ET BIOPHYSICA ACTA MOLECULAR BASIS DISEASE' \\\n",
    "                                                if 'BBA ' in x else x)\n",
    "#CLINICAL INFECTIOUS DISEASES\n",
    "df['clean_journal'] = df['clean_journal'].apply(lambda x: 'CLINICAL INFECTIOUS DISEASES' \\\n",
    "                                                if 'CLINICLA INFECTIOUS DISEASE' in x else x)\n",
    "#JOURNAL INFECTIOUS DISEASES\n",
    "df['clean_journal'] = df['clean_journal'].apply(lambda x: 'JOURNAL INFECTIOUS DISEASES' \\\n",
    "                                                if 'J INFECT DIS' in x else x)\n",
    "#EMBO JOURNAL\n",
    "df['clean_journal'] = df['clean_journal'].apply(lambda x: 'EMBO JOURNAL' if 'EMBO' == x else x)\n",
    "#EUROPEAN JOURNAL IMMUNOLOGY\n",
    "df['clean_journal'] = df['clean_journal'].apply(lambda x: 'EUROPEAN JOURNAL IMMUNOLOGY' if 'EUR JOURNAL IMMUNOL' in x else x)\n",
    "#FEBS JOURNAL\n",
    "df['clean_journal'] = df['clean_journal'].apply(lambda x: 'FEBS JOURNAL' if 'FEBS J' == x else x)\n",
    "#JOURNAL CLINICAL VIROLOGY\n",
    "df['clean_journal'] = df['clean_journal'].apply(lambda x: 'JOURNAL CLINICAL VIROLOGY' if 'VIROLOGY' == x else x)\n",
    "#HUMAN MUTATION\n",
    "df['clean_journal'] = df['clean_journal'].apply(lambda x: 'HUMAN MUTATION' if 'HUMAN MUTATION' in x else x)\n",
    "#JOURNAL ACQUIRED IMMUNE DEFICIENCY SYNDROMES\n",
    "df['clean_journal'] = df['clean_journal'].apply(lambda x: 'JOURNAL ACQUIRED IMMUNE DEFICIENCY SYNDROMES'\\\n",
    "                                                if 'ACQUIRED IMMUNE DEFICIENCY' in x else x)\n",
    "#JOURNAL IMMUNOLOGY\n",
    "df['clean_journal'] = df['clean_journal'].apply(lambda x: 'JOURNAL IMMUNOLOGY' if 'J IMMUNOL' in x else x)\n",
    "#JOURNAL CELL SCIENCE\n",
    "df['clean_journal'] = df['clean_journal'].apply(lambda x: 'JOURNAL CELL SCIENCE' if 'J CELL SCI' in x else x)\n",
    "#JOURNAL CLINICAL MICROBIOLOGY\n",
    "df['clean_journal'] = df['clean_journal'].apply(lambda x: 'JOURNAL CLINICAL MICROBIOLOGY' if 'J CLIN MICROBIOL' in x else x)\n",
    "#JOURNAL MEDICINAL CHEMISTRY\n",
    "df['clean_journal'] = df['clean_journal'].apply(lambda x: 'JOURNAL MEDICINAL CHEMISTRY' if 'J MED CHEM' == x else x)\n",
    "#JOURNAL MECHANISMS AGEING AND DEVELOPMENT\n",
    "df['clean_journal'] = df['clean_journal'].apply(lambda x: 'JOURNAL MECHANISMS AGEING AND DEVELOPMENT' \\\n",
    "                                                if 'MECHANISMS AGEING AND DEVELOPMENT' in x else x)\n",
    "#JOURNAL MICROBIOLOGY\n",
    "df['clean_journal'] = df['clean_journal'].apply(lambda x: 'JOURNAL MICROBIOLOGY' if 'MICROBIOLOGY' == x else x)\n",
    "#PARASITES AND VECTORS\n",
    "df['clean_journal'] = df['clean_journal'].apply(lambda x: 'PARASITES AND VECTORS' if 'PARASIT VECTORS' == x else x)\n",
    "#PROCEEDINGS NATIONAL ACADEMY SCIENCES\n",
    "df['clean_journal'] = df['clean_journal'].apply(lambda x: 'PROCEEDINGS NATIONAL ACADEMY SCIENCES' if 'PNAS' in x else x)\n",
    "df['clean_journal'] = df['clean_journal'].apply(lambda x: 'PROCEEDINGS NATIONAL ACADEMY SCIENCES' if 'PROCEDDINGS' in x else x)\n",
    "df['clean_journal'] = df['clean_journal'].apply(lambda x: 'PROCEEDINGS NATIONAL ACADEMY SCIENCES' \\\n",
    "                                                if 'PROC NATL ACAD SCI U S A' in x else x)\n",
    "df['clean_journal'] = df['clean_journal'].apply(lambda x: 'PROCEEDINGS NATIONAL ACADEMY SCIENCES' \\\n",
    "                                                if 'PROCEEDINGS NATIONAL ACADEMY SCIENCES UNITED STATES AMERICA' in x else x)\n",
    "df['clean_journal'] = df['clean_journal'].apply(lambda x: 'PROCEEDINGS NATIONAL ACADEMY SCIENCES' \\\n",
    "                                                if 'PROCEEDINGS NATIONAL ACADEMY SCIENCES USA' in x else x)\n",
    "#Public Library of Science\n",
    "df['clean_journal'] = df['clean_journal'].apply(lambda x: 'PLOS ONE' if 'PLOS' == x else x)"
   ]
  },
  {
   "cell_type": "code",
   "execution_count": 103,
   "metadata": {},
   "outputs": [
    {
     "data": {
      "text/plain": [
       "PLOS ONE                                                                        213\n",
       "JOURNAL OF BIOLOGICAL CHEMISTRY                                                  73\n",
       "PROCEEDINGS NATIONAL ACADEMY SCIENCES                                            37\n",
       "NEUROIMAGE                                                                       31\n",
       "NUCLEIC ACIDS RESEARCH                                                           29\n",
       "PLOS GENETICS                                                                    24\n",
       "PLOS PATHOGENS                                                                   24\n",
       "HUMAN MOLECULAR GENETICS                                                         21\n",
       "PLOS NEGLECTED TROPICAL DISEASES                                                 20\n",
       "NATURE COMMUNICATIONS                                                            19\n",
       "BRAIN                                                                            18\n",
       "MOVEMENT DISORDERS                                                               15\n",
       "JOURNAL NEUROSCIENCE                                                             15\n",
       "BIOCHEMICAL JOURNAL                                                              15\n",
       "BMC PUBLIC HEALTH                                                                14\n",
       "JOURNAL MEDICINAL CHEMISTRY                                                      13\n",
       "CURRENT BIOLOGY                                                                  12\n",
       "DEVELOPMENTAL CELL                                                               12\n",
       "FASEB JOURNAL                                                                    11\n",
       "CEREBRAL CORTEX                                                                  11\n",
       "JOURNAL GENERAL VIROLOGY                                                         11\n",
       "EMBO JOURNAL                                                                     10\n",
       "BMJ                                                                              10\n",
       "MALARIA JOURNAL                                                                  10\n",
       "AMERICAN JOURNAL HUMAN GENETICS                                                  10\n",
       "EUROPEAN JOURNAL IMMUNOLOGY                                                       9\n",
       "NEURON                                                                            9\n",
       "JOURNAL CELL SCIENCE                                                              9\n",
       "JOURNAL PHYSIOLOGY                                                                9\n",
       "HEPATOLOGY                                                                        9\n",
       "                                                                               ... \n",
       "NICOTINE AND TOBACO RESEARCH                                                      1\n",
       "CHEST                                                                             1\n",
       "JOURNAL CELL PHYSIOLOGY                                                           1\n",
       "CHANNELS                                                                          1\n",
       "ANNALS HUMAN GENETICS                                                             1\n",
       "ACADEMY NUTRITION AND DIETETICS                                                   1\n",
       "DEVELOPMENT DYNAMICS                                                              1\n",
       "JOURNAL AMERICAN SOCIETY MASS SPECTROMETRY                                        1\n",
       "ALCOHOL AND ALCOHOLISM                                                            1\n",
       "INTERNATIONAL IMMUNOLOGY                                                          1\n",
       "DEVELOPMENT SCIENCE                                                               1\n",
       "JOURNAL INTERNATIONAL NEUROPSYCHOLOGICAL SOCIETY                                  1\n",
       "FRONTIERS INFLAMMATION                                                            1\n",
       "FRONTIERS GENETICS                                                                1\n",
       "CLINICAL AND VACCINE IMMUNOLOGY                                                   1\n",
       "INFECTION GENETICS AND EVOLUTION                                                  1\n",
       "FRONTIERS ENDOCRINOLOGY                                                           1\n",
       "JOURNAL COMPUTATIONAL NEUROSCIENCE                                                1\n",
       "PHILOSOPHICAL TRANSACTIONS ROYAL SOCIETY LONDON SERIES B BIOLOGICAL SCIENCES      1\n",
       "BIOSCIENCE REPORTS                                                                1\n",
       "JOURNAL AMERICAN CHEMICAL SOCIETY                                                 1\n",
       "INFLAMMATION RESEARCH                                                             1\n",
       "BMC  PUBLIC HEALTH                                                                1\n",
       "CURRENT OPINION MICROBIOLOGY                                                      1\n",
       "ANAL BIOANAL CHEM                                                                 1\n",
       "N BIOTECHNOL                                                                      1\n",
       "DATABASE                                                                          1\n",
       "PYSCHOLOGICAL MEDICINE                                                            1\n",
       "ENGLISH STUDIES                                                                   1\n",
       "EXPERIMENTAL EYE RESEARCH                                                         1\n",
       "Name: clean_journal, Length: 762, dtype: int64"
      ]
     },
     "execution_count": 103,
     "metadata": {},
     "output_type": "execute_result"
    }
   ],
   "source": [
    "df['clean_journal'] =df['clean_journal'].str.strip()\n",
    "df['clean_journal'].value_counts()"
   ]
  },
  {
   "cell_type": "markdown",
   "metadata": {},
   "source": [
    "OK, now my Journal are (mostly) clean--clean enough to find the most popular journals. \n"
   ]
  },
  {
   "cell_type": "code",
   "execution_count": 104,
   "metadata": {},
   "outputs": [
    {
     "data": {
      "text/plain": [
       "PLOS ONE                                 213\n",
       "JOURNAL OF BIOLOGICAL CHEMISTRY           73\n",
       "PROCEEDINGS NATIONAL ACADEMY SCIENCES     37\n",
       "NEUROIMAGE                                31\n",
       "NUCLEIC ACIDS RESEARCH                    29\n",
       "Name: clean_journal, dtype: int64"
      ]
     },
     "execution_count": 104,
     "metadata": {},
     "output_type": "execute_result"
    }
   ],
   "source": [
    "df['clean_journal'].value_counts().head(5)"
   ]
  },
  {
   "cell_type": "markdown",
   "metadata": {
    "collapsed": true
   },
   "source": [
    "These are the 5 most common journals by count. Now I need to remove the symbols from costs and convert to float. "
   ]
  },
  {
   "cell_type": "code",
   "execution_count": 105,
   "metadata": {
    "collapsed": true
   },
   "outputs": [],
   "source": [
    "df['Cost'] = df['Cost'].str.lstrip('£').str.rstrip('$').astype(float)"
   ]
  },
  {
   "cell_type": "code",
   "execution_count": 106,
   "metadata": {},
   "outputs": [
    {
     "data": {
      "text/plain": [
       "count      2126.000000\n",
       "mean      24072.451609\n",
       "std      146895.027687\n",
       "min           0.000000\n",
       "25%        1280.000000\n",
       "50%        1883.860000\n",
       "75%        2321.230000\n",
       "max      999999.000000\n",
       "Name: Cost, dtype: float64"
      ]
     },
     "execution_count": 106,
     "metadata": {},
     "output_type": "execute_result"
    }
   ],
   "source": [
    "df.Cost.describe()"
   ]
  },
  {
   "cell_type": "markdown",
   "metadata": {},
   "source": [
    "There are clearly high and low Cost per Articles in the data set. I am going to remove any costs 1.5 * IQR above the 3rd quartile(no observations are 1.5 * IQR below 1st quartile)\n",
    "\n",
    "#Can i winsorize? Is it ok to remove the outliers above 1.5 time IQR"
   ]
  },
  {
   "cell_type": "code",
   "execution_count": 107,
   "metadata": {
    "collapsed": true
   },
   "outputs": [],
   "source": [
    "df[df['Cost']>3883] = None"
   ]
  },
  {
   "cell_type": "code",
   "execution_count": null,
   "metadata": {
    "collapsed": true
   },
   "outputs": [],
   "source": [
    "df_top5 = df.groupby('clean_journal')['revenue_M'].agg(['mean','count']).\\\n",
    "                                  rename(columns={'mean':'avg_revenue','count':'actor_1_count'})"
   ]
  },
  {
   "cell_type": "code",
   "execution_count": 108,
   "metadata": {},
   "outputs": [
    {
     "data": {
      "text/plain": [
       "count    2036.000000\n",
       "mean     1774.272191\n",
       "std       693.854948\n",
       "min         0.000000\n",
       "25%      1260.000000\n",
       "50%      1834.770000\n",
       "75%      2282.632500\n",
       "max      3882.410000\n",
       "Name: Cost, dtype: float64"
      ]
     },
     "execution_count": 108,
     "metadata": {},
     "output_type": "execute_result"
    }
   ],
   "source": [
    "df.Cost.describe()"
   ]
  },
  {
   "cell_type": "markdown",
   "metadata": {},
   "source": [
    "### Finding Stats\n"
   ]
  },
  {
   "cell_type": "code",
   "execution_count": 109,
   "metadata": {},
   "outputs": [
    {
     "data": {
      "text/html": [
       "<div>\n",
       "<style>\n",
       "    .dataframe thead tr:only-child th {\n",
       "        text-align: right;\n",
       "    }\n",
       "\n",
       "    .dataframe thead th {\n",
       "        text-align: left;\n",
       "    }\n",
       "\n",
       "    .dataframe tbody tr th {\n",
       "        vertical-align: top;\n",
       "    }\n",
       "</style>\n",
       "<table border=\"1\" class=\"dataframe\">\n",
       "  <thead>\n",
       "    <tr style=\"text-align: right;\">\n",
       "      <th></th>\n",
       "      <th>Count</th>\n",
       "      <th>Mean</th>\n",
       "      <th>Median</th>\n",
       "      <th>Std</th>\n",
       "    </tr>\n",
       "  </thead>\n",
       "  <tbody>\n",
       "    <tr>\n",
       "      <th>PLOS ONE</th>\n",
       "      <td>204</td>\n",
       "      <td>None</td>\n",
       "      <td>None</td>\n",
       "      <td>None</td>\n",
       "    </tr>\n",
       "    <tr>\n",
       "      <th>JOURNAL OF BIOLOGICAL CHEMISTRY</th>\n",
       "      <td>71</td>\n",
       "      <td>None</td>\n",
       "      <td>None</td>\n",
       "      <td>None</td>\n",
       "    </tr>\n",
       "    <tr>\n",
       "      <th>PROCEEDINGS NATIONAL ACADEMY SCIENCES</th>\n",
       "      <td>36</td>\n",
       "      <td>None</td>\n",
       "      <td>None</td>\n",
       "      <td>None</td>\n",
       "    </tr>\n",
       "    <tr>\n",
       "      <th>NEUROIMAGE</th>\n",
       "      <td>31</td>\n",
       "      <td>None</td>\n",
       "      <td>None</td>\n",
       "      <td>None</td>\n",
       "    </tr>\n",
       "    <tr>\n",
       "      <th>NUCLEIC ACIDS RESEARCH</th>\n",
       "      <td>29</td>\n",
       "      <td>None</td>\n",
       "      <td>None</td>\n",
       "      <td>None</td>\n",
       "    </tr>\n",
       "  </tbody>\n",
       "</table>\n",
       "</div>"
      ],
      "text/plain": [
       "                                       Count  Mean Median   Std\n",
       "PLOS ONE                                 204  None   None  None\n",
       "JOURNAL OF BIOLOGICAL CHEMISTRY           71  None   None  None\n",
       "PROCEEDINGS NATIONAL ACADEMY SCIENCES     36  None   None  None\n",
       "NEUROIMAGE                                31  None   None  None\n",
       "NUCLEIC ACIDS RESEARCH                    29  None   None  None"
      ]
     },
     "execution_count": 109,
     "metadata": {},
     "output_type": "execute_result"
    }
   ],
   "source": [
    "df_stats = df['clean_journal'].value_counts().to_frame()\n",
    "df_stats.rename(columns={'clean_journal': 'Count'}, inplace=True)\n",
    "df_stats['Mean'] = None\n",
    "df_stats['Median'] = None\n",
    "df_stats['Std'] = None\n",
    "df_stats.head(5)"
   ]
  },
  {
   "cell_type": "code",
   "execution_count": 110,
   "metadata": {},
   "outputs": [
    {
     "data": {
      "text/html": [
       "<div>\n",
       "<style>\n",
       "    .dataframe thead tr:only-child th {\n",
       "        text-align: right;\n",
       "    }\n",
       "\n",
       "    .dataframe thead th {\n",
       "        text-align: left;\n",
       "    }\n",
       "\n",
       "    .dataframe tbody tr th {\n",
       "        vertical-align: top;\n",
       "    }\n",
       "</style>\n",
       "<table border=\"1\" class=\"dataframe\">\n",
       "  <thead>\n",
       "    <tr style=\"text-align: right;\">\n",
       "      <th></th>\n",
       "      <th>Count</th>\n",
       "      <th>Mean</th>\n",
       "      <th>Median</th>\n",
       "      <th>Std</th>\n",
       "    </tr>\n",
       "  </thead>\n",
       "  <tbody>\n",
       "    <tr>\n",
       "      <th>PLOS ONE</th>\n",
       "      <td>204</td>\n",
       "      <td>937.966</td>\n",
       "      <td>897.61</td>\n",
       "      <td>192.877</td>\n",
       "    </tr>\n",
       "    <tr>\n",
       "      <th>JOURNAL OF BIOLOGICAL CHEMISTRY</th>\n",
       "      <td>71</td>\n",
       "      <td>1378.14</td>\n",
       "      <td>1311.73</td>\n",
       "      <td>388.554</td>\n",
       "    </tr>\n",
       "    <tr>\n",
       "      <th>PROCEEDINGS NATIONAL ACADEMY SCIENCES</th>\n",
       "      <td>36</td>\n",
       "      <td>772.919</td>\n",
       "      <td>732.01</td>\n",
       "      <td>370.192</td>\n",
       "    </tr>\n",
       "    <tr>\n",
       "      <th>NEUROIMAGE</th>\n",
       "      <td>31</td>\n",
       "      <td>2212.18</td>\n",
       "      <td>2326.43</td>\n",
       "      <td>273.193</td>\n",
       "    </tr>\n",
       "    <tr>\n",
       "      <th>NUCLEIC ACIDS RESEARCH</th>\n",
       "      <td>29</td>\n",
       "      <td>1162.34</td>\n",
       "      <td>852</td>\n",
       "      <td>442.151</td>\n",
       "    </tr>\n",
       "  </tbody>\n",
       "</table>\n",
       "</div>"
      ],
      "text/plain": [
       "                                       Count     Mean   Median      Std\n",
       "PLOS ONE                                 204  937.966   897.61  192.877\n",
       "JOURNAL OF BIOLOGICAL CHEMISTRY           71  1378.14  1311.73  388.554\n",
       "PROCEEDINGS NATIONAL ACADEMY SCIENCES     36  772.919   732.01  370.192\n",
       "NEUROIMAGE                                31  2212.18  2326.43  273.193\n",
       "NUCLEIC ACIDS RESEARCH                    29  1162.34      852  442.151"
      ]
     },
     "execution_count": 110,
     "metadata": {},
     "output_type": "execute_result"
    }
   ],
   "source": [
    "for title in df_stats.index:\n",
    "    df_stats.loc[title, 'Mean'] = df[df['clean_journal']==title]['Cost'].mean()\n",
    "    df_stats.loc[title, 'Median'] = df[df['clean_journal']==title]['Cost'].median()\n",
    "    df_stats.loc[title, 'Std'] = df[df['clean_journal']==title]['Cost'].std()  \n",
    "\n",
    "df_stats.head(5)"
   ]
  },
  {
   "cell_type": "markdown",
   "metadata": {
    "collapsed": true
   },
   "source": [
    "## Future Work/Changes I would make\n",
    "I would obviously want to do further cleaning of the journal titles. \n",
    "Originally, I was going to remove 'Journal' completely to filter for duplicates, but I noticed this would give me the same title for multiple publications in some instances. I would want to first clean the Publishers, and then iterate through the duplicate journal titles and count them as separate if they have different Publishers listed. \n",
    "\n",
    "I would also want to convert the costs listed in $ to pounds, so all costs are in same currency. \n",
    "\n",
    "Also, there seems to be issues with the ID formatting. Some IDs are listed as PMID and others as PMCID, while there are even others that have both. There are even instances of duplicate IDs (due to erros in other fields, such as Article Title).\n",
    "I would want to clean these to better understand how this column contributes to overall dirtiness of the data set. "
   ]
  }
 ],
 "metadata": {
  "kernelspec": {
   "display_name": "Python 3",
   "language": "python",
   "name": "python3"
  },
  "language_info": {
   "codemirror_mode": {
    "name": "ipython",
    "version": 3
   },
   "file_extension": ".py",
   "mimetype": "text/x-python",
   "name": "python",
   "nbconvert_exporter": "python",
   "pygments_lexer": "ipython3",
   "version": "3.6.1"
  }
 },
 "nbformat": 4,
 "nbformat_minor": 2
}
