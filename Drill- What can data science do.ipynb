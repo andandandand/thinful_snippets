{
 "cells": [
  {
   "cell_type": "markdown",
   "metadata": {},
   "source": [
    "# Q"
   ]
  },
  {
   "cell_type": "markdown",
   "metadata": {},
   "source": [
    "1- You work at an e-commerce company that sells three goods: widgets, doodads, and fizzbangs. The head of advertising asks you which they should feature in their new advertising campaign. You have data on individual visitors' sessions (activity on a website, pageviews, and purchases), as well as whether or not those users converted from an advertisement for that session. You also have the cost and price information for the goods."
   ]
  },
  {
   "cell_type": "markdown",
   "metadata": {},
   "source": [
    "# A"
   ]
  },
  {
   "cell_type": "markdown",
   "metadata": {},
   "source": [
    " I would measure some key metrics for each product in order to inform which product should be the focus of the advertising campaign. Note, that some metrics will be more important than others, but it is essential to understand everything that can be measured. \n",
    " \n",
    "This would include the following:  \n",
    "\n",
    " -The net profit of each, for the sale of one good\n",
    " \n",
    " -The total number of purchases for each good, and accordingly the total net profit of each good. \n",
    " \n",
    " -The amount of page views per session for each good. I can use this as a proxy for searches of a good. \n",
    " \n",
    " -The total % conversion from an advertisment during a session, for each good. \n",
    " \n",
    "For the purpose of this question, I will want to eliminate the good with the lowest % conversion from an advertisment. If a good already has low advertisement conversion, it might not make sense to devote more advertising spend to promote it.\n",
    "\n",
    "Then, taking my information about total purchases, page views per sesion, and % conversion from advertisements, I could try and create and model to predict the amount of future purchases for each good. I would then pair this with the net profit from the sale of one good, to see which product is most likely to result in the most net profit, from future purchases. \n",
    "\n",
    "Depending on the aim of the company, and whether or not they want to promote a product with the highest predicted total net profit or the good with less predicted net profit in order to boost sales, the above technical plan should help them make the right decision. "
   ]
  },
  {
   "cell_type": "markdown",
   "metadata": {},
   "source": [
    "# Q"
   ]
  },
  {
   "cell_type": "markdown",
   "metadata": {},
   "source": [
    "2- You work at a web design company that offers to build websites for clients. Signups have slowed, and you are tasked with finding out why. The onboarding funnel has three steps: email and password signup, plan choice, and payment. On a user level you have information on what steps they have completed as well as timestamps for all of those events for the past 3 years. You also have information on marketing spend on a weekly level."
   ]
  },
  {
   "cell_type": "markdown",
   "metadata": {},
   "source": [
    "# A"
   ]
  },
  {
   "cell_type": "markdown",
   "metadata": {},
   "source": [
    "To address this problem, I would want to start by looking at the three funnel steps separately, to first see if there is a technical issue with the onboarding funnel, such as a design flaw (or just poor design). \n",
    "\n",
    "-What % of visitors reach the first step of the funnel (email and password). \n",
    "\n",
    "-What % of these visitors are new users (do not have a prior account)?\n",
    "\n",
    "-What is the time spent for each step of the funnel? \n",
    "\n",
    "-What is the % falloff from each step, and the % of people that complete each step. \n",
    "\n",
    "-How does the above items trend over 3 years? \n",
    "\n",
    "Right away, I should be able to get a sense of whether there is a step in the funnel that is causing people not to continue. If there is a certain step that takes a while to complete, and thus causes people to drop off, has this been the case over the past 3 years? Has there been a site redesign in this timeframe that might have made it more difficult to complete the process? \n",
    "\n",
    "Another (potentially even more important) possible cause of the slowing sign ups, is the marketing spend put into driving acquisitions and sign ups. Taking my marketing spend for the past 3 years, I would want to see if there is a correlation between marketing spend and the % of people that complete the funnel, or % of people that start the funnel process. Perhaps the decrease in signups is because the company has devoted less money to advertising, and promoting acqusition of new customers. Also, I would want to see if there is a relationship between marketing spend and new visitors that enter the funnel process. It is possible that over time, the company's target user base has decreased, as they have acquired new customers, regardless of marketing spend?\n",
    "\n",
    "I might want to make a model to even predict funnel completion based on marketing spend and the number of new users that enter the site. \n"
   ]
  },
  {
   "cell_type": "markdown",
   "metadata": {},
   "source": [
    "# Q"
   ]
  },
  {
   "cell_type": "markdown",
   "metadata": {},
   "source": [
    "3- You work at a hotel website and currently the website ranks search results by price. For simplicity's sake, let's say it's a website for one city with 100 hotels. You are tasked with proposing a better ranking system. You have session information, price information for the hotels, and whether each hotel is currently available."
   ]
  },
  {
   "cell_type": "markdown",
   "metadata": {},
   "source": [
    "# A"
   ]
  },
  {
   "cell_type": "markdown",
   "metadata": {},
   "source": [
    "Most websites for hotel searches have other factors, other than price, that help users make the best selection. For the sake of this problem, I will assume that this site has the same information. If not, I would develop a tool, like a webscraper, to find this information for the 100 hotels in the city. These factors could include, but are not limited to: \n",
    "\n",
    "-Price\n",
    "\n",
    "-Rating of hotel (based on user reviews, most likely aggregated from a site like Yelp)\n",
    "\n",
    "-Basic amenities (i.e. television, room service, refridgerator, etc.)\n",
    "\n",
    "-Premium amenities (i.e. pool, spa, concierge services, etc.)\n",
    "\n",
    "-Free Perks (i.e. breakfast included, free wi-fi, etc.)\n",
    "\n",
    "-Proximity to nearby attractions\n",
    "\n",
    "-Pet Friendly\n",
    "\n",
    "-Free Parking\n",
    "\n",
    "Using the session information of users (assuming the above factors can be filtered on), I would want to see which factors are most predictive of a hotel booking/carry the most weight when making a decision to book. Which of the above factors (or others not listed) are most commonly checked off as a filter when a user books a hotel? Based on the results, I would pair this with hotel availability for a given day, to recommend the best hotel. \n"
   ]
  },
  {
   "cell_type": "markdown",
   "metadata": {},
   "source": [
    "# Q"
   ]
  },
  {
   "cell_type": "markdown",
   "metadata": {},
   "source": [
    "4- You work at a social network, and the management is worried about churn (users stopping using the product). You are tasked with finding out if their churn is atypical. You have three years of data for users with an entry for every time they've logged in, including the timestamp and length of session."
   ]
  },
  {
   "cell_type": "markdown",
   "metadata": {},
   "source": [
    "# A"
   ]
  },
  {
   "cell_type": "markdown",
   "metadata": {},
   "source": [
    "To address this problem, I first would want to idenitfy the net churn of the user base, over the 3 year time frame, as well as calculate the average churn observed in any given period with the data provided (based on how the company defines a churn). From this, I can trend the conmpany churn over time, to see if there are periods of low or high churn. If the churn rate is relatively flat, or even cyclical, I might be reasonably able to assume that the company churn is typical. \n",
    "\n",
    "Since churn rate is essentially a proxy of average customer lifespan, I can use the session information to create a model that will predict when someone will churn/or the average length of time before a user churns. This will help verify whether or not the trend in churn found above is actually indicative of customer churn overall. \n",
    "\n"
   ]
  }
 ],
 "metadata": {
  "kernelspec": {
   "display_name": "Python 3",
   "language": "python",
   "name": "python3"
  },
  "language_info": {
   "codemirror_mode": {
    "name": "ipython",
    "version": 3
   },
   "file_extension": ".py",
   "mimetype": "text/x-python",
   "name": "python",
   "nbconvert_exporter": "python",
   "pygments_lexer": "ipython3",
   "version": "3.6.1"
  }
 },
 "nbformat": 4,
 "nbformat_minor": 2
}
