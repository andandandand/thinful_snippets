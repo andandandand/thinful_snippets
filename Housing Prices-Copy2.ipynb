{
 "cells": [
  {
   "cell_type": "markdown",
   "metadata": {},
   "source": [
    "## The Setup\n",
    "\n",
    "Using this Kaggle data create a model to predict a house's value. We want to be able to understand what creates value in a house, as though we were a real estate developer."
   ]
  },
  {
   "cell_type": "code",
   "execution_count": 1,
   "metadata": {},
   "outputs": [
    {
     "name": "stderr",
     "output_type": "stream",
     "text": [
      "C:\\Users\\sbohan\\AppData\\Local\\Continuum\\Anaconda3\\lib\\site-packages\\sklearn\\cross_validation.py:44: DeprecationWarning: This module was deprecated in version 0.18 in favor of the model_selection module into which all the refactored classes and functions are moved. Also note that the interface of the new CV iterators are different from that of this module. This module will be removed in 0.20.\n",
      "  \"This module will be removed in 0.20.\", DeprecationWarning)\n",
      "C:\\Users\\sbohan\\AppData\\Local\\Continuum\\Anaconda3\\lib\\site-packages\\sklearn\\grid_search.py:43: DeprecationWarning: This module was deprecated in version 0.18 in favor of the model_selection module into which all the refactored classes and functions are moved. This module will be removed in 0.20.\n",
      "  DeprecationWarning)\n"
     ]
    }
   ],
   "source": [
    "import numpy as np\n",
    "import pandas as pd\n",
    "import matplotlib.pyplot as plt\n",
    "%matplotlib inline\n",
    "import time\n",
    "\n",
    "from sklearn import grid_search\n",
    "import seaborn as sns\n",
    "from sklearn.preprocessing import StandardScaler\n",
    "from sklearn.neighbors import KNeighborsRegressor\n",
    "from sklearn.model_selection import cross_val_score\n",
    "from sklearn import preprocessing\n"
   ]
  },
  {
   "cell_type": "markdown",
   "metadata": {},
   "source": [
    "## Prepping and Exploring the Data\n"
   ]
  },
  {
   "cell_type": "code",
   "execution_count": 29,
   "metadata": {
    "collapsed": true
   },
   "outputs": [],
   "source": [
    "house = pd.read_csv('housing.csv')"
   ]
  },
  {
   "cell_type": "code",
   "execution_count": 30,
   "metadata": {},
   "outputs": [
    {
     "data": {
      "text/html": [
       "<div>\n",
       "<style>\n",
       "    .dataframe thead tr:only-child th {\n",
       "        text-align: right;\n",
       "    }\n",
       "\n",
       "    .dataframe thead th {\n",
       "        text-align: left;\n",
       "    }\n",
       "\n",
       "    .dataframe tbody tr th {\n",
       "        vertical-align: top;\n",
       "    }\n",
       "</style>\n",
       "<table border=\"1\" class=\"dataframe\">\n",
       "  <thead>\n",
       "    <tr style=\"text-align: right;\">\n",
       "      <th></th>\n",
       "      <th>Suburb</th>\n",
       "      <th>Address</th>\n",
       "      <th>Rooms</th>\n",
       "      <th>Type</th>\n",
       "      <th>Price</th>\n",
       "      <th>Method</th>\n",
       "      <th>SellerG</th>\n",
       "      <th>Date</th>\n",
       "      <th>Distance</th>\n",
       "      <th>Postcode</th>\n",
       "      <th>...</th>\n",
       "      <th>Bathroom</th>\n",
       "      <th>Car</th>\n",
       "      <th>Landsize</th>\n",
       "      <th>BuildingArea</th>\n",
       "      <th>YearBuilt</th>\n",
       "      <th>CouncilArea</th>\n",
       "      <th>Lattitude</th>\n",
       "      <th>Longtitude</th>\n",
       "      <th>Regionname</th>\n",
       "      <th>Propertycount</th>\n",
       "    </tr>\n",
       "  </thead>\n",
       "  <tbody>\n",
       "    <tr>\n",
       "      <th>0</th>\n",
       "      <td>Abbotsford</td>\n",
       "      <td>68 Studley St</td>\n",
       "      <td>2</td>\n",
       "      <td>h</td>\n",
       "      <td>NaN</td>\n",
       "      <td>SS</td>\n",
       "      <td>Jellis</td>\n",
       "      <td>3/09/2016</td>\n",
       "      <td>2.5</td>\n",
       "      <td>3067.0</td>\n",
       "      <td>...</td>\n",
       "      <td>1.0</td>\n",
       "      <td>1.0</td>\n",
       "      <td>126.0</td>\n",
       "      <td>NaN</td>\n",
       "      <td>NaN</td>\n",
       "      <td>Yarra City Council</td>\n",
       "      <td>-37.8014</td>\n",
       "      <td>144.9958</td>\n",
       "      <td>Northern Metropolitan</td>\n",
       "      <td>4019.0</td>\n",
       "    </tr>\n",
       "    <tr>\n",
       "      <th>1</th>\n",
       "      <td>Abbotsford</td>\n",
       "      <td>85 Turner St</td>\n",
       "      <td>2</td>\n",
       "      <td>h</td>\n",
       "      <td>1480000.0</td>\n",
       "      <td>S</td>\n",
       "      <td>Biggin</td>\n",
       "      <td>3/12/2016</td>\n",
       "      <td>2.5</td>\n",
       "      <td>3067.0</td>\n",
       "      <td>...</td>\n",
       "      <td>1.0</td>\n",
       "      <td>1.0</td>\n",
       "      <td>202.0</td>\n",
       "      <td>NaN</td>\n",
       "      <td>NaN</td>\n",
       "      <td>Yarra City Council</td>\n",
       "      <td>-37.7996</td>\n",
       "      <td>144.9984</td>\n",
       "      <td>Northern Metropolitan</td>\n",
       "      <td>4019.0</td>\n",
       "    </tr>\n",
       "    <tr>\n",
       "      <th>2</th>\n",
       "      <td>Abbotsford</td>\n",
       "      <td>25 Bloomburg St</td>\n",
       "      <td>2</td>\n",
       "      <td>h</td>\n",
       "      <td>1035000.0</td>\n",
       "      <td>S</td>\n",
       "      <td>Biggin</td>\n",
       "      <td>4/02/2016</td>\n",
       "      <td>2.5</td>\n",
       "      <td>3067.0</td>\n",
       "      <td>...</td>\n",
       "      <td>1.0</td>\n",
       "      <td>0.0</td>\n",
       "      <td>156.0</td>\n",
       "      <td>79.0</td>\n",
       "      <td>1900.0</td>\n",
       "      <td>Yarra City Council</td>\n",
       "      <td>-37.8079</td>\n",
       "      <td>144.9934</td>\n",
       "      <td>Northern Metropolitan</td>\n",
       "      <td>4019.0</td>\n",
       "    </tr>\n",
       "    <tr>\n",
       "      <th>3</th>\n",
       "      <td>Abbotsford</td>\n",
       "      <td>18/659 Victoria St</td>\n",
       "      <td>3</td>\n",
       "      <td>u</td>\n",
       "      <td>NaN</td>\n",
       "      <td>VB</td>\n",
       "      <td>Rounds</td>\n",
       "      <td>4/02/2016</td>\n",
       "      <td>2.5</td>\n",
       "      <td>3067.0</td>\n",
       "      <td>...</td>\n",
       "      <td>2.0</td>\n",
       "      <td>1.0</td>\n",
       "      <td>0.0</td>\n",
       "      <td>NaN</td>\n",
       "      <td>NaN</td>\n",
       "      <td>Yarra City Council</td>\n",
       "      <td>-37.8114</td>\n",
       "      <td>145.0116</td>\n",
       "      <td>Northern Metropolitan</td>\n",
       "      <td>4019.0</td>\n",
       "    </tr>\n",
       "    <tr>\n",
       "      <th>4</th>\n",
       "      <td>Abbotsford</td>\n",
       "      <td>5 Charles St</td>\n",
       "      <td>3</td>\n",
       "      <td>h</td>\n",
       "      <td>1465000.0</td>\n",
       "      <td>SP</td>\n",
       "      <td>Biggin</td>\n",
       "      <td>4/03/2017</td>\n",
       "      <td>2.5</td>\n",
       "      <td>3067.0</td>\n",
       "      <td>...</td>\n",
       "      <td>2.0</td>\n",
       "      <td>0.0</td>\n",
       "      <td>134.0</td>\n",
       "      <td>150.0</td>\n",
       "      <td>1900.0</td>\n",
       "      <td>Yarra City Council</td>\n",
       "      <td>-37.8093</td>\n",
       "      <td>144.9944</td>\n",
       "      <td>Northern Metropolitan</td>\n",
       "      <td>4019.0</td>\n",
       "    </tr>\n",
       "  </tbody>\n",
       "</table>\n",
       "<p>5 rows × 21 columns</p>\n",
       "</div>"
      ],
      "text/plain": [
       "       Suburb             Address  Rooms Type      Price Method SellerG  \\\n",
       "0  Abbotsford       68 Studley St      2    h        NaN     SS  Jellis   \n",
       "1  Abbotsford        85 Turner St      2    h  1480000.0      S  Biggin   \n",
       "2  Abbotsford     25 Bloomburg St      2    h  1035000.0      S  Biggin   \n",
       "3  Abbotsford  18/659 Victoria St      3    u        NaN     VB  Rounds   \n",
       "4  Abbotsford        5 Charles St      3    h  1465000.0     SP  Biggin   \n",
       "\n",
       "        Date  Distance  Postcode      ...       Bathroom  Car  Landsize  \\\n",
       "0  3/09/2016       2.5    3067.0      ...            1.0  1.0     126.0   \n",
       "1  3/12/2016       2.5    3067.0      ...            1.0  1.0     202.0   \n",
       "2  4/02/2016       2.5    3067.0      ...            1.0  0.0     156.0   \n",
       "3  4/02/2016       2.5    3067.0      ...            2.0  1.0       0.0   \n",
       "4  4/03/2017       2.5    3067.0      ...            2.0  0.0     134.0   \n",
       "\n",
       "   BuildingArea  YearBuilt         CouncilArea Lattitude  Longtitude  \\\n",
       "0           NaN        NaN  Yarra City Council  -37.8014    144.9958   \n",
       "1           NaN        NaN  Yarra City Council  -37.7996    144.9984   \n",
       "2          79.0     1900.0  Yarra City Council  -37.8079    144.9934   \n",
       "3           NaN        NaN  Yarra City Council  -37.8114    145.0116   \n",
       "4         150.0     1900.0  Yarra City Council  -37.8093    144.9944   \n",
       "\n",
       "              Regionname Propertycount  \n",
       "0  Northern Metropolitan        4019.0  \n",
       "1  Northern Metropolitan        4019.0  \n",
       "2  Northern Metropolitan        4019.0  \n",
       "3  Northern Metropolitan        4019.0  \n",
       "4  Northern Metropolitan        4019.0  \n",
       "\n",
       "[5 rows x 21 columns]"
      ]
     },
     "execution_count": 30,
     "metadata": {},
     "output_type": "execute_result"
    }
   ],
   "source": [
    "house.head()"
   ]
  },
  {
   "cell_type": "code",
   "execution_count": 31,
   "metadata": {},
   "outputs": [
    {
     "name": "stdout",
     "output_type": "stream",
     "text": [
      "<class 'pandas.core.frame.DataFrame'>\n",
      "RangeIndex: 31420 entries, 0 to 31419\n",
      "Data columns (total 21 columns):\n",
      "Suburb           31420 non-null object\n",
      "Address          31420 non-null object\n",
      "Rooms            31420 non-null int64\n",
      "Type             31420 non-null object\n",
      "Price            24589 non-null float64\n",
      "Method           31420 non-null object\n",
      "SellerG          31420 non-null object\n",
      "Date             31420 non-null object\n",
      "Distance         31419 non-null float64\n",
      "Postcode         31419 non-null float64\n",
      "Bedroom2         24211 non-null float64\n",
      "Bathroom         24205 non-null float64\n",
      "Car              23821 non-null float64\n",
      "Landsize         20621 non-null float64\n",
      "BuildingArea     12569 non-null float64\n",
      "YearBuilt        14294 non-null float64\n",
      "CouncilArea      31417 non-null object\n",
      "Lattitude        24434 non-null float64\n",
      "Longtitude       24434 non-null float64\n",
      "Regionname       31417 non-null object\n",
      "Propertycount    31417 non-null float64\n",
      "dtypes: float64(12), int64(1), object(8)\n",
      "memory usage: 5.0+ MB\n"
     ]
    }
   ],
   "source": [
    "house.info()"
   ]
  },
  {
   "cell_type": "code",
   "execution_count": 32,
   "metadata": {},
   "outputs": [
    {
     "name": "stdout",
     "output_type": "stream",
     "text": [
      "Suburb               0\n",
      "Address              0\n",
      "Rooms                0\n",
      "Type                 0\n",
      "Price             6831\n",
      "Method               0\n",
      "SellerG              0\n",
      "Date                 0\n",
      "Distance             1\n",
      "Postcode             1\n",
      "Bedroom2          7209\n",
      "Bathroom          7215\n",
      "Car               7599\n",
      "Landsize         10799\n",
      "BuildingArea     18851\n",
      "YearBuilt        17126\n",
      "CouncilArea          3\n",
      "Lattitude         6986\n",
      "Longtitude        6986\n",
      "Regionname           3\n",
      "Propertycount        3\n",
      "dtype: int64\n"
     ]
    }
   ],
   "source": [
    "#check for nulls\n",
    "print(house.isnull().sum())"
   ]
  },
  {
   "cell_type": "code",
   "execution_count": 33,
   "metadata": {},
   "outputs": [
    {
     "name": "stdout",
     "output_type": "stream",
     "text": [
      "There are 348 unique values for Suburb\n",
      "There are 30718 unique values for Address\n",
      "There are 12 unique values for Rooms\n",
      "There are 3 unique values for Type\n",
      "There are 2761 unique values for Price\n",
      "There are 9 unique values for Method\n",
      "There are 374 unique values for SellerG\n",
      "There are 73 unique values for Date\n",
      "There are 215 unique values for Distance\n",
      "There are 210 unique values for Postcode\n",
      "There are 16 unique values for Bedroom2\n",
      "There are 12 unique values for Bathroom\n",
      "There are 15 unique values for Car\n",
      "There are 1642 unique values for Landsize\n",
      "There are 727 unique values for BuildingArea\n",
      "There are 158 unique values for YearBuilt\n",
      "There are 34 unique values for CouncilArea\n",
      "There are 11801 unique values for Lattitude\n",
      "There are 12860 unique values for Longtitude\n",
      "There are 9 unique values for Regionname\n",
      "There are 341 unique values for Propertycount\n"
     ]
    }
   ],
   "source": [
    "for col in house.columns: \n",
    "    print('There are {} unique values for {}'.format((len(house[col].unique())),col))"
   ]
  },
  {
   "cell_type": "markdown",
   "metadata": {},
   "source": [
    "OK, since we are trying to predict value, we likely need the price for the house not to be null. \n",
    "So we should remove those rows. \n"
   ]
  },
  {
   "cell_type": "code",
   "execution_count": 34,
   "metadata": {
    "collapsed": true
   },
   "outputs": [],
   "source": [
    "#Eliminate the rows that have no info regarding price\n",
    "house = house.dropna(subset=['Price'], how='any')\n"
   ]
  },
  {
   "cell_type": "code",
   "execution_count": 35,
   "metadata": {
    "collapsed": true
   },
   "outputs": [],
   "source": [
    "house2 = house.drop(['Bedroom2','Address','SellerG','Suburb', 'Date','Regionname','CouncilArea','Postcode'],1)\n"
   ]
  },
  {
   "cell_type": "code",
   "execution_count": 36,
   "metadata": {
    "collapsed": true
   },
   "outputs": [],
   "source": [
    "house2 = house2.drop(['BuildingArea'],1)"
   ]
  },
  {
   "cell_type": "code",
   "execution_count": 37,
   "metadata": {},
   "outputs": [
    {
     "name": "stdout",
     "output_type": "stream",
     "text": [
      "<class 'pandas.core.frame.DataFrame'>\n",
      "Int64Index: 9530 entries, 2 to 31413\n",
      "Data columns (total 12 columns):\n",
      "Rooms            9530 non-null int64\n",
      "Type             9530 non-null object\n",
      "Price            9530 non-null float64\n",
      "Method           9530 non-null object\n",
      "Distance         9530 non-null float64\n",
      "Bathroom         9530 non-null float64\n",
      "Car              9530 non-null float64\n",
      "Landsize         9530 non-null float64\n",
      "YearBuilt        9530 non-null float64\n",
      "Lattitude        9530 non-null float64\n",
      "Longtitude       9530 non-null float64\n",
      "Propertycount    9530 non-null float64\n",
      "dtypes: float64(9), int64(1), object(2)\n",
      "memory usage: 967.9+ KB\n"
     ]
    }
   ],
   "source": [
    "house3 = house2.dropna()\n",
    "house3.info()"
   ]
  },
  {
   "cell_type": "code",
   "execution_count": 38,
   "metadata": {},
   "outputs": [
    {
     "data": {
      "text/html": [
       "<div>\n",
       "<style>\n",
       "    .dataframe thead tr:only-child th {\n",
       "        text-align: right;\n",
       "    }\n",
       "\n",
       "    .dataframe thead th {\n",
       "        text-align: left;\n",
       "    }\n",
       "\n",
       "    .dataframe tbody tr th {\n",
       "        vertical-align: top;\n",
       "    }\n",
       "</style>\n",
       "<table border=\"1\" class=\"dataframe\">\n",
       "  <thead>\n",
       "    <tr style=\"text-align: right;\">\n",
       "      <th></th>\n",
       "      <th>Rooms</th>\n",
       "      <th>Price</th>\n",
       "      <th>Distance</th>\n",
       "      <th>Bathroom</th>\n",
       "      <th>Car</th>\n",
       "      <th>Landsize</th>\n",
       "      <th>YearBuilt</th>\n",
       "      <th>Lattitude</th>\n",
       "      <th>Longtitude</th>\n",
       "      <th>Propertycount</th>\n",
       "    </tr>\n",
       "  </thead>\n",
       "  <tbody>\n",
       "    <tr>\n",
       "      <th>count</th>\n",
       "      <td>9530.000000</td>\n",
       "      <td>9.530000e+03</td>\n",
       "      <td>9530.000000</td>\n",
       "      <td>9530.000000</td>\n",
       "      <td>9530.000000</td>\n",
       "      <td>9530.000000</td>\n",
       "      <td>9530.000000</td>\n",
       "      <td>9530.000000</td>\n",
       "      <td>9530.000000</td>\n",
       "      <td>9530.000000</td>\n",
       "    </tr>\n",
       "    <tr>\n",
       "      <th>mean</th>\n",
       "      <td>3.017524</td>\n",
       "      <td>1.073370e+06</td>\n",
       "      <td>10.756905</td>\n",
       "      <td>1.608919</td>\n",
       "      <td>1.647219</td>\n",
       "      <td>517.728332</td>\n",
       "      <td>1965.561805</td>\n",
       "      <td>-37.807176</td>\n",
       "      <td>144.993400</td>\n",
       "      <td>7477.704617</td>\n",
       "    </tr>\n",
       "    <tr>\n",
       "      <th>std</th>\n",
       "      <td>0.982055</td>\n",
       "      <td>6.718517e+05</td>\n",
       "      <td>6.558529</td>\n",
       "      <td>0.713823</td>\n",
       "      <td>0.964582</td>\n",
       "      <td>1049.525322</td>\n",
       "      <td>36.686900</td>\n",
       "      <td>0.086795</td>\n",
       "      <td>0.112987</td>\n",
       "      <td>4370.553783</td>\n",
       "    </tr>\n",
       "    <tr>\n",
       "      <th>min</th>\n",
       "      <td>1.000000</td>\n",
       "      <td>8.500000e+04</td>\n",
       "      <td>0.000000</td>\n",
       "      <td>0.000000</td>\n",
       "      <td>0.000000</td>\n",
       "      <td>0.000000</td>\n",
       "      <td>1196.000000</td>\n",
       "      <td>-38.174360</td>\n",
       "      <td>144.423790</td>\n",
       "      <td>290.000000</td>\n",
       "    </tr>\n",
       "    <tr>\n",
       "      <th>25%</th>\n",
       "      <td>2.000000</td>\n",
       "      <td>6.300000e+05</td>\n",
       "      <td>6.300000</td>\n",
       "      <td>1.000000</td>\n",
       "      <td>1.000000</td>\n",
       "      <td>184.000000</td>\n",
       "      <td>1949.000000</td>\n",
       "      <td>-37.857800</td>\n",
       "      <td>144.925215</td>\n",
       "      <td>4385.000000</td>\n",
       "    </tr>\n",
       "    <tr>\n",
       "      <th>50%</th>\n",
       "      <td>3.000000</td>\n",
       "      <td>8.820000e+05</td>\n",
       "      <td>9.700000</td>\n",
       "      <td>1.000000</td>\n",
       "      <td>2.000000</td>\n",
       "      <td>448.000000</td>\n",
       "      <td>1970.000000</td>\n",
       "      <td>-37.802000</td>\n",
       "      <td>144.999055</td>\n",
       "      <td>6567.000000</td>\n",
       "    </tr>\n",
       "    <tr>\n",
       "      <th>75%</th>\n",
       "      <td>4.000000</td>\n",
       "      <td>1.320000e+06</td>\n",
       "      <td>13.700000</td>\n",
       "      <td>2.000000</td>\n",
       "      <td>2.000000</td>\n",
       "      <td>651.000000</td>\n",
       "      <td>1999.000000</td>\n",
       "      <td>-37.752800</td>\n",
       "      <td>145.061275</td>\n",
       "      <td>10331.000000</td>\n",
       "    </tr>\n",
       "    <tr>\n",
       "      <th>max</th>\n",
       "      <td>12.000000</td>\n",
       "      <td>9.000000e+06</td>\n",
       "      <td>47.400000</td>\n",
       "      <td>9.000000</td>\n",
       "      <td>10.000000</td>\n",
       "      <td>40469.000000</td>\n",
       "      <td>2018.000000</td>\n",
       "      <td>-37.407200</td>\n",
       "      <td>145.526350</td>\n",
       "      <td>21650.000000</td>\n",
       "    </tr>\n",
       "  </tbody>\n",
       "</table>\n",
       "</div>"
      ],
      "text/plain": [
       "             Rooms         Price     Distance     Bathroom          Car  \\\n",
       "count  9530.000000  9.530000e+03  9530.000000  9530.000000  9530.000000   \n",
       "mean      3.017524  1.073370e+06    10.756905     1.608919     1.647219   \n",
       "std       0.982055  6.718517e+05     6.558529     0.713823     0.964582   \n",
       "min       1.000000  8.500000e+04     0.000000     0.000000     0.000000   \n",
       "25%       2.000000  6.300000e+05     6.300000     1.000000     1.000000   \n",
       "50%       3.000000  8.820000e+05     9.700000     1.000000     2.000000   \n",
       "75%       4.000000  1.320000e+06    13.700000     2.000000     2.000000   \n",
       "max      12.000000  9.000000e+06    47.400000     9.000000    10.000000   \n",
       "\n",
       "           Landsize    YearBuilt    Lattitude   Longtitude  Propertycount  \n",
       "count   9530.000000  9530.000000  9530.000000  9530.000000    9530.000000  \n",
       "mean     517.728332  1965.561805   -37.807176   144.993400    7477.704617  \n",
       "std     1049.525322    36.686900     0.086795     0.112987    4370.553783  \n",
       "min        0.000000  1196.000000   -38.174360   144.423790     290.000000  \n",
       "25%      184.000000  1949.000000   -37.857800   144.925215    4385.000000  \n",
       "50%      448.000000  1970.000000   -37.802000   144.999055    6567.000000  \n",
       "75%      651.000000  1999.000000   -37.752800   145.061275   10331.000000  \n",
       "max    40469.000000  2018.000000   -37.407200   145.526350   21650.000000  "
      ]
     },
     "execution_count": 38,
     "metadata": {},
     "output_type": "execute_result"
    }
   ],
   "source": [
    "house3.describe()"
   ]
  },
  {
   "cell_type": "markdown",
   "metadata": {},
   "source": [
    "OK, but now there is the issue of the remaining null items. We likely will want to use some of these, as they could have predictive power, but I don't want to replace them with 0. That would make no sense. \n",
    "\n",
    "However, I am skeptical about removing all of them, as that would only leave us with as many rows as there is data for Building area, which after taking a look at, seems to not be entirely accurate (building area of 1?).\n",
    "\n",
    "\n",
    "I am going to do some imputation, using median\n"
   ]
  },
  {
   "cell_type": "code",
   "execution_count": 39,
   "metadata": {
    "collapsed": true
   },
   "outputs": [],
   "source": [
    "# #Drop the Nan values that are in the Regionname and CouncilArea columns and \n",
    "# #Fill the missing values with the median of each column\n",
    "# house2 =house.dropna(subset=[['Regionname','CouncilArea']])\n",
    "# house3 = house2.fillna(house2.median())\n",
    "# house3.info()"
   ]
  },
  {
   "cell_type": "code",
   "execution_count": 40,
   "metadata": {},
   "outputs": [
    {
     "data": {
      "text/html": [
       "<div>\n",
       "<style>\n",
       "    .dataframe thead tr:only-child th {\n",
       "        text-align: right;\n",
       "    }\n",
       "\n",
       "    .dataframe thead th {\n",
       "        text-align: left;\n",
       "    }\n",
       "\n",
       "    .dataframe tbody tr th {\n",
       "        vertical-align: top;\n",
       "    }\n",
       "</style>\n",
       "<table border=\"1\" class=\"dataframe\">\n",
       "  <thead>\n",
       "    <tr style=\"text-align: right;\">\n",
       "      <th></th>\n",
       "      <th>Rooms</th>\n",
       "      <th>Type</th>\n",
       "      <th>Price</th>\n",
       "      <th>Method</th>\n",
       "      <th>Distance</th>\n",
       "      <th>Bathroom</th>\n",
       "      <th>Car</th>\n",
       "      <th>Landsize</th>\n",
       "      <th>YearBuilt</th>\n",
       "      <th>Lattitude</th>\n",
       "      <th>Longtitude</th>\n",
       "      <th>Propertycount</th>\n",
       "    </tr>\n",
       "  </thead>\n",
       "  <tbody>\n",
       "    <tr>\n",
       "      <th>2</th>\n",
       "      <td>2</td>\n",
       "      <td>h</td>\n",
       "      <td>1035000.0</td>\n",
       "      <td>S</td>\n",
       "      <td>2.5</td>\n",
       "      <td>1.0</td>\n",
       "      <td>0.0</td>\n",
       "      <td>156.0</td>\n",
       "      <td>1900.0</td>\n",
       "      <td>-37.8079</td>\n",
       "      <td>144.9934</td>\n",
       "      <td>4019.0</td>\n",
       "    </tr>\n",
       "    <tr>\n",
       "      <th>4</th>\n",
       "      <td>3</td>\n",
       "      <td>h</td>\n",
       "      <td>1465000.0</td>\n",
       "      <td>SP</td>\n",
       "      <td>2.5</td>\n",
       "      <td>2.0</td>\n",
       "      <td>0.0</td>\n",
       "      <td>134.0</td>\n",
       "      <td>1900.0</td>\n",
       "      <td>-37.8093</td>\n",
       "      <td>144.9944</td>\n",
       "      <td>4019.0</td>\n",
       "    </tr>\n",
       "    <tr>\n",
       "      <th>6</th>\n",
       "      <td>4</td>\n",
       "      <td>h</td>\n",
       "      <td>1600000.0</td>\n",
       "      <td>VB</td>\n",
       "      <td>2.5</td>\n",
       "      <td>1.0</td>\n",
       "      <td>2.0</td>\n",
       "      <td>120.0</td>\n",
       "      <td>2014.0</td>\n",
       "      <td>-37.8072</td>\n",
       "      <td>144.9941</td>\n",
       "      <td>4019.0</td>\n",
       "    </tr>\n",
       "    <tr>\n",
       "      <th>11</th>\n",
       "      <td>3</td>\n",
       "      <td>h</td>\n",
       "      <td>1876000.0</td>\n",
       "      <td>S</td>\n",
       "      <td>2.5</td>\n",
       "      <td>2.0</td>\n",
       "      <td>0.0</td>\n",
       "      <td>245.0</td>\n",
       "      <td>1910.0</td>\n",
       "      <td>-37.8024</td>\n",
       "      <td>144.9993</td>\n",
       "      <td>4019.0</td>\n",
       "    </tr>\n",
       "    <tr>\n",
       "      <th>14</th>\n",
       "      <td>2</td>\n",
       "      <td>h</td>\n",
       "      <td>1636000.0</td>\n",
       "      <td>S</td>\n",
       "      <td>2.5</td>\n",
       "      <td>1.0</td>\n",
       "      <td>2.0</td>\n",
       "      <td>256.0</td>\n",
       "      <td>1890.0</td>\n",
       "      <td>-37.8060</td>\n",
       "      <td>144.9954</td>\n",
       "      <td>4019.0</td>\n",
       "    </tr>\n",
       "  </tbody>\n",
       "</table>\n",
       "</div>"
      ],
      "text/plain": [
       "    Rooms Type      Price Method  Distance  Bathroom  Car  Landsize  \\\n",
       "2       2    h  1035000.0      S       2.5       1.0  0.0     156.0   \n",
       "4       3    h  1465000.0     SP       2.5       2.0  0.0     134.0   \n",
       "6       4    h  1600000.0     VB       2.5       1.0  2.0     120.0   \n",
       "11      3    h  1876000.0      S       2.5       2.0  0.0     245.0   \n",
       "14      2    h  1636000.0      S       2.5       1.0  2.0     256.0   \n",
       "\n",
       "    YearBuilt  Lattitude  Longtitude  Propertycount  \n",
       "2      1900.0   -37.8079    144.9934         4019.0  \n",
       "4      1900.0   -37.8093    144.9944         4019.0  \n",
       "6      2014.0   -37.8072    144.9941         4019.0  \n",
       "11     1910.0   -37.8024    144.9993         4019.0  \n",
       "14     1890.0   -37.8060    144.9954         4019.0  "
      ]
     },
     "execution_count": 40,
     "metadata": {},
     "output_type": "execute_result"
    }
   ],
   "source": [
    "house3.head()"
   ]
  },
  {
   "cell_type": "code",
   "execution_count": 41,
   "metadata": {
    "collapsed": true
   },
   "outputs": [],
   "source": [
    "house3 = house3.loc[((house3['Car'] < house3['Rooms']) & (house3['Car'] >=2 ))| (house3['Car'] <2), :]\n",
    "\n"
   ]
  },
  {
   "cell_type": "code",
   "execution_count": 42,
   "metadata": {},
   "outputs": [
    {
     "data": {
      "text/html": [
       "<div>\n",
       "<style>\n",
       "    .dataframe thead tr:only-child th {\n",
       "        text-align: right;\n",
       "    }\n",
       "\n",
       "    .dataframe thead th {\n",
       "        text-align: left;\n",
       "    }\n",
       "\n",
       "    .dataframe tbody tr th {\n",
       "        vertical-align: top;\n",
       "    }\n",
       "</style>\n",
       "<table border=\"1\" class=\"dataframe\">\n",
       "  <thead>\n",
       "    <tr style=\"text-align: right;\">\n",
       "      <th></th>\n",
       "      <th>Rooms</th>\n",
       "      <th>Price</th>\n",
       "      <th>Distance</th>\n",
       "      <th>Bathroom</th>\n",
       "      <th>Car</th>\n",
       "      <th>Landsize</th>\n",
       "      <th>YearBuilt</th>\n",
       "      <th>Lattitude</th>\n",
       "      <th>Longtitude</th>\n",
       "      <th>Propertycount</th>\n",
       "    </tr>\n",
       "  </thead>\n",
       "  <tbody>\n",
       "    <tr>\n",
       "      <th>count</th>\n",
       "      <td>8455.000000</td>\n",
       "      <td>8.455000e+03</td>\n",
       "      <td>8455.000000</td>\n",
       "      <td>8455.000000</td>\n",
       "      <td>8455.000000</td>\n",
       "      <td>8455.000000</td>\n",
       "      <td>8455.000000</td>\n",
       "      <td>8455.000000</td>\n",
       "      <td>8455.000000</td>\n",
       "      <td>8455.000000</td>\n",
       "    </tr>\n",
       "    <tr>\n",
       "      <th>mean</th>\n",
       "      <td>3.049911</td>\n",
       "      <td>1.076179e+06</td>\n",
       "      <td>10.661644</td>\n",
       "      <td>1.625310</td>\n",
       "      <td>1.450976</td>\n",
       "      <td>489.560142</td>\n",
       "      <td>1965.713779</td>\n",
       "      <td>-37.807684</td>\n",
       "      <td>144.994818</td>\n",
       "      <td>7480.447546</td>\n",
       "    </tr>\n",
       "    <tr>\n",
       "      <th>std</th>\n",
       "      <td>0.998280</td>\n",
       "      <td>6.768602e+05</td>\n",
       "      <td>6.507412</td>\n",
       "      <td>0.717732</td>\n",
       "      <td>0.709981</td>\n",
       "      <td>777.294062</td>\n",
       "      <td>36.528964</td>\n",
       "      <td>0.085966</td>\n",
       "      <td>0.112282</td>\n",
       "      <td>4342.195880</td>\n",
       "    </tr>\n",
       "    <tr>\n",
       "      <th>min</th>\n",
       "      <td>1.000000</td>\n",
       "      <td>8.500000e+04</td>\n",
       "      <td>0.000000</td>\n",
       "      <td>0.000000</td>\n",
       "      <td>0.000000</td>\n",
       "      <td>0.000000</td>\n",
       "      <td>1830.000000</td>\n",
       "      <td>-38.174360</td>\n",
       "      <td>144.423790</td>\n",
       "      <td>389.000000</td>\n",
       "    </tr>\n",
       "    <tr>\n",
       "      <th>25%</th>\n",
       "      <td>2.000000</td>\n",
       "      <td>6.225000e+05</td>\n",
       "      <td>6.200000</td>\n",
       "      <td>1.000000</td>\n",
       "      <td>1.000000</td>\n",
       "      <td>176.000000</td>\n",
       "      <td>1945.000000</td>\n",
       "      <td>-37.858100</td>\n",
       "      <td>144.927215</td>\n",
       "      <td>4442.000000</td>\n",
       "    </tr>\n",
       "    <tr>\n",
       "      <th>50%</th>\n",
       "      <td>3.000000</td>\n",
       "      <td>8.860000e+05</td>\n",
       "      <td>9.700000</td>\n",
       "      <td>2.000000</td>\n",
       "      <td>1.000000</td>\n",
       "      <td>422.000000</td>\n",
       "      <td>1970.000000</td>\n",
       "      <td>-37.802900</td>\n",
       "      <td>144.999670</td>\n",
       "      <td>6567.000000</td>\n",
       "    </tr>\n",
       "    <tr>\n",
       "      <th>75%</th>\n",
       "      <td>4.000000</td>\n",
       "      <td>1.330000e+06</td>\n",
       "      <td>13.700000</td>\n",
       "      <td>2.000000</td>\n",
       "      <td>2.000000</td>\n",
       "      <td>648.000000</td>\n",
       "      <td>2000.000000</td>\n",
       "      <td>-37.754900</td>\n",
       "      <td>145.062425</td>\n",
       "      <td>10331.000000</td>\n",
       "    </tr>\n",
       "    <tr>\n",
       "      <th>max</th>\n",
       "      <td>12.000000</td>\n",
       "      <td>9.000000e+06</td>\n",
       "      <td>47.300000</td>\n",
       "      <td>9.000000</td>\n",
       "      <td>5.000000</td>\n",
       "      <td>21600.000000</td>\n",
       "      <td>2017.000000</td>\n",
       "      <td>-37.407200</td>\n",
       "      <td>145.482730</td>\n",
       "      <td>21650.000000</td>\n",
       "    </tr>\n",
       "  </tbody>\n",
       "</table>\n",
       "</div>"
      ],
      "text/plain": [
       "             Rooms         Price     Distance     Bathroom          Car  \\\n",
       "count  8455.000000  8.455000e+03  8455.000000  8455.000000  8455.000000   \n",
       "mean      3.049911  1.076179e+06    10.661644     1.625310     1.450976   \n",
       "std       0.998280  6.768602e+05     6.507412     0.717732     0.709981   \n",
       "min       1.000000  8.500000e+04     0.000000     0.000000     0.000000   \n",
       "25%       2.000000  6.225000e+05     6.200000     1.000000     1.000000   \n",
       "50%       3.000000  8.860000e+05     9.700000     2.000000     1.000000   \n",
       "75%       4.000000  1.330000e+06    13.700000     2.000000     2.000000   \n",
       "max      12.000000  9.000000e+06    47.300000     9.000000     5.000000   \n",
       "\n",
       "           Landsize    YearBuilt    Lattitude   Longtitude  Propertycount  \n",
       "count   8455.000000  8455.000000  8455.000000  8455.000000    8455.000000  \n",
       "mean     489.560142  1965.713779   -37.807684   144.994818    7480.447546  \n",
       "std      777.294062    36.528964     0.085966     0.112282    4342.195880  \n",
       "min        0.000000  1830.000000   -38.174360   144.423790     389.000000  \n",
       "25%      176.000000  1945.000000   -37.858100   144.927215    4442.000000  \n",
       "50%      422.000000  1970.000000   -37.802900   144.999670    6567.000000  \n",
       "75%      648.000000  2000.000000   -37.754900   145.062425   10331.000000  \n",
       "max    21600.000000  2017.000000   -37.407200   145.482730   21650.000000  "
      ]
     },
     "execution_count": 42,
     "metadata": {},
     "output_type": "execute_result"
    }
   ],
   "source": [
    "house3.describe()"
   ]
  },
  {
   "cell_type": "code",
   "execution_count": 43,
   "metadata": {},
   "outputs": [
    {
     "data": {
      "image/png": "[encoded data removed]",
      "text/plain": [
       "<matplotlib.figure.Figure at 0xd4feb38>"
      ]
     },
     "metadata": {},
     "output_type": "display_data"
    }
   ],
   "source": [
    "house3.hist(bins=50, figsize=(20,15))\n",
    "plt.show()"
   ]
  },
  {
   "cell_type": "markdown",
   "metadata": {},
   "source": [
    "OK it appear there are outliers in numerous of the columns. How can a building area be 0? \n",
    "Also, Bedrooms2, which was scraped from a separate source, is higher than total rooms in some cases. Same with bathrooms\n",
    "Ands it is possible to have 2 rooms but 18 car spaces? \n",
    "This might not be the best approach, but I am going to remove and rows that contain a column with values that fall within 3 srtandard deviations from the mean (99percentile)\n",
    "\n",
    "dropping bed2 but keeping bathroom for now. "
   ]
  },
  {
   "cell_type": "code",
   "execution_count": 44,
   "metadata": {},
   "outputs": [
    {
     "data": {
      "text/html": [
       "<div>\n",
       "<style>\n",
       "    .dataframe thead tr:only-child th {\n",
       "        text-align: right;\n",
       "    }\n",
       "\n",
       "    .dataframe thead th {\n",
       "        text-align: left;\n",
       "    }\n",
       "\n",
       "    .dataframe tbody tr th {\n",
       "        vertical-align: top;\n",
       "    }\n",
       "</style>\n",
       "<table border=\"1\" class=\"dataframe\">\n",
       "  <thead>\n",
       "    <tr style=\"text-align: right;\">\n",
       "      <th></th>\n",
       "      <th>Rooms</th>\n",
       "      <th>Price</th>\n",
       "      <th>Distance</th>\n",
       "      <th>Bathroom</th>\n",
       "      <th>Car</th>\n",
       "      <th>Landsize</th>\n",
       "      <th>YearBuilt</th>\n",
       "      <th>Lattitude</th>\n",
       "      <th>Longtitude</th>\n",
       "      <th>Propertycount</th>\n",
       "    </tr>\n",
       "  </thead>\n",
       "  <tbody>\n",
       "    <tr>\n",
       "      <th>count</th>\n",
       "      <td>8455.000000</td>\n",
       "      <td>8.455000e+03</td>\n",
       "      <td>8455.000000</td>\n",
       "      <td>8455.000000</td>\n",
       "      <td>8455.000000</td>\n",
       "      <td>8455.000000</td>\n",
       "      <td>8455.000000</td>\n",
       "      <td>8455.000000</td>\n",
       "      <td>8455.000000</td>\n",
       "      <td>8455.000000</td>\n",
       "    </tr>\n",
       "    <tr>\n",
       "      <th>mean</th>\n",
       "      <td>3.049911</td>\n",
       "      <td>1.076179e+06</td>\n",
       "      <td>10.661644</td>\n",
       "      <td>1.625310</td>\n",
       "      <td>1.450976</td>\n",
       "      <td>489.560142</td>\n",
       "      <td>1965.713779</td>\n",
       "      <td>-37.807684</td>\n",
       "      <td>144.994818</td>\n",
       "      <td>7480.447546</td>\n",
       "    </tr>\n",
       "    <tr>\n",
       "      <th>std</th>\n",
       "      <td>0.998280</td>\n",
       "      <td>6.768602e+05</td>\n",
       "      <td>6.507412</td>\n",
       "      <td>0.717732</td>\n",
       "      <td>0.709981</td>\n",
       "      <td>777.294062</td>\n",
       "      <td>36.528964</td>\n",
       "      <td>0.085966</td>\n",
       "      <td>0.112282</td>\n",
       "      <td>4342.195880</td>\n",
       "    </tr>\n",
       "    <tr>\n",
       "      <th>min</th>\n",
       "      <td>1.000000</td>\n",
       "      <td>8.500000e+04</td>\n",
       "      <td>0.000000</td>\n",
       "      <td>0.000000</td>\n",
       "      <td>0.000000</td>\n",
       "      <td>0.000000</td>\n",
       "      <td>1830.000000</td>\n",
       "      <td>-38.174360</td>\n",
       "      <td>144.423790</td>\n",
       "      <td>389.000000</td>\n",
       "    </tr>\n",
       "    <tr>\n",
       "      <th>25%</th>\n",
       "      <td>2.000000</td>\n",
       "      <td>6.225000e+05</td>\n",
       "      <td>6.200000</td>\n",
       "      <td>1.000000</td>\n",
       "      <td>1.000000</td>\n",
       "      <td>176.000000</td>\n",
       "      <td>1945.000000</td>\n",
       "      <td>-37.858100</td>\n",
       "      <td>144.927215</td>\n",
       "      <td>4442.000000</td>\n",
       "    </tr>\n",
       "    <tr>\n",
       "      <th>50%</th>\n",
       "      <td>3.000000</td>\n",
       "      <td>8.860000e+05</td>\n",
       "      <td>9.700000</td>\n",
       "      <td>2.000000</td>\n",
       "      <td>1.000000</td>\n",
       "      <td>422.000000</td>\n",
       "      <td>1970.000000</td>\n",
       "      <td>-37.802900</td>\n",
       "      <td>144.999670</td>\n",
       "      <td>6567.000000</td>\n",
       "    </tr>\n",
       "    <tr>\n",
       "      <th>75%</th>\n",
       "      <td>4.000000</td>\n",
       "      <td>1.330000e+06</td>\n",
       "      <td>13.700000</td>\n",
       "      <td>2.000000</td>\n",
       "      <td>2.000000</td>\n",
       "      <td>648.000000</td>\n",
       "      <td>2000.000000</td>\n",
       "      <td>-37.754900</td>\n",
       "      <td>145.062425</td>\n",
       "      <td>10331.000000</td>\n",
       "    </tr>\n",
       "    <tr>\n",
       "      <th>max</th>\n",
       "      <td>12.000000</td>\n",
       "      <td>9.000000e+06</td>\n",
       "      <td>47.300000</td>\n",
       "      <td>9.000000</td>\n",
       "      <td>5.000000</td>\n",
       "      <td>21600.000000</td>\n",
       "      <td>2017.000000</td>\n",
       "      <td>-37.407200</td>\n",
       "      <td>145.482730</td>\n",
       "      <td>21650.000000</td>\n",
       "    </tr>\n",
       "  </tbody>\n",
       "</table>\n",
       "</div>"
      ],
      "text/plain": [
       "             Rooms         Price     Distance     Bathroom          Car  \\\n",
       "count  8455.000000  8.455000e+03  8455.000000  8455.000000  8455.000000   \n",
       "mean      3.049911  1.076179e+06    10.661644     1.625310     1.450976   \n",
       "std       0.998280  6.768602e+05     6.507412     0.717732     0.709981   \n",
       "min       1.000000  8.500000e+04     0.000000     0.000000     0.000000   \n",
       "25%       2.000000  6.225000e+05     6.200000     1.000000     1.000000   \n",
       "50%       3.000000  8.860000e+05     9.700000     2.000000     1.000000   \n",
       "75%       4.000000  1.330000e+06    13.700000     2.000000     2.000000   \n",
       "max      12.000000  9.000000e+06    47.300000     9.000000     5.000000   \n",
       "\n",
       "           Landsize    YearBuilt    Lattitude   Longtitude  Propertycount  \n",
       "count   8455.000000  8455.000000  8455.000000  8455.000000    8455.000000  \n",
       "mean     489.560142  1965.713779   -37.807684   144.994818    7480.447546  \n",
       "std      777.294062    36.528964     0.085966     0.112282    4342.195880  \n",
       "min        0.000000  1830.000000   -38.174360   144.423790     389.000000  \n",
       "25%      176.000000  1945.000000   -37.858100   144.927215    4442.000000  \n",
       "50%      422.000000  1970.000000   -37.802900   144.999670    6567.000000  \n",
       "75%      648.000000  2000.000000   -37.754900   145.062425   10331.000000  \n",
       "max    21600.000000  2017.000000   -37.407200   145.482730   21650.000000  "
      ]
     },
     "execution_count": 44,
     "metadata": {},
     "output_type": "execute_result"
    }
   ],
   "source": [
    "house3.describe()"
   ]
  },
  {
   "cell_type": "code",
   "execution_count": 45,
   "metadata": {},
   "outputs": [
    {
     "name": "stdout",
     "output_type": "stream",
     "text": [
      "<class 'pandas.core.frame.DataFrame'>\n",
      "Int64Index: 8455 entries, 2 to 31413\n",
      "Data columns (total 12 columns):\n",
      "Rooms            8455 non-null int64\n",
      "Type             8455 non-null object\n",
      "Price            8455 non-null float64\n",
      "Method           8455 non-null object\n",
      "Distance         8455 non-null float64\n",
      "Bathroom         8455 non-null float64\n",
      "Car              8455 non-null float64\n",
      "Landsize         8455 non-null float64\n",
      "YearBuilt        8455 non-null float64\n",
      "Lattitude        8455 non-null float64\n",
      "Longtitude       8455 non-null float64\n",
      "Propertycount    8455 non-null float64\n",
      "dtypes: float64(9), int64(1), object(2)\n",
      "memory usage: 858.7+ KB\n"
     ]
    }
   ],
   "source": [
    "house3.info()"
   ]
  },
  {
   "cell_type": "code",
   "execution_count": 46,
   "metadata": {
    "collapsed": true
   },
   "outputs": [],
   "source": [
    "# # #make year an indicator\n",
    "# house3['YearBuiltInd'] = np.where(house3.YearBuilt == 1970,1,0)\n",
    "# # house3['RoomInd'] = np.where(house3.Rooms >3,1,0)\n",
    "# # house3['BathInd'] = np.where(house3.Bathroom >2,1,0)\n",
    "# # house3['CarInd'] = np.where(house3.Car>1,1,0)\n",
    "\n",
    "\n",
    "\n",
    "\n",
    "# house3 = house3.drop(['YearBuilt'],1)"
   ]
  },
  {
   "cell_type": "code",
   "execution_count": 47,
   "metadata": {},
   "outputs": [
    {
     "name": "stderr",
     "output_type": "stream",
     "text": [
      "C:\\Users\\sbohan\\AppData\\Local\\Continuum\\Anaconda3\\lib\\site-packages\\ipykernel_launcher.py:2: RuntimeWarning: divide by zero encountered in log\n",
      "  \n"
     ]
    },
    {
     "data": {
      "text/plain": [
       "<matplotlib.text.Text at 0xd9e6710>"
      ]
     },
     "execution_count": 47,
     "metadata": {},
     "output_type": "execute_result"
    },
    {
     "data": {
      "image/png": "[encoded data removed]",
      "text/plain": [
       "<matplotlib.figure.Figure at 0xd23bd30>"
      ]
     },
     "metadata": {},
     "output_type": "display_data"
    }
   ],
   "source": [
    "#maybe we should transoform Price\n",
    "plt.hist(np.log(house3['Landsize'].dropna()),range=(0,10))\n",
    "plt.title('Log')"
   ]
  },
  {
   "cell_type": "code",
   "execution_count": 364,
   "metadata": {
    "collapsed": true
   },
   "outputs": [],
   "source": [
    "# house3['log_landsize']= np.log(house3['Landsize'].dropna())"
   ]
  },
  {
   "cell_type": "code",
   "execution_count": 48,
   "metadata": {
    "collapsed": true
   },
   "outputs": [],
   "source": [
    "house3 = house3.drop(['Propertycount'],1)\n",
    "house3 = house3.drop(['Landsize'],1)"
   ]
  },
  {
   "cell_type": "code",
   "execution_count": 49,
   "metadata": {},
   "outputs": [
    {
     "data": {
      "text/plain": [
       "Price         1.000000\n",
       "Rooms         0.509473\n",
       "Bathroom      0.493613\n",
       "Car           0.302231\n",
       "Longtitude    0.202649\n",
       "Distance     -0.186863\n",
       "Lattitude    -0.213600\n",
       "YearBuilt    -0.330555\n",
       "Name: Price, dtype: float64"
      ]
     },
     "execution_count": 49,
     "metadata": {},
     "output_type": "execute_result"
    }
   ],
   "source": [
    "corrmat = house3.corr()\n",
    "\n",
    "corrmat['Price'].sort_values(ascending=False)"
   ]
  },
  {
   "cell_type": "code",
   "execution_count": 51,
   "metadata": {
    "collapsed": true
   },
   "outputs": [],
   "source": [
    "# #going to create dummies for my categorical variables\n",
    "# #first convert the floats to oject\n",
    "# house3['Car'] = house3['Car'].astype(str)\n",
    "# house3['Rooms'] = house3['Rooms'].astype(str)\n",
    "# house3['Bathroom'] = house3['Bathroom'].astype(str)\n",
    "\n",
    "house_dummies = pd.get_dummies(house3[['Type','Method']])\n",
    "features = pd.concat([house_dummies, house3], axis=1, join_axes=[house_dummies.index])"
   ]
  },
  {
   "cell_type": "code",
   "execution_count": 52,
   "metadata": {},
   "outputs": [],
   "source": [
    "features = features.drop(['Type','Method'],1)"
   ]
  },
  {
   "cell_type": "code",
   "execution_count": 53,
   "metadata": {},
   "outputs": [
    {
     "name": "stdout",
     "output_type": "stream",
     "text": [
      "<class 'pandas.core.frame.DataFrame'>\n",
      "Int64Index: 8455 entries, 2 to 31413\n",
      "Data columns (total 16 columns):\n",
      "Type_h        8455 non-null uint8\n",
      "Type_t        8455 non-null uint8\n",
      "Type_u        8455 non-null uint8\n",
      "Method_PI     8455 non-null uint8\n",
      "Method_S      8455 non-null uint8\n",
      "Method_SA     8455 non-null uint8\n",
      "Method_SP     8455 non-null uint8\n",
      "Method_VB     8455 non-null uint8\n",
      "Rooms         8455 non-null int64\n",
      "Price         8455 non-null float64\n",
      "Distance      8455 non-null float64\n",
      "Bathroom      8455 non-null float64\n",
      "Car           8455 non-null float64\n",
      "YearBuilt     8455 non-null float64\n",
      "Lattitude     8455 non-null float64\n",
      "Longtitude    8455 non-null float64\n",
      "dtypes: float64(7), int64(1), uint8(8)\n",
      "memory usage: 660.5 KB\n"
     ]
    }
   ],
   "source": [
    "features.info()"
   ]
  },
  {
   "cell_type": "code",
   "execution_count": 54,
   "metadata": {
    "collapsed": true
   },
   "outputs": [],
   "source": [
    "\n",
    "features = features.drop(['Price'],1)\n",
    "\n",
    "\n",
    "# Select only numeric variables to scale.\n",
    "df_num = features.select_dtypes(include=[np.number]).dropna()\n",
    "\n",
    "# Save the column names.\n",
    "names=df_num.columns\n",
    "\n",
    "# Scale, then turn the resulting numpy array back into a data frame with the correct column names.\n",
    "feats_scaled = pd.DataFrame(preprocessing.scale(df_num), columns=names, index=features.index)\n",
    "\n",
    "feats_scaled['Price'] = house3['Price']"
   ]
  },
  {
   "cell_type": "markdown",
   "metadata": {},
   "source": [
    "## Model Time - Lets start with Lasso (lots of features)"
   ]
  },
  {
   "cell_type": "code",
   "execution_count": 55,
   "metadata": {
    "collapsed": true
   },
   "outputs": [],
   "source": [
    "X = feats_scaled.drop(['Price'], axis=1, inplace=False)\n",
    "# Dependent variable\n",
    "Y = feats_scaled['Price']\n",
    "\n",
    "from sklearn.model_selection import train_test_split\n",
    "from sklearn import model_selection\n",
    "\n",
    "# X_train, X_test, Y_train, Y_test =model_selection.train_test_split(X,Y, test_size=0.30, random_state=42) "
   ]
  },
  {
   "cell_type": "code",
   "execution_count": 56,
   "metadata": {},
   "outputs": [
    {
     "name": "stdout",
     "output_type": "stream",
     "text": [
      "\n",
      "The accuracy for train set:  0.5996379724847589\n",
      "The accuracy for test set:  0.573218245243814\n"
     ]
    }
   ],
   "source": [
    "# Declare a logistic regression classifier.\n",
    "from sklearn.linear_model import LogisticRegression\n",
    "X_train, X_test, Y_train, Y_test =model_selection.train_test_split(X,Y, test_size=0.30, random_state=42) \n",
    "from sklearn import linear_model\n",
    "reg = linear_model.LinearRegression()\n",
    "reg.fit(X_train, Y_train)\n",
    "\n",
    "Y_pred = reg.predict(X_test)\n",
    "\n",
    "# print(pd.crosstab(Y_pred, Y_test))\n",
    "\n",
    "print('\\nThe accuracy for train set: ',format(reg.score(X_train, Y_train)))\n",
    "print('The accuracy for test set: ',format(reg.score(X_test, Y_test)))"
   ]
  },
  {
   "cell_type": "code",
   "execution_count": 57,
   "metadata": {},
   "outputs": [
    {
     "name": "stdout",
     "output_type": "stream",
     "text": [
      "\n",
      "Accuracy on training set: 0.956\n",
      "\n",
      "Accuracy on test set: 0.728\n",
      "\n",
      "Each Cross Validated R2 score: \n",
      " [ 0.73114877  0.70802998  0.72698865  0.66725667  0.74709243]\n",
      "\n",
      "Overall Random Forest Regression R2: 0.72 (+/- 0.05)\n",
      "\n"
     ]
    }
   ],
   "source": [
    "from sklearn import ensemble\n",
    "from sklearn.model_selection import cross_val_score\n",
    "\n",
    "rfc = ensemble.RandomForestRegressor()\n",
    "# X = feats_scaled.drop(['ArrDelayInd'], axis=1, inplace=False)\n",
    "# Dependent variable\n",
    "# Y = feats_scaled['ArrDelayInd']\n",
    "X_train, X_test, Y_train, Y_test =model_selection.train_test_split(X,Y, test_size=0.30, random_state=42) \n",
    "\n",
    "rfc.fit(X_train, Y_train)\n",
    "Y_pred = rfc.predict(X_test)\n",
    "\n",
    "# print('\\n RF Accuracy by ArrDelayInd')\n",
    "# print(pd.crosstab(Y_pred, Y_test))\n",
    "\n",
    "print(\"\\nAccuracy on training set: {:.3f}\".format(rfc.score(X_train, Y_train)))\n",
    "print(\"\\nAccuracy on test set: {:.3f}\".format(rfc.score(X_test, Y_test)))\n",
    "\n",
    "\n",
    "rfc_score = cross_val_score(rfc, X, Y, cv=5)\n",
    "print('\\nEach Cross Validated R2 score: \\n', rfc_score)\n",
    "print(\"\\nOverall Random Forest Regression R2: %0.2f (+/- %0.2f)\\n\" % (rfc_score.mean(), rfc_score.std() * 2))"
   ]
  },
  {
   "cell_type": "code",
   "execution_count": null,
   "metadata": {
    "collapsed": true
   },
   "outputs": [],
   "source": []
  }
 ],
 "metadata": {
  "kernelspec": {
   "display_name": "Python 3",
   "language": "python",
   "name": "python3"
  },
  "language_info": {
   "codemirror_mode": {
    "name": "ipython",
    "version": 3
   },
   "file_extension": ".py",
   "mimetype": "text/x-python",
   "name": "python",
   "nbconvert_exporter": "python",
   "pygments_lexer": "ipython3",
   "version": "3.6.1"
  }
 },
 "nbformat": 4,
 "nbformat_minor": 2
}
