{
 "cells": [
  {
   "cell_type": "markdown",
   "metadata": {},
   "source": [
    "Find a data set and build a KNN Regression and an OLS regression. Compare the two. How similar are they? Do they miss in different ways?\n",
    "\n",
    "Create a Jupyter notebook with your models. At the end in a markdown cell write a few paragraphs to describe the models' behaviors and why you favor one model or the other. Try to determine whether there is a situation where you would change your mind, or whether one is unambiguously better than the other. Lastly, try to note what it is about the data that causes the better model to outperform the weaker model."
   ]
  },
  {
   "cell_type": "code",
   "execution_count": 1,
   "metadata": {
    "collapsed": true
   },
   "outputs": [],
   "source": [
    "import numpy as np\n",
    "import pandas as pd\n",
    "import math\n",
    "from matplotlib import pyplot as plt\n",
    "from sklearn import linear_model\n",
    "from sklearn import neighbors\n",
    "from sklearn.model_selection import cross_val_score\n",
    "from sklearn.preprocessing import StandardScaler\n",
    "from sklearn.neighbors import KNeighborsRegressor\n",
    "from sklearn.model_selection import cross_val_score\n",
    "from sklearn import preprocessing\n",
    "import seaborn as sns\n",
    "%matplotlib inline\n",
    "pd.options.display.float_format = '{:.3f}'.format\n",
    "\n",
    "# Suppress annoying harmless error.\n",
    "import warnings\n",
    "warnings.filterwarnings(action=\"ignore\", module=\"scipy\", message=\"^internal gelsd\")"
   ]
  },
  {
   "cell_type": "raw",
   "metadata": {},
   "source": [
    "Name: Name of cereal\n",
    "mfr: Manufacturer of cereal\n",
    "A = American Home Food Products;\n",
    "G = General Mills\n",
    "K = Kelloggs\n",
    "N = Nabisco\n",
    "P = Post\n",
    "Q = Quaker Oats\n",
    "R = Ralston Purina\n",
    "type:\n",
    "cold\n",
    "hot\n",
    "calories: calories per serving\n",
    "protein: grams of protein\n",
    "fat: grams of fat\n",
    "sodium: milligrams of sodium\n",
    "fiber: grams of dietary fiber\n",
    "carbo: grams of complex carbohydrates\n",
    "sugars: grams of sugars\n",
    "potass: milligrams of potassium\n",
    "vitamins: vitamins and minerals - 0, 25, or 100, indicating the typical percentage of FDA recommended\n",
    "shelf: display shelf (1, 2, or 3, counting from the floor)\n",
    "weight: weight in ounces of one serving\n",
    "cups: number of cups in one serving\n",
    "rating: a rating of the cereals (Possibly from Consumer Reports?)\n"
   ]
  },
  {
   "cell_type": "markdown",
   "metadata": {},
   "source": [
    "## Prepping Data Set\n",
    "I will be using a cereal data set, with the nutritional facts for 77 cereal brands. \n",
    "My outcome variable will be rating."
   ]
  },
  {
   "cell_type": "code",
   "execution_count": 2,
   "metadata": {
    "collapsed": true
   },
   "outputs": [],
   "source": [
    "cereal = pd.read_csv('cereal.csv')"
   ]
  },
  {
   "cell_type": "code",
   "execution_count": 3,
   "metadata": {},
   "outputs": [
    {
     "data": {
      "text/html": [
       "<div>\n",
       "<style>\n",
       "    .dataframe thead tr:only-child th {\n",
       "        text-align: right;\n",
       "    }\n",
       "\n",
       "    .dataframe thead th {\n",
       "        text-align: left;\n",
       "    }\n",
       "\n",
       "    .dataframe tbody tr th {\n",
       "        vertical-align: top;\n",
       "    }\n",
       "</style>\n",
       "<table border=\"1\" class=\"dataframe\">\n",
       "  <thead>\n",
       "    <tr style=\"text-align: right;\">\n",
       "      <th></th>\n",
       "      <th>name</th>\n",
       "      <th>mfr</th>\n",
       "      <th>type</th>\n",
       "      <th>calories</th>\n",
       "      <th>protein</th>\n",
       "      <th>fat</th>\n",
       "      <th>sodium</th>\n",
       "      <th>fiber</th>\n",
       "      <th>carbo</th>\n",
       "      <th>sugars</th>\n",
       "      <th>potass</th>\n",
       "      <th>vitamins</th>\n",
       "      <th>shelf</th>\n",
       "      <th>weight</th>\n",
       "      <th>cups</th>\n",
       "      <th>rating</th>\n",
       "    </tr>\n",
       "  </thead>\n",
       "  <tbody>\n",
       "    <tr>\n",
       "      <th>0</th>\n",
       "      <td>100% Bran</td>\n",
       "      <td>N</td>\n",
       "      <td>C</td>\n",
       "      <td>70</td>\n",
       "      <td>4</td>\n",
       "      <td>1</td>\n",
       "      <td>130</td>\n",
       "      <td>10.000</td>\n",
       "      <td>5.000</td>\n",
       "      <td>6</td>\n",
       "      <td>280</td>\n",
       "      <td>25</td>\n",
       "      <td>3</td>\n",
       "      <td>1.000</td>\n",
       "      <td>0.330</td>\n",
       "      <td>68.403</td>\n",
       "    </tr>\n",
       "    <tr>\n",
       "      <th>1</th>\n",
       "      <td>100% Natural Bran</td>\n",
       "      <td>Q</td>\n",
       "      <td>C</td>\n",
       "      <td>120</td>\n",
       "      <td>3</td>\n",
       "      <td>5</td>\n",
       "      <td>15</td>\n",
       "      <td>2.000</td>\n",
       "      <td>8.000</td>\n",
       "      <td>8</td>\n",
       "      <td>135</td>\n",
       "      <td>0</td>\n",
       "      <td>3</td>\n",
       "      <td>1.000</td>\n",
       "      <td>1.000</td>\n",
       "      <td>33.984</td>\n",
       "    </tr>\n",
       "    <tr>\n",
       "      <th>2</th>\n",
       "      <td>All-Bran</td>\n",
       "      <td>K</td>\n",
       "      <td>C</td>\n",
       "      <td>70</td>\n",
       "      <td>4</td>\n",
       "      <td>1</td>\n",
       "      <td>260</td>\n",
       "      <td>9.000</td>\n",
       "      <td>7.000</td>\n",
       "      <td>5</td>\n",
       "      <td>320</td>\n",
       "      <td>25</td>\n",
       "      <td>3</td>\n",
       "      <td>1.000</td>\n",
       "      <td>0.330</td>\n",
       "      <td>59.426</td>\n",
       "    </tr>\n",
       "    <tr>\n",
       "      <th>3</th>\n",
       "      <td>All-Bran with Extra Fiber</td>\n",
       "      <td>K</td>\n",
       "      <td>C</td>\n",
       "      <td>50</td>\n",
       "      <td>4</td>\n",
       "      <td>0</td>\n",
       "      <td>140</td>\n",
       "      <td>14.000</td>\n",
       "      <td>8.000</td>\n",
       "      <td>0</td>\n",
       "      <td>330</td>\n",
       "      <td>25</td>\n",
       "      <td>3</td>\n",
       "      <td>1.000</td>\n",
       "      <td>0.500</td>\n",
       "      <td>93.705</td>\n",
       "    </tr>\n",
       "    <tr>\n",
       "      <th>4</th>\n",
       "      <td>Almond Delight</td>\n",
       "      <td>R</td>\n",
       "      <td>C</td>\n",
       "      <td>110</td>\n",
       "      <td>2</td>\n",
       "      <td>2</td>\n",
       "      <td>200</td>\n",
       "      <td>1.000</td>\n",
       "      <td>14.000</td>\n",
       "      <td>8</td>\n",
       "      <td>-1</td>\n",
       "      <td>25</td>\n",
       "      <td>3</td>\n",
       "      <td>1.000</td>\n",
       "      <td>0.750</td>\n",
       "      <td>34.385</td>\n",
       "    </tr>\n",
       "  </tbody>\n",
       "</table>\n",
       "</div>"
      ],
      "text/plain": [
       "                        name mfr type  calories  protein  fat  sodium  fiber  \\\n",
       "0                  100% Bran   N    C        70        4    1     130 10.000   \n",
       "1          100% Natural Bran   Q    C       120        3    5      15  2.000   \n",
       "2                   All-Bran   K    C        70        4    1     260  9.000   \n",
       "3  All-Bran with Extra Fiber   K    C        50        4    0     140 14.000   \n",
       "4             Almond Delight   R    C       110        2    2     200  1.000   \n",
       "\n",
       "   carbo  sugars  potass  vitamins  shelf  weight  cups  rating  \n",
       "0  5.000       6     280        25      3   1.000 0.330  68.403  \n",
       "1  8.000       8     135         0      3   1.000 1.000  33.984  \n",
       "2  7.000       5     320        25      3   1.000 0.330  59.426  \n",
       "3  8.000       0     330        25      3   1.000 0.500  93.705  \n",
       "4 14.000       8      -1        25      3   1.000 0.750  34.385  "
      ]
     },
     "execution_count": 3,
     "metadata": {},
     "output_type": "execute_result"
    }
   ],
   "source": [
    "cereal.head()"
   ]
  },
  {
   "cell_type": "code",
   "execution_count": 4,
   "metadata": {},
   "outputs": [
    {
     "name": "stdout",
     "output_type": "stream",
     "text": [
      "name        0\n",
      "mfr         0\n",
      "type        0\n",
      "calories    0\n",
      "protein     0\n",
      "fat         0\n",
      "sodium      0\n",
      "fiber       0\n",
      "carbo       0\n",
      "sugars      0\n",
      "potass      0\n",
      "vitamins    0\n",
      "shelf       0\n",
      "weight      0\n",
      "cups        0\n",
      "rating      0\n",
      "dtype: int64\n",
      "\n",
      "\n",
      "<class 'pandas.core.frame.DataFrame'>\n",
      "RangeIndex: 77 entries, 0 to 76\n",
      "Data columns (total 16 columns):\n",
      "name        77 non-null object\n",
      "mfr         77 non-null object\n",
      "type        77 non-null object\n",
      "calories    77 non-null int64\n",
      "protein     77 non-null int64\n",
      "fat         77 non-null int64\n",
      "sodium      77 non-null int64\n",
      "fiber       77 non-null float64\n",
      "carbo       77 non-null float64\n",
      "sugars      77 non-null int64\n",
      "potass      77 non-null int64\n",
      "vitamins    77 non-null int64\n",
      "shelf       77 non-null int64\n",
      "weight      77 non-null float64\n",
      "cups        77 non-null float64\n",
      "rating      77 non-null float64\n",
      "dtypes: float64(5), int64(8), object(3)\n",
      "memory usage: 9.7+ KB\n",
      "None\n",
      "\n",
      "\n",
      "       calories  protein    fat  sodium  fiber  carbo  sugars  potass  \\\n",
      "count    77.000   77.000 77.000  77.000 77.000 77.000  77.000  77.000   \n",
      "mean    106.883    2.545  1.013 159.675  2.152 14.597   6.922  96.078   \n",
      "std      19.484    1.095  1.006  83.832  2.383  4.279   4.445  71.287   \n",
      "min      50.000    1.000  0.000   0.000  0.000 -1.000  -1.000  -1.000   \n",
      "25%     100.000    2.000  0.000 130.000  1.000 12.000   3.000  40.000   \n",
      "50%     110.000    3.000  1.000 180.000  2.000 14.000   7.000  90.000   \n",
      "75%     110.000    3.000  2.000 210.000  3.000 17.000  11.000 120.000   \n",
      "max     160.000    6.000  5.000 320.000 14.000 23.000  15.000 330.000   \n",
      "\n",
      "       vitamins  shelf  weight   cups  rating  \n",
      "count    77.000 77.000  77.000 77.000  77.000  \n",
      "mean     28.247  2.208   1.030  0.821  42.666  \n",
      "std      22.343  0.833   0.150  0.233  14.047  \n",
      "min       0.000  1.000   0.500  0.250  18.043  \n",
      "25%      25.000  1.000   1.000  0.670  33.174  \n",
      "50%      25.000  2.000   1.000  0.750  40.400  \n",
      "75%      25.000  3.000   1.000  1.000  50.828  \n",
      "max     100.000  3.000   1.500  1.500  93.705  \n"
     ]
    }
   ],
   "source": [
    "print(cereal.isnull().sum())\n",
    "print('\\n')\n",
    "print(cereal.info())\n",
    "print('\\n')\n",
    "print(cereal.describe())"
   ]
  },
  {
   "cell_type": "code",
   "execution_count": 5,
   "metadata": {},
   "outputs": [
    {
     "name": "stdout",
     "output_type": "stream",
     "text": [
      "There are 77 unique values for name\n",
      "There are 7 unique values for mfr\n",
      "There are 2 unique values for type\n",
      "There are 11 unique values for calories\n",
      "There are 6 unique values for protein\n",
      "There are 5 unique values for fat\n",
      "There are 27 unique values for sodium\n",
      "There are 13 unique values for fiber\n",
      "There are 22 unique values for carbo\n",
      "There are 17 unique values for sugars\n",
      "There are 36 unique values for potass\n",
      "There are 3 unique values for vitamins\n",
      "There are 3 unique values for shelf\n",
      "There are 7 unique values for weight\n",
      "There are 12 unique values for cups\n",
      "There are 77 unique values for rating\n"
     ]
    }
   ],
   "source": [
    "#to see which variables are likely categorical, lets look at the unique value\n",
    "for col in cereal.columns: \n",
    "    print('There are {} unique values for {}'.format((len(cereal[col].unique())),col))"
   ]
  },
  {
   "cell_type": "code",
   "execution_count": 34,
   "metadata": {},
   "outputs": [
    {
     "data": {
      "text/plain": [
       "rating     1.000\n",
       "sugars     0.760\n",
       "calories   0.689\n",
       "fiber      0.584\n",
       "protein    0.471\n",
       "fat        0.409\n",
       "sodium     0.401\n",
       "potass     0.380\n",
       "weight     0.298\n",
       "vitamins   0.241\n",
       "cups       0.203\n",
       "carbo      0.052\n",
       "shelf      0.025\n",
       "Name: rating, dtype: float64"
      ]
     },
     "execution_count": 34,
     "metadata": {},
     "output_type": "execute_result"
    }
   ],
   "source": [
    "#lets looks at correlations to help select the features I want to use\n",
    "correlations = cereal.corr().loc[:,'rating'].abs().sort_values(ascending=False)\n",
    "correlations"
   ]
  },
  {
   "cell_type": "markdown",
   "metadata": {},
   "source": [
    "OK, so after first inspection, I know that there are categorical variables in mfr, type, shelf, fat, vitamins, weight, and protein, that I will need to deal with. Not going to include shelf, weight or vitamins.\n",
    "\n",
    "Note, I could treat these as continuous as well, for the cases where the variables could actually be ordinal.\n",
    "However, I will continue with these choices. \n",
    "\n",
    "There are also negative values in carbo, sugars, and potassium that I will want to remove.\n",
    "\n"
   ]
  },
  {
   "cell_type": "code",
   "execution_count": 6,
   "metadata": {
    "collapsed": true
   },
   "outputs": [],
   "source": [
    "clean_cereal = cereal.copy()"
   ]
  },
  {
   "cell_type": "code",
   "execution_count": 7,
   "metadata": {
    "collapsed": true
   },
   "outputs": [],
   "source": [
    "#drop shelf, weight, vitamins\n",
    "clean_cereal = clean_cereal.drop(['shelf','vitamins','weight'],axis=1)\n",
    "\n",
    "#remove negative rows with negative values in carbo, sugars, or potass\n",
    "clean_cereal = clean_cereal[clean_cereal.carbo != -1]\n",
    "clean_cereal = clean_cereal[clean_cereal.sugars != -1]\n",
    "clean_cereal = clean_cereal[clean_cereal.potass != -1]\n"
   ]
  },
  {
   "cell_type": "code",
   "execution_count": 8,
   "metadata": {},
   "outputs": [
    {
     "name": "stdout",
     "output_type": "stream",
     "text": [
      "<class 'pandas.core.frame.DataFrame'>\n",
      "Int64Index: 74 entries, 0 to 76\n",
      "Data columns (total 13 columns):\n",
      "name        74 non-null object\n",
      "mfr         74 non-null object\n",
      "type        74 non-null object\n",
      "calories    74 non-null int64\n",
      "protein     74 non-null int64\n",
      "fat         74 non-null int64\n",
      "sodium      74 non-null int64\n",
      "fiber       74 non-null float64\n",
      "carbo       74 non-null float64\n",
      "sugars      74 non-null int64\n",
      "potass      74 non-null int64\n",
      "cups        74 non-null float64\n",
      "rating      74 non-null float64\n",
      "dtypes: float64(4), int64(6), object(3)\n",
      "memory usage: 8.1+ KB\n"
     ]
    }
   ],
   "source": [
    "clean_cereal.info()"
   ]
  },
  {
   "cell_type": "code",
   "execution_count": 9,
   "metadata": {},
   "outputs": [
    {
     "name": "stdout",
     "output_type": "stream",
     "text": [
      "<class 'pandas.core.frame.DataFrame'>\n",
      "Int64Index: 74 entries, 0 to 76\n",
      "Data columns (total 13 columns):\n",
      "name        74 non-null object\n",
      "mfr         74 non-null object\n",
      "type        74 non-null object\n",
      "calories    74 non-null int64\n",
      "protein     74 non-null object\n",
      "fat         74 non-null object\n",
      "sodium      74 non-null int64\n",
      "fiber       74 non-null float64\n",
      "carbo       74 non-null float64\n",
      "sugars      74 non-null int64\n",
      "potass      74 non-null int64\n",
      "cups        74 non-null float64\n",
      "rating      74 non-null float64\n",
      "dtypes: float64(4), int64(4), object(5)\n",
      "memory usage: 8.1+ KB\n"
     ]
    }
   ],
   "source": [
    "#need to convert our categorical vars of interest to object-\n",
    "\n",
    "clean_cereal[['fat','protein']] = clean_cereal[['fat','protein']].astype(object)\n",
    "clean_cereal.info()"
   ]
  },
  {
   "cell_type": "code",
   "execution_count": 10,
   "metadata": {
    "collapsed": true
   },
   "outputs": [],
   "source": [
    "#categorical cleanup - making dummy variables for my categorical features\n",
    "cereal_feat = pd.get_dummies(clean_cereal[['mfr','fat','protein']])"
   ]
  },
  {
   "cell_type": "code",
   "execution_count": 11,
   "metadata": {},
   "outputs": [
    {
     "data": {
      "text/plain": [
       "rating     1.000\n",
       "sugars     0.756\n",
       "calories   0.694\n",
       "fiber      0.603\n",
       "potass     0.416\n",
       "sodium     0.383\n",
       "cups       0.223\n",
       "carbo      0.056\n",
       "Name: rating, dtype: float64"
      ]
     },
     "execution_count": 11,
     "metadata": {},
     "output_type": "execute_result"
    }
   ],
   "source": [
    "#before I add additional features to my feature data frame, \n",
    "#I awnt to look at the relationship with my continuous variables and rating\n",
    "\n",
    "correlations = clean_cereal.corr().loc[:,'rating'].abs().sort_values(ascending=False)\n",
    "correlations\n"
   ]
  },
  {
   "cell_type": "code",
   "execution_count": 12,
   "metadata": {},
   "outputs": [
    {
     "data": {
      "text/html": [
       "<div>\n",
       "<style>\n",
       "    .dataframe thead tr:only-child th {\n",
       "        text-align: right;\n",
       "    }\n",
       "\n",
       "    .dataframe thead th {\n",
       "        text-align: left;\n",
       "    }\n",
       "\n",
       "    .dataframe tbody tr th {\n",
       "        vertical-align: top;\n",
       "    }\n",
       "</style>\n",
       "<table border=\"1\" class=\"dataframe\">\n",
       "  <thead>\n",
       "    <tr style=\"text-align: right;\">\n",
       "      <th></th>\n",
       "      <th>calories</th>\n",
       "      <th>sodium</th>\n",
       "      <th>fiber</th>\n",
       "      <th>carbo</th>\n",
       "      <th>sugars</th>\n",
       "      <th>potass</th>\n",
       "      <th>cups</th>\n",
       "      <th>rating</th>\n",
       "    </tr>\n",
       "  </thead>\n",
       "  <tbody>\n",
       "    <tr>\n",
       "      <th>calories</th>\n",
       "      <td>1.000</td>\n",
       "      <td>0.296</td>\n",
       "      <td>-0.295</td>\n",
       "      <td>0.271</td>\n",
       "      <td>0.569</td>\n",
       "      <td>-0.071</td>\n",
       "      <td>0.089</td>\n",
       "      <td>-0.694</td>\n",
       "    </tr>\n",
       "    <tr>\n",
       "      <th>sodium</th>\n",
       "      <td>0.296</td>\n",
       "      <td>1.000</td>\n",
       "      <td>-0.071</td>\n",
       "      <td>0.328</td>\n",
       "      <td>0.037</td>\n",
       "      <td>-0.039</td>\n",
       "      <td>0.120</td>\n",
       "      <td>-0.383</td>\n",
       "    </tr>\n",
       "    <tr>\n",
       "      <th>fiber</th>\n",
       "      <td>-0.295</td>\n",
       "      <td>-0.071</td>\n",
       "      <td>1.000</td>\n",
       "      <td>-0.379</td>\n",
       "      <td>-0.151</td>\n",
       "      <td>0.912</td>\n",
       "      <td>-0.514</td>\n",
       "      <td>0.603</td>\n",
       "    </tr>\n",
       "    <tr>\n",
       "      <th>carbo</th>\n",
       "      <td>0.271</td>\n",
       "      <td>0.328</td>\n",
       "      <td>-0.379</td>\n",
       "      <td>1.000</td>\n",
       "      <td>-0.452</td>\n",
       "      <td>-0.365</td>\n",
       "      <td>0.358</td>\n",
       "      <td>0.056</td>\n",
       "    </tr>\n",
       "    <tr>\n",
       "      <th>sugars</th>\n",
       "      <td>0.569</td>\n",
       "      <td>0.037</td>\n",
       "      <td>-0.151</td>\n",
       "      <td>-0.452</td>\n",
       "      <td>1.000</td>\n",
       "      <td>0.001</td>\n",
       "      <td>-0.032</td>\n",
       "      <td>-0.756</td>\n",
       "    </tr>\n",
       "    <tr>\n",
       "      <th>potass</th>\n",
       "      <td>-0.071</td>\n",
       "      <td>-0.039</td>\n",
       "      <td>0.912</td>\n",
       "      <td>-0.365</td>\n",
       "      <td>0.001</td>\n",
       "      <td>1.000</td>\n",
       "      <td>-0.502</td>\n",
       "      <td>0.416</td>\n",
       "    </tr>\n",
       "    <tr>\n",
       "      <th>cups</th>\n",
       "      <td>0.089</td>\n",
       "      <td>0.120</td>\n",
       "      <td>-0.514</td>\n",
       "      <td>0.358</td>\n",
       "      <td>-0.032</td>\n",
       "      <td>-0.502</td>\n",
       "      <td>1.000</td>\n",
       "      <td>-0.223</td>\n",
       "    </tr>\n",
       "    <tr>\n",
       "      <th>rating</th>\n",
       "      <td>-0.694</td>\n",
       "      <td>-0.383</td>\n",
       "      <td>0.603</td>\n",
       "      <td>0.056</td>\n",
       "      <td>-0.756</td>\n",
       "      <td>0.416</td>\n",
       "      <td>-0.223</td>\n",
       "      <td>1.000</td>\n",
       "    </tr>\n",
       "  </tbody>\n",
       "</table>\n",
       "</div>"
      ],
      "text/plain": [
       "          calories  sodium  fiber  carbo  sugars  potass   cups  rating\n",
       "calories     1.000   0.296 -0.295  0.271   0.569  -0.071  0.089  -0.694\n",
       "sodium       0.296   1.000 -0.071  0.328   0.037  -0.039  0.120  -0.383\n",
       "fiber       -0.295  -0.071  1.000 -0.379  -0.151   0.912 -0.514   0.603\n",
       "carbo        0.271   0.328 -0.379  1.000  -0.452  -0.365  0.358   0.056\n",
       "sugars       0.569   0.037 -0.151 -0.452   1.000   0.001 -0.032  -0.756\n",
       "potass      -0.071  -0.039  0.912 -0.365   0.001   1.000 -0.502   0.416\n",
       "cups         0.089   0.120 -0.514  0.358  -0.032  -0.502  1.000  -0.223\n",
       "rating      -0.694  -0.383  0.603  0.056  -0.756   0.416 -0.223   1.000"
      ]
     },
     "metadata": {},
     "output_type": "display_data"
    }
   ],
   "source": [
    "from IPython.display import display\n",
    "correlation_matrix = clean_cereal.corr()\n",
    "display(correlation_matrix)"
   ]
  },
  {
   "cell_type": "code",
   "execution_count": 13,
   "metadata": {},
   "outputs": [
    {
     "data": {
      "text/plain": [
       "<seaborn.axisgrid.PairGrid at 0xbd30b00>"
      ]
     },
     "execution_count": 13,
     "metadata": {},
     "output_type": "execute_result"
    },
    {
     "data": {
      "image/png": "[encoded data removed]",
      "text/plain": [
       "<matplotlib.figure.Figure at 0xbd302b0>"
      ]
     },
     "metadata": {},
     "output_type": "display_data"
    }
   ],
   "source": [
    "#going to create a pairplot to examine the relationships with rating\n",
    "#excluding cups and carbo, as they  have low correlation with rating\n",
    "\n",
    "clean_cereal = clean_cereal.drop(['cups','carbo'],axis=1)\n",
    "\n",
    "sns.pairplot(clean_cereal[['rating','sugars','calories','fiber','potass','sodium']])"
   ]
  },
  {
   "cell_type": "code",
   "execution_count": 14,
   "metadata": {
    "collapsed": true
   },
   "outputs": [],
   "source": [
    "#I am going to drop sodium due to its lack of linnear relationship with ratings\n",
    "#I also maybe want to consider combining fiber and potass as a new feature, due to their shared correltion.\n",
    "\n",
    "means = clean_cereal[['potass','fiber']].mean(axis=0)\n",
    "stds = clean_cereal[['potass','fiber']].std(axis=0)\n",
    "cereal_feat['Pot_Fib'] = ((clean_cereal[['potass','fiber']]-means)/stds).mean(axis=1)\n"
   ]
  },
  {
   "cell_type": "code",
   "execution_count": 15,
   "metadata": {
    "collapsed": true
   },
   "outputs": [],
   "source": [
    "#now lets add sugar and calories to our feature data frame\n",
    "cereal_feat['sugars'] = clean_cereal['sugars']\n",
    "cereal_feat['calories'] = clean_cereal['calories']"
   ]
  },
  {
   "cell_type": "code",
   "execution_count": 16,
   "metadata": {},
   "outputs": [
    {
     "name": "stdout",
     "output_type": "stream",
     "text": [
      "<class 'pandas.core.frame.DataFrame'>\n",
      "Int64Index: 74 entries, 0 to 76\n",
      "Data columns (total 20 columns):\n",
      "mfr_A        74 non-null uint8\n",
      "mfr_G        74 non-null uint8\n",
      "mfr_K        74 non-null uint8\n",
      "mfr_N        74 non-null uint8\n",
      "mfr_P        74 non-null uint8\n",
      "mfr_Q        74 non-null uint8\n",
      "mfr_R        74 non-null uint8\n",
      "fat_0        74 non-null uint8\n",
      "fat_1        74 non-null uint8\n",
      "fat_2        74 non-null uint8\n",
      "fat_3        74 non-null uint8\n",
      "fat_5        74 non-null uint8\n",
      "protein_1    74 non-null uint8\n",
      "protein_2    74 non-null uint8\n",
      "protein_3    74 non-null uint8\n",
      "protein_4    74 non-null uint8\n",
      "protein_6    74 non-null uint8\n",
      "Pot_Fib      74 non-null float64\n",
      "sugars       74 non-null int64\n",
      "calories     74 non-null int64\n",
      "dtypes: float64(1), int64(2), uint8(17)\n",
      "memory usage: 6.0 KB\n"
     ]
    }
   ],
   "source": [
    "cereal_feat.info()"
   ]
  },
  {
   "cell_type": "code",
   "execution_count": 17,
   "metadata": {},
   "outputs": [],
   "source": [
    "#now scale!\n",
    "\n",
    "# Select only numeric variables to scale.\n",
    "df_num = cereal_feat.select_dtypes(include=[np.number]).dropna()\n",
    "\n",
    "# Save the column names.\n",
    "names=df_num.columns\n",
    "\n",
    "# Scale, then turn the resulting numpy array back into a data frame with the correct column names.\n",
    "cereal_scaled = pd.DataFrame(preprocessing.scale(df_num), columns=names, index=clean_cereal.index)\n",
    "\n"
   ]
  },
  {
   "cell_type": "code",
   "execution_count": 18,
   "metadata": {},
   "outputs": [
    {
     "name": "stdout",
     "output_type": "stream",
     "text": [
      "sugars      0.756\n",
      "calories    0.694\n",
      "Pot_Fib     0.521\n",
      "mfr_N       0.508\n",
      "fat_0       0.471\n",
      "protein_1   0.427\n",
      "mfr_G       0.368\n",
      "protein_4   0.323\n",
      "fat_2       0.219\n",
      "fat_1       0.208\n",
      "Name: rating, dtype: float64\n"
     ]
    }
   ],
   "source": [
    "#select the best features\n",
    "\n",
    "#for this, I will look at the corleation with the target var\n",
    "#i need to add ratings to our data frame as well\n",
    "cereal_scaled['rating'] = clean_cereal['rating']\n",
    "corrmat = cereal_scaled.corr()\n",
    "#top 10 features\n",
    "print(corrmat.rating.abs().sort_values(ascending=False).iloc[1:11])"
   ]
  },
  {
   "cell_type": "markdown",
   "metadata": {
    "collapsed": true
   },
   "source": [
    "## OLS REG"
   ]
  },
  {
   "cell_type": "code",
   "execution_count": 19,
   "metadata": {},
   "outputs": [
    {
     "name": "stdout",
     "output_type": "stream",
     "text": [
      "\n",
      "Coefficients: \n",
      " [-6.01934354 -3.14164478  4.49185202  2.00958371  3.5879863  -1.94001013\n",
      " -1.20133545  1.12692254  0.80435241  1.27925419]\n",
      "\n",
      "Intercept: \n",
      " 42.3717869324\n",
      "\n",
      "R-squared:\n",
      "0.930700718811\n"
     ]
    }
   ],
   "source": [
    "from sklearn import linear_model\n",
    "regr = linear_model.LinearRegression()\n",
    "features = cereal_scaled[['sugars', 'calories', 'Pot_Fib', 'mfr_N', 'fat_0', 'protein_1','mfr_G', 'protein_4',\n",
    "                          'fat_2', 'fat_1']]\n",
    "target = cereal_scaled['rating']\n",
    "\n",
    "regr.fit(features,target)\n",
    "print('\\nCoefficients: \\n', regr.coef_)\n",
    "print('\\nIntercept: \\n', regr.intercept_)\n",
    "print('\\nR-squared:')\n",
    "print(regr.score(features,target))\n"
   ]
  },
  {
   "cell_type": "code",
   "execution_count": 20,
   "metadata": {},
   "outputs": [
    {
     "name": "stdout",
     "output_type": "stream",
     "text": [
      "\n",
      "Training Coefficients: \n",
      " [-6.54371061 -3.1463199   4.88247862  2.79397807  2.72205779 -1.24707023\n",
      " -1.71650754  1.39083667  1.51434701  1.29778146]\n",
      "\n",
      "Training Intercept: \n",
      " 42.3915068655\n",
      "\n",
      "Training R-squared:\n",
      "The R^2 value for train set: {} 0.9370912501128594\n",
      "The R^2 value for test set: {} 0.846274011068691\n"
     ]
    }
   ],
   "source": [
    "from sklearn.model_selection import train_test_split\n",
    "from sklearn import model_selection\n",
    "\n",
    "data_train, data_test, target_train, target_test = model_selection.train_test_split(\n",
    "   features, target, test_size=0.30, random_state=42) \n",
    "\n",
    "# # Fit our model to the data.\n",
    "regr.fit(data_train, target_train)\n",
    "\n",
    "# Classify, storing the result in a new variable.\n",
    "test_pred = regr.predict(data_test) \n",
    "train_pred = regr.predict(data_train)\n",
    "\n",
    "print('\\nTraining Coefficients: \\n', regr.coef_)\n",
    "print('\\nTraining Intercept: \\n', regr.intercept_)\n",
    "print('\\nTraining R-squared:')\n",
    "print('The R^2 value for train set: {}',format(regr.score(data_train,target_train)))\n",
    "print('The R^2 value for test set: {}',format(regr.score(data_test,target_test)))\n",
    "\n"
   ]
  },
  {
   "cell_type": "markdown",
   "metadata": {},
   "source": [
    "The R^2 is fairly high. However, there could be some overfitting given the higher R^2 value in our train group. \n",
    "I could look into further modifying the features, but going to leave as is for now. \n",
    "\n",
    "I also want to look at the RMSE value as well as the predicted vs. residual values"
   ]
  },
  {
   "cell_type": "code",
   "execution_count": 163,
   "metadata": {},
   "outputs": [
    {
     "name": "stdout",
     "output_type": "stream",
     "text": [
      "5.26666494185213\n"
     ]
    }
   ],
   "source": [
    "from sklearn.model_selection import cross_val_predict\n",
    "predict = cross_val_predict(regr, features, target, cv=5)\n",
    "actual = target\n",
    "RMSE = (np.mean((actual -predict)**2))**0.50\n",
    "print(RMSE)"
   ]
  },
  {
   "cell_type": "code",
   "execution_count": 21,
   "metadata": {},
   "outputs": [
    {
     "data": {
      "image/png": "[encoded data removed]",
      "text/plain": [
       "<matplotlib.figure.Figure at 0xd8893c8>"
      ]
     },
     "metadata": {},
     "output_type": "display_data"
    },
    {
     "data": {
      "image/png": "[encoded data removed]",
      "text/plain": [
       "<matplotlib.figure.Figure at 0xcc12e10>"
      ]
     },
     "metadata": {},
     "output_type": "display_data"
    }
   ],
   "source": [
    "predicted = regr.predict(features)\n",
    "actual = target\n",
    "\n",
    "\n",
    "# Calculate residuals\n",
    "residual = actual - predicted\n",
    "residual = pd.to_numeric(residual)\n",
    "\n",
    "\n",
    "# Histogram of residuals\n",
    "plt.hist(residual,bins=30)\n",
    "plt.title('Residual counts')\n",
    "plt.xlabel('Residual')\n",
    "plt.ylabel('Count')\n",
    "plt.xlim()\n",
    "plt.show()\n",
    "\n",
    "plt.scatter(predicted, residual)\n",
    "plt.xlabel('Predicted')\n",
    "plt.ylabel('Residual')\n",
    "plt.axhline(y=0)\n",
    "plt.title('Residual vs. Predicted')\n",
    "plt.show()\n",
    "\n"
   ]
  },
  {
   "cell_type": "markdown",
   "metadata": {},
   "source": [
    "Not terrible. High R^2 and the RMSE is relatively low."
   ]
  },
  {
   "cell_type": "markdown",
   "metadata": {
    "collapsed": true
   },
   "source": [
    "## KNN REG"
   ]
  },
  {
   "cell_type": "code",
   "execution_count": 23,
   "metadata": {},
   "outputs": [
    {
     "name": "stdout",
     "output_type": "stream",
     "text": [
      "\n",
      "Each Cross Validated R2 score: \n",
      " [ 0.52937795  0.54370826  0.40479135  0.21807929  0.35222527]\n",
      "\n",
      "Unweighted Accuracy: 0.41 (+/- 0.24)\n"
     ]
    }
   ],
   "source": [
    "\n",
    "\n",
    "from sklearn.preprocessing import MinMaxScaler\n",
    "from sklearn import neighbors\n",
    "scaler = MinMaxScaler()\n",
    "\n",
    "# using the features from my lin reg\n",
    "knn = neighbors.KNeighborsRegressor(n_neighbors=5)\n",
    "X = pd.DataFrame(cereal_feat[['sugars', 'calories', 'Pot_Fib', 'mfr_N', 'fat_0', 'protein_1','mfr_G', 'protein_4',\n",
    "                          'fat_2', 'fat_1']])\n",
    "X_norm = scaler.fit_transform(X)\n",
    "Y = clean_cereal.rating\n",
    "knn.fit(X_norm, Y)\n",
    "\n",
    "from sklearn.model_selection import cross_val_score\n",
    "score = cross_val_score(knn, X_norm, Y, cv=5)\n",
    "print('\\nEach Cross Validated R2 score: \\n', score)\n",
    "print(\"\\nUnweighted Accuracy: %0.2f (+/- %0.2f)\" % (score.mean(), score.std() * 2))\n"
   ]
  },
  {
   "cell_type": "code",
   "execution_count": 24,
   "metadata": {},
   "outputs": [
    {
     "name": "stdout",
     "output_type": "stream",
     "text": [
      "\n",
      "Each Cross Validated R2 score: \n",
      " [ 0.742222    0.51209123  0.81242877  0.87602278  0.55019042]\n",
      "\n",
      "Unweighted Accuracy: 0.70 (+/- 0.29)\n"
     ]
    }
   ],
   "source": [
    "#this isn't great, so now I am going to look at the features from the OLS model that have highest corr with rating\n",
    "from sklearn.preprocessing import MinMaxScaler\n",
    "from sklearn import neighbors\n",
    "scaler = MinMaxScaler()\n",
    "\n",
    "\n",
    "knn = neighbors.KNeighborsRegressor(n_neighbors=5)\n",
    "X = pd.DataFrame(cereal_feat[[ 'sugars', 'calories', 'Pot_Fib']\n",
    "])\n",
    "X_norm = scaler.fit_transform(X)\n",
    "Y = clean_cereal.rating\n",
    "knn.fit(X_norm, Y)\n",
    "\n",
    "from sklearn.model_selection import cross_val_score\n",
    "score = cross_val_score(knn, X_norm, Y, cv=5)\n",
    "print('\\nEach Cross Validated R2 score: \\n', score)\n",
    "print(\"\\nUnweighted Accuracy: %0.2f (+/- %0.2f)\" % (score.mean(), score.std() * 2))\n"
   ]
  },
  {
   "cell_type": "code",
   "execution_count": 25,
   "metadata": {},
   "outputs": [
    {
     "name": "stdout",
     "output_type": "stream",
     "text": [
      "\n",
      "Each Cross Validated R2 score: \n",
      " [ 0.74038143  0.53904589  0.80362764  0.81206763  0.57055427]\n",
      "\n",
      "Unweighted Accuracy: 0.69 (+/- 0.23)\n"
     ]
    }
   ],
   "source": [
    "#this is much better, but still not has good as the OLS model \n",
    "#lets try weighting my neighbors Extract predicted values.\n",
    "#weighted\n",
    "knn_w = neighbors.KNeighborsRegressor(n_neighbors=5, weights='distance')\n",
    "knn_w.fit(X_norm, Y)\n",
    "\n",
    "score_w = cross_val_score(knn_w, X_norm, Y, cv=5)\n",
    "print('\\nEach Cross Validated R2 score: \\n', score_w)\n",
    "print(\"\\nUnweighted Accuracy: %0.2f (+/- %0.2f)\" % (score_w.mean(), score_w.std() * 2))"
   ]
  },
  {
   "cell_type": "markdown",
   "metadata": {},
   "source": [
    "This is about the same as the unweighted model. Now let's look at the RMSE"
   ]
  },
  {
   "cell_type": "code",
   "execution_count": 29,
   "metadata": {},
   "outputs": [
    {
     "name": "stdout",
     "output_type": "stream",
     "text": [
      "7.352982174259503\n"
     ]
    }
   ],
   "source": [
    "from sklearn.model_selection import cross_val_predict\n",
    "predict_k = cross_val_predict(knn, X_norm, Y, cv=5)\n",
    "\n",
    "actual_k = Y\n",
    "RMSE = (np.mean((actual_k -predict_k)**2))**0.50\n",
    "print(RMSE)\n",
    "\n"
   ]
  },
  {
   "cell_type": "code",
   "execution_count": null,
   "metadata": {
    "collapsed": true
   },
   "outputs": [],
   "source": []
  },
  {
   "cell_type": "code",
   "execution_count": 30,
   "metadata": {},
   "outputs": [
    {
     "data": {
      "image/png": "[encoded data removed]",
      "text/plain": [
       "<matplotlib.figure.Figure at 0xd8dc198>"
      ]
     },
     "metadata": {},
     "output_type": "display_data"
    }
   ],
   "source": [
    "#OLS\n",
    "predicted = regr.predict(features)\n",
    "actual = target\n",
    "\n",
    "\n",
    "# KNN\n",
    "predicted_k = knn.predict(X_norm)\n",
    "actual_k = Y\n",
    "\n",
    "# Calculate residuals\n",
    "residual = actual - predicted\n",
    "residual = pd.to_numeric(residual)\n",
    "\n",
    "residual_k = actual_k - predicted_k\n",
    "residual_k = pd.to_numeric(residual_k)\n",
    "\n",
    "plt.scatter(predicted_k, residual_k, c='b')\n",
    "plt.xlabel('Predicted')\n",
    "plt.ylabel('Residual')\n",
    "plt.axhline(y=0)\n",
    "plt.title('Residual vs. Predicted')\n",
    "\n",
    "\n",
    "plt.scatter(predicted, residual,c='r')\n",
    "plt.xlabel('Predicted')\n",
    "plt.ylabel('Residual')\n",
    "plt.axhline(y=0)\n",
    "plt.title('Residual vs. Predicted')\n",
    "plt.show()\n"
   ]
  },
  {
   "cell_type": "markdown",
   "metadata": {
    "collapsed": true
   },
   "source": [
    "This is interesting. The points are pretty close together, but the range of the predicted values for OLS is higher. \n",
    "This is because the largest value the nearest neighbor model can predict has to be the largest value in the training set, which needs to be the nbearest neighbor. With the KNN model, we are taking weighted averages, which are never going to return the max predicted value. \n",
    "\n",
    "Overall, my OLS model did better, but there is some tuning I can do to both, overall. "
   ]
  },
  {
   "cell_type": "code",
   "execution_count": null,
   "metadata": {
    "collapsed": true
   },
   "outputs": [],
   "source": []
  }
 ],
 "metadata": {
  "kernelspec": {
   "display_name": "Python 3",
   "language": "python",
   "name": "python3"
  },
  "language_info": {
   "codemirror_mode": {
    "name": "ipython",
    "version": 3
   },
   "file_extension": ".py",
   "mimetype": "text/x-python",
   "name": "python",
   "nbconvert_exporter": "python",
   "pygments_lexer": "ipython3",
   "version": "3.6.1"
  }
 },
 "nbformat": 4,
 "nbformat_minor": 2
}
