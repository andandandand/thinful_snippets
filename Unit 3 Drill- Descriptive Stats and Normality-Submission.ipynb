{
 "cells": [
  {
   "cell_type": "markdown",
   "metadata": {},
   "source": [
    "1.Generate a random variable with 100 datapoints using the code distributionvar = np.random.distributionname([arguments], 100), replacing distributionvar with an appropriate variable name and distributionname with the name of the distribution you’ve chosen, and filling in the empty space in the parentheses with your chosen values for the appropriate parameters. If you feel uncertain about how to do this, go back to the “Other Distributions” assignment for examples of code to use as a starting point.\n",
    "\n",
    "2.Graph the variable using a histogram.\n",
    "\n",
    "3.Compute the mean and standard deviation and plot them as vertical lines on the histogram. (Hint: the “When Does It Break?” assignment you just completed can help you here.)\n",
    "\n",
    "4.Evaluate whether the descriptive statistics provided useful information about the variable. Can you identify any common characteristics of the distributions that could be usefully described using the mean and/or standard deviation, versus the ones that could not?"
   ]
  },
  {
   "cell_type": "code",
   "execution_count": 1,
   "metadata": {
    "collapsed": true
   },
   "outputs": [],
   "source": [
    "import numpy as np\n",
    "import pandas as pd\n",
    "import matplotlib.pyplot as plt\n",
    "%matplotlib inline"
   ]
  },
  {
   "cell_type": "markdown",
   "metadata": {},
   "source": [
    "distributionvar = np.random.distributionname([arguments], 100)"
   ]
  },
  {
   "cell_type": "markdown",
   "metadata": {},
   "source": [
    "# 1"
   ]
  },
  {
   "cell_type": "markdown",
   "metadata": {},
   "source": [
    "Binomial- used for success/failures. For example, people that are color blind (with probability p of 0.25)"
   ]
  },
  {
   "cell_type": "code",
   "execution_count": 22,
   "metadata": {},
   "outputs": [
    {
     "data": {
      "image/png": "[encoded data removed]",
      "text/plain": [
       "<matplotlib.figure.Figure at 0xa25a7f0>"
      ]
     },
     "metadata": {},
     "output_type": "display_data"
    }
   ],
   "source": [
    "binomial=np.random.binomial(20,.25,100)\n",
    "plt.hist(binomial)\n",
    "plt.axvline(binomial.mean(), color='r', linestyle='solid')\n",
    "plt.axvline(binomial.mean() + binomial.std(), color='r', linestyle='dashed')\n",
    "plt.axvline(binomial.mean() - binomial.std(), color='r', linestyle='dashed')\n",
    "plt.show()"
   ]
  },
  {
   "cell_type": "code",
   "execution_count": 23,
   "metadata": {},
   "outputs": [
    {
     "name": "stdout",
     "output_type": "stream",
     "text": [
      "4.5\n",
      "1.78044938148\n",
      "4.0\n"
     ]
    }
   ],
   "source": [
    "mean=np.mean(binomial)\n",
    "sd=np.std(binomial)\n",
    "median=np.median(binomial)\n",
    "print(mean)\n",
    "print(sd)\n",
    "print(median)"
   ]
  },
  {
   "cell_type": "code",
   "execution_count": 25,
   "metadata": {},
   "outputs": [
    {
     "data": {
      "image/png": "[encoded data removed]",
      "text/plain": [
       "<matplotlib.figure.Figure at 0xa2a3cc0>"
      ]
     },
     "metadata": {},
     "output_type": "display_data"
    }
   ],
   "source": [
    "norm = np.random.normal(0, 1, 100)\n",
    "binomial.sort()\n",
    "norm.sort()\n",
    "plt.plot(norm, binomial, \"o\") \n",
    "plt.show() "
   ]
  },
  {
   "cell_type": "code",
   "execution_count": 6,
   "metadata": {},
   "outputs": [
    {
     "data": {
      "text/plain": [
       "5.0"
      ]
     },
     "execution_count": 6,
     "metadata": {},
     "output_type": "execute_result"
    }
   ],
   "source": [
    "np.median(binomial)"
   ]
  },
  {
   "cell_type": "markdown",
   "metadata": {
    "collapsed": true
   },
   "source": [
    "in the case of binomial distributions, their shape resembles a normal distribution, especially when the sample size is large enough. Also, the mean and median are roughly equal. Looking at the QQ plot, the values of the binomial variable are not normally distributed, thus I would no longer use mean and standard deviation as descriptive statistics. The median and mean would diverge more with a small sample size. To describe this distribution, while it has a bell shaped curve, there is (right) skew in the shape. "
   ]
  },
  {
   "cell_type": "markdown",
   "metadata": {},
   "source": [
    "# 2"
   ]
  },
  {
   "cell_type": "markdown",
   "metadata": {
    "collapsed": true
   },
   "source": [
    "Uniform distribution"
   ]
  },
  {
   "cell_type": "code",
   "execution_count": 16,
   "metadata": {
    "collapsed": true
   },
   "outputs": [],
   "source": [
    " uniform = np.random.uniform(0,1,100)"
   ]
  },
  {
   "cell_type": "code",
   "execution_count": 17,
   "metadata": {},
   "outputs": [
    {
     "data": {
      "image/png": "[encoded data removed]",
      "text/plain": [
       "<matplotlib.figure.Figure at 0xa5ca518>"
      ]
     },
     "metadata": {},
     "output_type": "display_data"
    }
   ],
   "source": [
    "plt.hist(uniform,bins=15,normed=True)\n",
    "plt.axvline(uniform.mean(), color='r', linestyle='solid')\n",
    "plt.axvline(uniform.mean() + uniform.std(), color='r', linestyle='dashed')\n",
    "plt.axvline(uniform.mean() - uniform.std(), color='r', linestyle='dashed')\n",
    "plt.show()"
   ]
  },
  {
   "cell_type": "code",
   "execution_count": 19,
   "metadata": {},
   "outputs": [
    {
     "name": "stdout",
     "output_type": "stream",
     "text": [
      "0.477757152376\n",
      "0.273879226387\n",
      "0.476583570609\n"
     ]
    }
   ],
   "source": [
    "mean=np.mean(uniform)\n",
    "sd=np.std(uniform)\n",
    "median = np.median(uniform)\n",
    "print(mean)\n",
    "print(sd)\n",
    "print(median)"
   ]
  },
  {
   "cell_type": "code",
   "execution_count": 17,
   "metadata": {},
   "outputs": [
    {
     "data": {
      "image/png": "[encoded data removed]",
      "text/plain": [
       "<matplotlib.figure.Figure at 0xa768c18>"
      ]
     },
     "metadata": {},
     "output_type": "display_data"
    }
   ],
   "source": [
    "norm = np.random.normal(0, 1, 100)\n",
    "uniform.sort()\n",
    "norm.sort()\n",
    "plt.plot(norm, uniform, \"o\") \n",
    "plt.show() "
   ]
  },
  {
   "cell_type": "markdown",
   "metadata": {},
   "source": [
    "Again, the values of the uniform variable I created are not normally distributed, per the QQ plot. While the median and mean are close to equal, mean or standard deviation may not be the best descriptive statistics. To describe the shape, the uniform distribution does not appear to be unimodal, and has multiple peaks, which is not typical of normally distributed data. "
   ]
  },
  {
   "cell_type": "markdown",
   "metadata": {},
   "source": [
    "# 3"
   ]
  },
  {
   "cell_type": "markdown",
   "metadata": {},
   "source": [
    "Poisson- useful for representing number of times of a give event. Here using a shape of 5"
   ]
  },
  {
   "cell_type": "code",
   "execution_count": 44,
   "metadata": {},
   "outputs": [
    {
     "data": {
      "image/png": "[encoded data removed]",
      "text/plain": [
       "<matplotlib.figure.Figure at 0xa2fb208>"
      ]
     },
     "metadata": {},
     "output_type": "display_data"
    }
   ],
   "source": [
    "poisson = np.random.poisson(5, 100)\n",
    "plt.hist(poisson)\n",
    "plt.axvline(poisson.mean(), color='r', linestyle='solid')\n",
    "plt.axvline(poisson.mean() + poisson.std(), color='r', linestyle='dashed')\n",
    "plt.axvline(poisson.mean() - poisson.std(), color='r', linestyle='dashed')\n",
    "plt.show()"
   ]
  },
  {
   "cell_type": "code",
   "execution_count": 45,
   "metadata": {},
   "outputs": [
    {
     "name": "stdout",
     "output_type": "stream",
     "text": [
      "4.65\n",
      "2.00686322404\n",
      "4.5\n"
     ]
    }
   ],
   "source": [
    "mean=np.mean(poisson)\n",
    "sd=np.std(poisson)\n",
    "median=np.median(poisson)\n",
    "print(mean)\n",
    "print(sd)\n",
    "print(median)"
   ]
  },
  {
   "cell_type": "code",
   "execution_count": 31,
   "metadata": {},
   "outputs": [
    {
     "data": {
      "image/png": "[encoded data removed]",
      "text/plain": [
       "<matplotlib.figure.Figure at 0xa198b38>"
      ]
     },
     "metadata": {},
     "output_type": "display_data"
    }
   ],
   "source": [
    "norm = np.random.normal(0, 1, 100)\n",
    "poisson.sort()\n",
    "norm.sort()\n",
    "plt.plot(norm, poisson, \"o\") \n",
    "plt.show() "
   ]
  },
  {
   "cell_type": "markdown",
   "metadata": {},
   "source": [
    "Again, the Poisson distribution is an example of one that appears to have a normal distribution, but in actuality, based on the QQ plot, the data in the poisson variable is not distributed. Also, the distribution appears to change (becomes more or less skewed) as the lambda is changed. The median and mean diverge slightly as well, indicated a skew in the poisson distribution (right). "
   ]
  },
  {
   "cell_type": "markdown",
   "metadata": {},
   "source": [
    "# 4"
   ]
  },
  {
   "cell_type": "markdown",
   "metadata": {},
   "source": [
    "\n"
   ]
  },
  {
   "cell_type": "markdown",
   "metadata": {},
   "source": [
    "Gamma- good for things like a lifespan until death (starts out unlikely, then more likely, then less likely again). "
   ]
  },
  {
   "cell_type": "code",
   "execution_count": 86,
   "metadata": {},
   "outputs": [
    {
     "data": {
      "image/png": "[encoded data removed]",
      "text/plain": [
       "<matplotlib.figure.Figure at 0xa550e10>"
      ]
     },
     "metadata": {},
     "output_type": "display_data"
    }
   ],
   "source": [
    "gamma =np.random.gamma(4., 1., 100)\n",
    "plt.hist(gamma)\n",
    "plt.axvline(gamma.mean(), color='r', linestyle='solid')\n",
    "plt.axvline(gamma.mean() + gamma.std(), color='r', linestyle='dashed')\n",
    "plt.axvline(gamma.mean() - gamma.std(), color='r', linestyle='dashed')\n",
    "plt.show()\n",
    "plt.show()"
   ]
  },
  {
   "cell_type": "code",
   "execution_count": 75,
   "metadata": {},
   "outputs": [
    {
     "name": "stdout",
     "output_type": "stream",
     "text": [
      "3.65037644502\n",
      "1.78751302461\n",
      "3.44486455852\n"
     ]
    }
   ],
   "source": [
    "mean=np.mean(gamma)\n",
    "sd=np.std(gamma)\n",
    "median=np.median(gamma)\n",
    "print(mean)\n",
    "print(sd)\n",
    "print(median)"
   ]
  },
  {
   "cell_type": "code",
   "execution_count": 76,
   "metadata": {},
   "outputs": [
    {
     "data": {
      "image/png": "[encoded data removed]",
      "text/plain": [
       "<matplotlib.figure.Figure at 0x99fb080>"
      ]
     },
     "metadata": {},
     "output_type": "display_data"
    }
   ],
   "source": [
    "norm = np.random.normal(0, 1, 100)\n",
    "gamma.sort()\n",
    "norm.sort()\n",
    "plt.plot(norm, gamma, \"o\") \n",
    "plt.show() "
   ]
  },
  {
   "cell_type": "markdown",
   "metadata": {},
   "source": [
    "Based on the Gamma distribution above, there appears to be some (right) skew, and the mean and median also diverge and there clearly is the presence of outliers. That being said, the shape of the disribution changes as the shape and scale are adjusted, so one shouldn't judge by shape alone. The QQ plot does seem to follow a straight line, unlike the other distributions thus far, but there is still a slight curve in the plot. "
   ]
  },
  {
   "cell_type": "markdown",
   "metadata": {
    "collapsed": true
   },
   "source": [
    "# 5"
   ]
  },
  {
   "cell_type": "markdown",
   "metadata": {},
   "source": [
    "lognomral- used for things like milk production by cows, amounts of rainfall, etcx. "
   ]
  },
  {
   "cell_type": "code",
   "execution_count": 84,
   "metadata": {},
   "outputs": [
    {
     "data": {
      "image/png": "[encoded data removed]",
      "text/plain": [
       "<matplotlib.figure.Figure at 0xa435278>"
      ]
     },
     "metadata": {},
     "output_type": "display_data"
    }
   ],
   "source": [
    "lognormal = np.random.lognormal(3.,1.,100)\n",
    "plt.hist(lognormal, bins=10)\n",
    "plt.axvline(lognormal.mean(), color='r', linestyle='solid')\n",
    "plt.axvline(lognormal.mean() + lognormal.std(), color='r', linestyle='dashed')\n",
    "plt.axvline(lognormal.mean() - lognormal.std(), color='r', linestyle='dashed')\n",
    "plt.show()"
   ]
  },
  {
   "cell_type": "code",
   "execution_count": 65,
   "metadata": {},
   "outputs": [
    {
     "name": "stdout",
     "output_type": "stream",
     "text": [
      "35.6097028441\n",
      "47.4864523052\n",
      "18.6804421342\n"
     ]
    }
   ],
   "source": [
    "mean=np.mean(lognormal)\n",
    "sd=np.std(lognormal)\n",
    "median=np.median(lognormal)\n",
    "print(mean)\n",
    "print(sd)\n",
    "print(median)"
   ]
  },
  {
   "cell_type": "code",
   "execution_count": 66,
   "metadata": {},
   "outputs": [
    {
     "data": {
      "image/png": "[encoded data removed]",
      "text/plain": [
       "<matplotlib.figure.Figure at 0xa484550>"
      ]
     },
     "metadata": {},
     "output_type": "display_data"
    }
   ],
   "source": [
    "norm = np.random.normal(0, 1, 100)\n",
    "lognormal.sort()\n",
    "norm.sort()\n",
    "plt.plot(norm, lognormal, \"o\") \n",
    "plt.show() "
   ]
  },
  {
   "cell_type": "markdown",
   "metadata": {},
   "source": [
    "Based on the distribution of the lognormal variable, it is clear the there is a lot of skew in the data (right skew), as the data tends to trail off as the data in the variable increases in value along the x-axis. Also, given that the mean and median diverge greatly, I would not use the mean or standard deviation as the best descriptive statistics. The QQ plot also shows that the data in the lognormal variable is not normally distributed. "
   ]
  },
  {
   "cell_type": "markdown",
   "metadata": {},
   "source": [
    "# 6"
   ]
  },
  {
   "cell_type": "markdown",
   "metadata": {},
   "source": [
    "Weibull, with a shape of 5"
   ]
  },
  {
   "cell_type": "code",
   "execution_count": 82,
   "metadata": {},
   "outputs": [
    {
     "data": {
      "image/png": "[encoded data removed]",
      "text/plain": [
       "<matplotlib.figure.Figure at 0xa19c550>"
      ]
     },
     "metadata": {},
     "output_type": "display_data"
    }
   ],
   "source": [
    "weibull = np.random.weibull(5.,100)\n",
    "plt.hist(weibull, normed=True)\n",
    "plt.axvline(weibull.mean(), color='r', linestyle='solid')\n",
    "plt.axvline(weibull.mean() + weibull.std(), color='r', linestyle='dashed')\n",
    "plt.axvline(weibull.mean() - weibull.std(), color='r', linestyle='dashed')\n",
    "plt.show()\n"
   ]
  },
  {
   "cell_type": "code",
   "execution_count": 80,
   "metadata": {},
   "outputs": [
    {
     "name": "stdout",
     "output_type": "stream",
     "text": [
      "0.918796511999\n",
      "0.227458102497\n",
      "0.927460699708\n"
     ]
    }
   ],
   "source": [
    "mean=np.mean(weibull)\n",
    "sd=np.std(weibull)\n",
    "median=np.median(weibull)\n",
    "print(mean)\n",
    "print(sd)\n",
    "print(median)"
   ]
  },
  {
   "cell_type": "code",
   "execution_count": 81,
   "metadata": {},
   "outputs": [
    {
     "data": {
      "image/png": "[encoded data removed]",
      "text/plain": [
       "<matplotlib.figure.Figure at 0xa56d400>"
      ]
     },
     "metadata": {},
     "output_type": "display_data"
    }
   ],
   "source": [
    "norm = np.random.normal(0, 1, 100)\n",
    "weibull.sort()\n",
    "norm.sort()\n",
    "plt.plot(norm, weibull, \"o\") \n",
    "plt.show() "
   ]
  },
  {
   "cell_type": "markdown",
   "metadata": {
    "collapsed": true
   },
   "source": [
    "The weibull distribution does have a fairly normal bell-shaped curve, with a near straight-lined QQ plot, and a close mean and median. However, there are peaks in the tails of the distribution, with is not typical of normally distributed data. This distribution appears to become more normally distributed, as the sample size increases. "
   ]
  },
  {
   "cell_type": "code",
   "execution_count": null,
   "metadata": {
    "collapsed": true
   },
   "outputs": [],
   "source": []
  },
  {
   "cell_type": "code",
   "execution_count": null,
   "metadata": {
    "collapsed": true
   },
   "outputs": [],
   "source": []
  },
  {
   "cell_type": "code",
   "execution_count": null,
   "metadata": {
    "collapsed": true
   },
   "outputs": [],
   "source": []
  },
  {
   "cell_type": "code",
   "execution_count": null,
   "metadata": {
    "collapsed": true
   },
   "outputs": [],
   "source": []
  },
  {
   "cell_type": "markdown",
   "metadata": {},
   "source": [
    "# Additional"
   ]
  },
  {
   "cell_type": "code",
   "execution_count": 87,
   "metadata": {},
   "outputs": [
    {
     "name": "stdout",
     "output_type": "stream",
     "text": [
      "14.9131285098\n",
      "1.13143131078\n",
      "14.9037913257\n"
     ]
    },
    {
     "data": {
      "image/png": "[encoded data removed]",
      "text/plain": [
       "<matplotlib.figure.Figure at 0xa422ba8>"
      ]
     },
     "metadata": {},
     "output_type": "display_data"
    }
   ],
   "source": [
    "rand1=np.random.normal(5,0.5,100)\n",
    "rand2=np.random.normal(10,1,100)\n",
    "rand3=rand1 + rand2\n",
    "\n",
    "mean=np.mean(rand3)\n",
    "sd=np.std(rand3)\n",
    "median=np.median(rand3)\n",
    "print(mean)\n",
    "print(sd)\n",
    "print(median)\n",
    "\n",
    "plt.hist(rand3)\n",
    "plt.axvline(rand3.mean(), color='r', linestyle='solid')\n",
    "plt.axvline(rand3.mean() + rand3.std(), color='r', linestyle='dashed')\n",
    "plt.axvline(rand3.mean() - rand3.std(), color='r', linestyle='dashed')\n",
    "plt.show()"
   ]
  },
  {
   "cell_type": "code",
   "execution_count": 140,
   "metadata": {},
   "outputs": [
    {
     "data": {
      "image/png": "[encoded data removed]",
      "text/plain": [
       "<matplotlib.figure.Figure at 0x6ab0dd8>"
      ]
     },
     "metadata": {},
     "output_type": "display_data"
    }
   ],
   "source": [
    "norm = np.random.normal(0, 1, 100)\n",
    "rand3.sort()\n",
    "norm.sort()\n",
    "plt.plot(norm, rand3, \"o\") \n",
    "plt.show() "
   ]
  },
  {
   "cell_type": "markdown",
   "metadata": {},
   "source": [
    "There appears to be some (slight right) skew in this distribution, but in general, the data in the random variable 3 appears to be normally distributed (also evidenced by the QQ plot). "
   ]
  },
  {
   "cell_type": "code",
   "execution_count": null,
   "metadata": {
    "collapsed": true
   },
   "outputs": [],
   "source": []
  }
 ],
 "metadata": {
  "kernelspec": {
   "display_name": "Python 3",
   "language": "python",
   "name": "python3"
  },
  "language_info": {
   "codemirror_mode": {
    "name": "ipython",
    "version": 3
   },
   "file_extension": ".py",
   "mimetype": "text/x-python",
   "name": "python",
   "nbconvert_exporter": "python",
   "pygments_lexer": "ipython3",
   "version": "3.6.1"
  }
 },
 "nbformat": 4,
 "nbformat_minor": 2
}
