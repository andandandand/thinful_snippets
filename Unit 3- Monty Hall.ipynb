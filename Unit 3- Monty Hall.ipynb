{
 "cells": [
  {
   "cell_type": "raw",
   "metadata": {},
   "source": [
    "when you start out, you have a one in third shot at picking the correct door. When Monty opens one of the other doors revealing a goat, he is filtering out a bad choice and providing more information that was not originally available at the beginning of the game. In a sense, the door remaining has the rest of the chances (2/3) of winning, since the goat door was already filtered out. The door remaining would be the 'best' door available of all the doors that you did not originally select. Accordingly, you should always switch the doors. More simply, the probability of originally selecting the door with the car will always 1/3, but since Monty opens 1 door, the remaining probability of winning for the remaining door will be 1 - 1/3 = 2/3\n",
    "\n",
    "I could apply Baye's to this problem, because the probabilty of that the car is behind a certain door given that Monty opens a certain door is related to the probabilty that Monty opens a certain door, given that the car is behind a certain door. The probability that Monty opens a certain door differs based on what door the car is actually behind (and the door that I originally selected), which I would need to factor into my decision. "
   ]
  }
 ],
 "metadata": {
  "kernelspec": {
   "display_name": "Python 3",
   "language": "python",
   "name": "python3"
  },
  "language_info": {
   "codemirror_mode": {
    "name": "ipython",
    "version": 3
   },
   "file_extension": ".py",
   "mimetype": "text/x-python",
   "name": "python",
   "nbconvert_exporter": "python",
   "pygments_lexer": "ipython3",
   "version": "3.6.1"
  }
 },
 "nbformat": 4,
 "nbformat_minor": 2
}
