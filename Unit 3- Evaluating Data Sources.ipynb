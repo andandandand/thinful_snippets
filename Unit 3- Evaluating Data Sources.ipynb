{
 "cells": [
  {
   "cell_type": "markdown",
   "metadata": {},
   "source": [
    "Data Source: Amsterdam availability data scraped from AirBnB on December 24th. Question: What are the popular neighborhoods in Amsterdam?\n",
    "\n"
   ]
  },
  {
   "cell_type": "raw",
   "metadata": {},
   "source": [
    "Possible Shortcomings- The data is from Christmas Eve, which is an exceptional circumstance. There could either be an increase in AirBnBs due to the influx of people vacationing, or less as AirBnB renters might not want to rent their homes on a holiday. \n",
    "Possible Adjustments- I could choose a period that is not during a major holiday, or I could reframe the question to ask about popular neighborhoods during major holidays. "
   ]
  },
  {
   "cell_type": "markdown",
   "metadata": {},
   "source": [
    "Data Source: Mental health services use on September 12, 2001 in San Francisco, CA and New York City, NY. Question: How do patterns of mental health service use vary between cities?\n"
   ]
  },
  {
   "cell_type": "raw",
   "metadata": {},
   "source": [
    "Possible Shortcomings- The data is from the day after 9/11, so it is likely that patterns of mental health service vary greatly between NYC and San Fran. \n",
    "Possible Adjustments- If I am specifically looking for patterns on 9/12 (and cannot adjust the sample period), I could adjust the cities that I am looking at (those close to the terrorist attack, i.e. close to NYC). Or the question could be reframed to ask about mental health patterns for a city nearby a crisis area vs. those for cities far away. "
   ]
  },
  {
   "cell_type": "markdown",
   "metadata": {},
   "source": [
    "Data Source: Armenian Pub Survey. Question: What are the most common reasons Armenians visit local pubs?"
   ]
  },
  {
   "cell_type": "raw",
   "metadata": {},
   "source": [
    "Possible Shortcomings-  Based on the data, the majority of the sample surveyed are students, thus the results are not representative of all Armenians. \n",
    "Possible Adjustments- I could reframe the question to ask for the most common reason Armenian students visit local pubs. "
   ]
  },
  {
   "cell_type": "code",
   "execution_count": null,
   "metadata": {
    "collapsed": true
   },
   "outputs": [],
   "source": []
  }
 ],
 "metadata": {
  "kernelspec": {
   "display_name": "Python 3",
   "language": "python",
   "name": "python3"
  },
  "language_info": {
   "codemirror_mode": {
    "name": "ipython",
    "version": 3
   },
   "file_extension": ".py",
   "mimetype": "text/x-python",
   "name": "python",
   "nbconvert_exporter": "python",
   "pygments_lexer": "ipython3",
   "version": "3.6.1"
  }
 },
 "nbformat": 4,
 "nbformat_minor": 2
}
