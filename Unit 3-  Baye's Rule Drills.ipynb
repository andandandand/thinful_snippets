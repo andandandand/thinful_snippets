{
 "cells": [
  {
   "cell_type": "markdown",
   "metadata": {},
   "source": [
    "1.Be positive \n",
    "\n",
    "P(B)=[P(A)*P(B|A) + P(A~)*P(B|A~)]\n",
    "\n",
    "P(B)=(.005*0.98) + (0.995 * 0.1) = 0.1044\n",
    "\n",
    "\n",
    "2.Correctly diagnose a sufferer of Thripshaw's \n",
    "\n",
    "P(B|A) = 0.98\n",
    "\n",
    "3.Correctly identify a non-sufferer of Thripshaw's\n",
    "\n",
    "P(B~|A~) = 1 - P(B|A~) = 1 - 0.1 = 0.9\n",
    "\n",
    "4.Misclassify the person\n",
    "\n",
    "1 - [P(A)*P(B|A) + P(A~)*P(B~|A~)] = 1 - ((0.005 * 0.98) + (0.995 * 0.9)) = 0.0996"
   ]
  },
  {
   "cell_type": "code",
   "execution_count": null,
   "metadata": {
    "collapsed": true
   },
   "outputs": [],
   "source": []
  }
 ],
 "metadata": {
  "kernelspec": {
   "display_name": "Python 3",
   "language": "python",
   "name": "python3"
  },
  "language_info": {
   "codemirror_mode": {
    "name": "ipython",
    "version": 3
   },
   "file_extension": ".py",
   "mimetype": "text/x-python",
   "name": "python",
   "nbconvert_exporter": "python",
   "pygments_lexer": "ipython3",
   "version": "3.6.1"
  }
 },
 "nbformat": 4,
 "nbformat_minor": 2
}
