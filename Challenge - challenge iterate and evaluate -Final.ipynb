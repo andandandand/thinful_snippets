{
 "cells": [
  {
   "cell_type": "markdown",
   "metadata": {},
   "source": [
    "It's time to revisit your classifier from the previous assignment. Using the evaluation techniques we've covered here, look at your classifier's performance in more detail. Then go back and iterate by engineering new features, removing poor features, or tuning parameters. Repeat this process until you have five different versions of your classifier. Once you've iterated, answer these questions to compare the performance of each:\n",
    "\n",
    "--Do any of your classifiers seem to overfit?\n",
    "\n",
    "--Which seem to perform the best? Why?\n",
    "\n",
    "--What features seemed to be most impactful to performance?\n",
    "\n",
    "Write up your iterations and answers to the above questions in a few pages. Submit a link below and go over it with your mentor to see if they have any other ideas on how you could improve your classifier's performance."
   ]
  },
  {
   "cell_type": "code",
   "execution_count": 1,
   "metadata": {
    "collapsed": true
   },
   "outputs": [],
   "source": [
    "%matplotlib inline\n",
    "import numpy as np\n",
    "import pandas as pd\n",
    "import scipy\n",
    "import sklearn\n",
    "import matplotlib.pyplot as plt\n",
    "import seaborn as sns\n",
    "from sklearn.naive_bayes import BernoulliNB"
   ]
  },
  {
   "cell_type": "markdown",
   "metadata": {},
   "source": [
    "## 1 - Negative Words\n",
    "\n"
   ]
  },
  {
   "cell_type": "code",
   "execution_count": 2,
   "metadata": {
    "collapsed": true
   },
   "outputs": [],
   "source": [
    "sms_raw = pd.read_csv('amazon_cells_labelled.txt', sep='\\t', header = None)"
   ]
  },
  {
   "cell_type": "code",
   "execution_count": 3,
   "metadata": {
    "collapsed": true
   },
   "outputs": [],
   "source": [
    "sms_raw.columns = ['Sentence', 'Sentiment']"
   ]
  },
  {
   "cell_type": "code",
   "execution_count": 4,
   "metadata": {},
   "outputs": [
    {
     "name": "stdout",
     "output_type": "stream",
     "text": [
      "The history saving thread hit an unexpected error (OperationalError('disk I/O error',)).History will not be written to the database.\n"
     ]
    },
    {
     "data": {
      "text/plain": [
       "1    500\n",
       "0    500\n",
       "Name: Sentiment, dtype: int64"
      ]
     },
     "execution_count": 4,
     "metadata": {},
     "output_type": "execute_result"
    }
   ],
   "source": [
    "sms_raw.Sentiment.value_counts()"
   ]
  },
  {
   "cell_type": "code",
   "execution_count": 5,
   "metadata": {
    "collapsed": true
   },
   "outputs": [],
   "source": [
    "negative = ['waste', 'breaks', 'lousy','cannot','disappoint','disappointed','junk','poor',\n",
    "           \"doesn't\", 'bad', \"don't\", 'problem', 'misleading', 'difficult','unreliable','horrible','broken','fail', 'terrible']\n",
    "\n",
    "for word in negative:\n",
    "    # Note that we add spaces around the key so that we're getting the word,\n",
    "    # not just pattern matching.\n",
    "    sms_raw[str(word)] = sms_raw.Sentence.str.contains(\n",
    "        ' ' + str(word) + ' ',\n",
    "        case=False\n",
    "    )"
   ]
  },
  {
   "cell_type": "code",
   "execution_count": 6,
   "metadata": {
    "collapsed": true
   },
   "outputs": [],
   "source": [
    "sms_raw['Sentiment'] = (sms_raw['Sentiment'] == 0)\n",
    "# Note that if you run this cell a second time everything will become false.\n",
    "# So... Don't."
   ]
  },
  {
   "cell_type": "code",
   "execution_count": 7,
   "metadata": {},
   "outputs": [
    {
     "data": {
      "text/plain": [
       "<matplotlib.axes._subplots.AxesSubplot at 0xadd0898>"
      ]
     },
     "execution_count": 7,
     "metadata": {},
     "output_type": "execute_result"
    },
    {
     "data": {
      "image/png": "[encoded data removed]",
      "text/plain": [
       "<matplotlib.figure.Figure at 0xbdf1f60>"
      ]
     },
     "metadata": {},
     "output_type": "display_data"
    }
   ],
   "source": [
    "sns.heatmap(sms_raw.corr())"
   ]
  },
  {
   "cell_type": "code",
   "execution_count": 8,
   "metadata": {
    "collapsed": true
   },
   "outputs": [],
   "source": [
    "data = sms_raw[negative]  #features\n",
    "target = sms_raw['Sentiment']  #ground_truth\n"
   ]
  },
  {
   "cell_type": "code",
   "execution_count": 9,
   "metadata": {},
   "outputs": [
    {
     "name": "stdout",
     "output_type": "stream",
     "text": [
      "Train: Number of mislabeled points out of a total 700 points : 318\n",
      "Test: Number of mislabeled points out of a total 300 points : 127\n"
     ]
    }
   ],
   "source": [
    "\n",
    "\n",
    "# Our data is binary / boolean, so we're importing the Bernoulli classifier.\n",
    "from sklearn.naive_bayes import BernoulliNB\n",
    "from sklearn import model_selection\n",
    "\n",
    "data_train, data_test, target_train, target_test = sklearn.model_selection.train_test_split(\n",
    "   data, target, test_size=0.30, random_state=42)\n",
    "\n",
    "# Instantiate our model and store it in a new variable.\n",
    "bnb = BernoulliNB()\n",
    "\n",
    "# # Fit our model to the data.\n",
    "bnb.fit(data_train, target_train)\n",
    "\n",
    "# Classify, storing the result in a new variable.\n",
    "test_pred = bnb.predict(data_test)  #making preductions using test features\n",
    "train_pred = bnb.predict(data_train)\n",
    "train_confusion = pd.crosstab(target_train, train_pred)\n",
    "test_confusion = pd.crosstab(target_test, test_pred)\n",
    "\n",
    "# Display our results.\n",
    "print(\"Train: Number of mislabeled points out of a total {} points : {}\".format(\n",
    "    data_train.shape[0],\n",
    "    (target_train != train_pred).sum()\n",
    "))\n",
    "\n",
    "\n",
    "print(\"Test: Number of mislabeled points out of a total {} points : {}\".format(\n",
    "    data_test.shape[0],\n",
    "    (target_test != test_pred).sum()\n",
    "))"
   ]
  },
  {
   "cell_type": "code",
   "execution_count": 16,
   "metadata": {},
   "outputs": [
    {
     "name": "stdout",
     "output_type": "stream",
     "text": [
      "Accuracy :  0.545714285714\n",
      "Specificity :  0.982658959538\n",
      "Sensitivity :  0.118644067797\n"
     ]
    }
   ],
   "source": [
    "\n",
    "#Accuracy train \n",
    "accuracy=(train_confusion.iloc[0,0]+train_confusion.iloc[1,1])/len(target_train)\n",
    "print ('Accuracy : ', accuracy)\n",
    "\n",
    "#Specifity\n",
    "Specificity = train_confusion.iloc[0,0]/(train_confusion.iloc[0,1]+train_confusion.iloc[0,0])\n",
    "print('Specificity : ', Specificity )\n",
    "\n",
    "#Sensitivity\n",
    "Sensitivity = train_confusion.iloc[1,1]/(train_confusion.iloc[1,0]+train_confusion.iloc[1,1])\n",
    "print('Sensitivity : ', Sensitivity)\n"
   ]
  },
  {
   "cell_type": "code",
   "execution_count": 18,
   "metadata": {},
   "outputs": [
    {
     "name": "stdout",
     "output_type": "stream",
     "text": [
      "Accuracy :  0.576666666667\n",
      "Specificity :  0.993506493506\n",
      "Sensitivity :  0.13698630137\n"
     ]
    }
   ],
   "source": [
    "#Accuracy test\n",
    "accuracy=(test_confusion.iloc[0,0]+test_confusion.iloc[1,1])/len(target_test)\n",
    "print ('Accuracy : ', accuracy)\n",
    "\n",
    "#Specifity\n",
    "Specificity = test_confusion.iloc[0,0]/(test_confusion.iloc[0,1]+test_confusion.iloc[0,0])\n",
    "print('Specificity : ', Specificity )\n",
    "\n",
    "#Sensitivity\n",
    "Sensitivity = test_confusion.iloc[1,1]/(test_confusion.iloc[1,0]+test_confusion.iloc[1,1])\n",
    "print('Sensitivity : ', Sensitivity)\n"
   ]
  },
  {
   "cell_type": "code",
   "execution_count": 19,
   "metadata": {},
   "outputs": [
    {
     "name": "stdout",
     "output_type": "stream",
     "text": [
      "col_0      False  True \n",
      "Sentiment              \n",
      "False        340      6\n",
      "True         312     42\n",
      "\n",
      "\n",
      "col_0      False  True \n",
      "Sentiment              \n",
      "False        153      1\n",
      "True         126     20\n"
     ]
    }
   ],
   "source": [
    "print(train_confusion)\n",
    "print('\\n')\n",
    "\n",
    "print(test_confusion)"
   ]
  },
  {
   "cell_type": "markdown",
   "metadata": {
    "collapsed": true
   },
   "source": [
    "Our train and test groups have similar accuracies, specificities and sensitivities, so there doesn't seem to be much overfitting. The sensitivies are low though, meaning the model is not great at correctly identifying positive reviews."
   ]
  },
  {
   "cell_type": "code",
   "execution_count": null,
   "metadata": {
    "collapsed": true
   },
   "outputs": [],
   "source": []
  },
  {
   "cell_type": "markdown",
   "metadata": {
    "collapsed": true
   },
   "source": [
    "## 2 - Positive words\n"
   ]
  },
  {
   "cell_type": "code",
   "execution_count": 24,
   "metadata": {
    "collapsed": true
   },
   "outputs": [],
   "source": [
    "amazon = pd.read_csv('amazon_cells_labelled.txt', sep='\\t', header = None)\n",
    "\n",
    "amazon.columns = ['Sentence', 'Sentiment']\n"
   ]
  },
  {
   "cell_type": "code",
   "execution_count": 25,
   "metadata": {
    "collapsed": true
   },
   "outputs": [],
   "source": [
    "positive = ['good','great','excellent','nice','love','beautiful','best','enjoy',\n",
    "                  'highly','brilliant','tremendous','loved','awesome','impressed','perfect','pleased']\n"
   ]
  },
  {
   "cell_type": "code",
   "execution_count": 26,
   "metadata": {
    "collapsed": true
   },
   "outputs": [],
   "source": [
    "#turn sentiment into boolean\n",
    "amazon['Sentiment'] = (amazon['Sentiment'] == 1)"
   ]
  },
  {
   "cell_type": "code",
   "execution_count": 27,
   "metadata": {
    "collapsed": true
   },
   "outputs": [],
   "source": [
    "for word in positive:\n",
    "    amazon[word] = amazon['Sentence'].apply(lambda x: word in x)"
   ]
  },
  {
   "cell_type": "code",
   "execution_count": 28,
   "metadata": {},
   "outputs": [
    {
     "name": "stdout",
     "output_type": "stream",
     "text": [
      "Train: Number of mislabeled points out of a total 700 points : 240\n",
      "Test: Number of mislabeled points out of a total 300 points : 101\n"
     ]
    }
   ],
   "source": [
    "data = amazon[positive]\n",
    "target = amazon['Sentiment']\n",
    "\n",
    "\n",
    "# Our data is binary / boolean, so we're importing the Bernoulli classifier.\n",
    "from sklearn.naive_bayes import BernoulliNB\n",
    "from sklearn import model_selection\n",
    "\n",
    "\n",
    "#these data_train, etc are different than what defined above. cocneptually play different role\n",
    "data_train, data_test, target_train, target_test = sklearn.model_selection.train_test_split(\n",
    "   data, target, test_size=0.30, random_state=42)  #train_test_split makes a random choice\n",
    "\n",
    "# Instantiate our model and store it in a new variable.\n",
    "bnb = BernoulliNB()\n",
    "\n",
    "# # Fit our model to the data.\n",
    "bnb.fit(data_train, target_train)\n",
    "\n",
    "# Classify, storing the result in a new variable.\n",
    "test_pred = bnb.predict(data_test)\n",
    "train_pred = bnb.predict(data_train)\n",
    "train_confusion = pd.crosstab(target_train, train_pred)\n",
    "test_confusion = pd.crosstab(target_test, test_pred)\n",
    "\n",
    "# Display our results.\n",
    "print(\"Train: Number of mislabeled points out of a total {} points : {}\".format(\n",
    "    data_train.shape[0],\n",
    "    (target_train != train_pred).sum()\n",
    "))\n",
    "\n",
    "\n",
    "print(\"Test: Number of mislabeled points out of a total {} points : {}\".format(\n",
    "    data_test.shape[0],\n",
    "    (target_test != test_pred).sum()\n",
    "))\n"
   ]
  },
  {
   "cell_type": "code",
   "execution_count": 29,
   "metadata": {},
   "outputs": [
    {
     "name": "stdout",
     "output_type": "stream",
     "text": [
      "Accuracy :  0.657142857143\n",
      "Specificity :  0.95197740113\n",
      "Sensitivity :  0.35549132948\n"
     ]
    }
   ],
   "source": [
    "\n",
    "#Accuracy train \n",
    "accuracy=(train_confusion.iloc[0,0]+train_confusion.iloc[1,1])/len(target_train)\n",
    "print ('Accuracy : ', accuracy)\n",
    "\n",
    "#Specifity\n",
    "Specificity = train_confusion.iloc[0,0]/(train_confusion.iloc[0,1]+train_confusion.iloc[0,0])\n",
    "print('Specificity : ', Specificity )\n",
    "\n",
    "#Sensitivity\n",
    "Sensitivity = train_confusion.iloc[1,1]/(train_confusion.iloc[1,0]+train_confusion.iloc[1,1])\n",
    "print('Sensitivity : ', Sensitivity)"
   ]
  },
  {
   "cell_type": "code",
   "execution_count": 30,
   "metadata": {},
   "outputs": [
    {
     "name": "stdout",
     "output_type": "stream",
     "text": [
      "Accuracy :  0.663333333333\n",
      "Specificity :  0.924657534247\n",
      "Sensitivity :  0.415584415584\n"
     ]
    }
   ],
   "source": [
    "#Accuracy test\n",
    "accuracy=(test_confusion.iloc[0,0]+test_confusion.iloc[1,1])/len(target_test)\n",
    "print ('Accuracy : ', accuracy)\n",
    "\n",
    "#Specifity\n",
    "Specificity = test_confusion.iloc[0,0]/(test_confusion.iloc[0,1]+test_confusion.iloc[0,0])\n",
    "print('Specificity : ', Specificity )\n",
    "\n",
    "#Sensitivity\n",
    "Sensitivity = test_confusion.iloc[1,1]/(test_confusion.iloc[1,0]+test_confusion.iloc[1,1])\n",
    "print('Sensitivity : ', Sensitivity)\n"
   ]
  },
  {
   "cell_type": "code",
   "execution_count": 31,
   "metadata": {},
   "outputs": [
    {
     "name": "stdout",
     "output_type": "stream",
     "text": [
      "col_0      False  True \n",
      "Sentiment              \n",
      "False        337     17\n",
      "True         223    123\n",
      "\n",
      "\n",
      "col_0      False  True \n",
      "Sentiment              \n",
      "False        135     11\n",
      "True          90     64\n"
     ]
    }
   ],
   "source": [
    "print(train_confusion)\n",
    "print('\\n')\n",
    "\n",
    "print(test_confusion)"
   ]
  },
  {
   "cell_type": "markdown",
   "metadata": {
    "collapsed": true
   },
   "source": [
    "Once again, our train and test groups have similar accuracies, specificities and sensitivities, so there doesn't seem to be much overfitting. We are more accurate than the first iteration, and while the specificity is lower (still good at predicting negative reviews), the sensitivies are higher, meaning we are getting better at predicting positive reviews, albeit still not great. "
   ]
  },
  {
   "cell_type": "markdown",
   "metadata": {
    "collapsed": true
   },
   "source": [
    "## 3 frequent positive words\n",
    "\n"
   ]
  },
  {
   "cell_type": "code",
   "execution_count": null,
   "metadata": {
    "collapsed": true
   },
   "outputs": [],
   "source": []
  },
  {
   "cell_type": "code",
   "execution_count": 69,
   "metadata": {
    "collapsed": true
   },
   "outputs": [],
   "source": [
    "#look at most common words in positive reviews\n",
    "\n",
    "amazon = pd.read_csv('amazon_cells_labelled.txt', sep='\\t', header = None)\n",
    "\n",
    "amazon.columns = ['Sentence', 'Sentiment']\n",
    "\n",
    "amazon['Sentiment'] = (amazon['Sentiment'] == 1)\n"
   ]
  },
  {
   "cell_type": "code",
   "execution_count": 70,
   "metadata": {
    "collapsed": true
   },
   "outputs": [],
   "source": [
    "#outcome var\n",
    "good = amazon.loc[amazon.Sentiment==1,'Sentence']\n",
    "\n",
    "def modes(amz):\n",
    "    counting = {}\n",
    "    for item in amz.str.split('\\s+'):\n",
    "        for word in item:\n",
    "            if word in counting:\n",
    "                counting[word] += 1\n",
    "            else:\n",
    "                counting[word] = 1\n",
    "\n",
    "    \n",
    "    most = max(counting.values())\n",
    "\n",
    "    least = min(counting.values())\n",
    "    \n",
    "    result = []\n",
    "    #lets set the mode to words appearing more than 25 times\n",
    "    for key,value in counting.items():\n",
    "        if value >=25:\n",
    "            result.append(key)\n",
    "            \n",
    "    return result"
   ]
  },
  {
   "cell_type": "code",
   "execution_count": 71,
   "metadata": {
    "collapsed": true
   },
   "outputs": [],
   "source": [
    "mode_good = modes(good)\n",
    "for word in mode_good:\n",
    "    amazon[str(word)] = amazon.Sentence.str.contains(\n",
    "        str(word),\n",
    "        case=False\n",
    "    )"
   ]
  },
  {
   "cell_type": "code",
   "execution_count": 72,
   "metadata": {},
   "outputs": [
    {
     "name": "stdout",
     "output_type": "stream",
     "text": [
      "Train: Number of mislabeled points out of a total 700 points : 222\n",
      "Test: Number of mislabeled points out of a total 300 points : 112\n"
     ]
    }
   ],
   "source": [
    "data = amazon[mode_good]\n",
    "target = amazon['Sentiment']\n",
    "\n",
    "\n",
    "# Our data is binary / boolean, so we're importing the Bernoulli classifier.\n",
    "from sklearn.naive_bayes import BernoulliNB\n",
    "from sklearn import model_selection\n",
    "\n",
    "\n",
    "#these data_train, etc are different than what defined above. cocneptually play different role\n",
    "data_train, data_test, target_train, target_test = sklearn.model_selection.train_test_split(\n",
    "   data, target, test_size=0.30, random_state=42)  #train_test_split makes a random choice\n",
    "\n",
    "# Instantiate our model and store it in a new variable.\n",
    "bnb = BernoulliNB()\n",
    "\n",
    "# # Fit our model to the data.\n",
    "bnb.fit(data_train, target_train)\n",
    "\n",
    "# Classify, storing the result in a new variable.\n",
    "test_pred = bnb.predict(data_test)\n",
    "train_pred = bnb.predict(data_train)\n",
    "train_confusion = pd.crosstab(target_train, train_pred)\n",
    "test_confusion = pd.crosstab(target_test, test_pred)\n",
    "\n",
    "# Display our results.\n",
    "print(\"Train: Number of mislabeled points out of a total {} points : {}\".format(\n",
    "    data_train.shape[0],\n",
    "    (target_train != train_pred).sum()\n",
    "))\n",
    "\n",
    "\n",
    "print(\"Test: Number of mislabeled points out of a total {} points : {}\".format(\n",
    "    data_test.shape[0],\n",
    "    (target_test != test_pred).sum()\n",
    "))\n"
   ]
  },
  {
   "cell_type": "code",
   "execution_count": 73,
   "metadata": {},
   "outputs": [
    {
     "name": "stdout",
     "output_type": "stream",
     "text": [
      "Accuracy :  0.682857142857\n",
      "Specificity :  0.805084745763\n",
      "Sensitivity :  0.557803468208\n"
     ]
    }
   ],
   "source": [
    "\n",
    "#Accuracy train \n",
    "accuracy=(train_confusion.iloc[0,0]+train_confusion.iloc[1,1])/len(target_train)\n",
    "print ('Accuracy : ', accuracy)\n",
    "\n",
    "#Specifity\n",
    "Specificity = train_confusion.iloc[0,0]/(train_confusion.iloc[0,1]+train_confusion.iloc[0,0])\n",
    "print('Specificity : ', Specificity )\n",
    "\n",
    "#Sensitivity\n",
    "Sensitivity = train_confusion.iloc[1,1]/(train_confusion.iloc[1,0]+train_confusion.iloc[1,1])\n",
    "print('Sensitivity : ', Sensitivity)\n"
   ]
  },
  {
   "cell_type": "code",
   "execution_count": 74,
   "metadata": {},
   "outputs": [
    {
     "name": "stdout",
     "output_type": "stream",
     "text": [
      "Accuracy :  0.626666666667\n",
      "Specificity :  0.719178082192\n",
      "Sensitivity :  0.538961038961\n"
     ]
    }
   ],
   "source": [
    "\n",
    "#Accuracy test\n",
    "accuracy=(test_confusion.iloc[0,0]+test_confusion.iloc[1,1])/len(target_test)\n",
    "print ('Accuracy : ', accuracy)\n",
    "\n",
    "#Specifity\n",
    "Specificity = test_confusion.iloc[0,0]/(test_confusion.iloc[0,1]+test_confusion.iloc[0,0])\n",
    "print('Specificity : ', Specificity )\n",
    "\n",
    "#Sensitivity\n",
    "Sensitivity = test_confusion.iloc[1,1]/(test_confusion.iloc[1,0]+test_confusion.iloc[1,1])\n",
    "print('Sensitivity : ', Sensitivity)\n"
   ]
  },
  {
   "cell_type": "code",
   "execution_count": 75,
   "metadata": {},
   "outputs": [
    {
     "name": "stdout",
     "output_type": "stream",
     "text": [
      "col_0      False  True \n",
      "Sentiment              \n",
      "False        285     69\n",
      "True         153    193\n",
      "\n",
      "\n",
      "col_0      False  True \n",
      "Sentiment              \n",
      "False        105     41\n",
      "True          71     83\n"
     ]
    }
   ],
   "source": [
    "print(train_confusion)\n",
    "print('\\n')\n",
    "\n",
    "print(test_confusion)"
   ]
  },
  {
   "cell_type": "markdown",
   "metadata": {
    "collapsed": true
   },
   "source": [
    "Our accuracy, sensitivity and spec. are all a bit higher in the train group, so there might be a case of overfitting going on.  \n",
    "The specificity is lower than the previous iterations, so we are not as good at predicting negative reviews, but still pretty good at it. However, sensitivity is higher, so we are getting better at predicting positive reviews. "
   ]
  },
  {
   "cell_type": "markdown",
   "metadata": {
    "collapsed": true
   },
   "source": [
    "## 4 -frequent negative words"
   ]
  },
  {
   "cell_type": "code",
   "execution_count": 76,
   "metadata": {
    "collapsed": true
   },
   "outputs": [],
   "source": [
    "#look at most common words in negative reviews\n",
    "\n",
    "amazon = pd.read_csv('amazon_cells_labelled.txt', sep='\\t', header = None)\n",
    "\n",
    "amazon.columns = ['Sentence', 'Sentiment']\n",
    "\n",
    "amazon['Sentiment'] = (amazon['Sentiment'] == 0)\n"
   ]
  },
  {
   "cell_type": "code",
   "execution_count": 77,
   "metadata": {
    "collapsed": true
   },
   "outputs": [],
   "source": [
    "#outcome var\n",
    "bad = amazon.loc[amazon.Sentiment==0,'Sentence']\n",
    "\n",
    "def modes(amz):\n",
    "    counting = {}\n",
    "    for item in amz.str.split('\\s+'):\n",
    "        for word in item:\n",
    "            if word in counting:\n",
    "                counting[word] += 1\n",
    "            else:\n",
    "                counting[word] = 1\n",
    "\n",
    "    \n",
    "    most = max(counting.values())\n",
    "\n",
    "    least = min(counting.values())\n",
    "    \n",
    "    result = []\n",
    "    #lets set the mode to words appearing more than 25 times\n",
    "    for key,value in counting.items():\n",
    "        if value >=25:\n",
    "            result.append(key)\n",
    "            \n",
    "    return result"
   ]
  },
  {
   "cell_type": "code",
   "execution_count": 78,
   "metadata": {
    "collapsed": true
   },
   "outputs": [],
   "source": [
    "mode_bad = modes(bad)\n",
    "for word in mode_bad:\n",
    "    amazon[str(word)] = amazon.Sentence.str.contains(\n",
    "        str(word),\n",
    "        case=False\n",
    "    )"
   ]
  },
  {
   "cell_type": "code",
   "execution_count": 79,
   "metadata": {},
   "outputs": [
    {
     "name": "stdout",
     "output_type": "stream",
     "text": [
      "Train: Number of mislabeled points out of a total 700 points : 222\n",
      "Test: Number of mislabeled points out of a total 300 points : 112\n"
     ]
    }
   ],
   "source": [
    "data = amazon[mode_bad]\n",
    "target = amazon['Sentiment']\n",
    "\n",
    "\n",
    "# Our data is binary / boolean, so we're importing the Bernoulli classifier.\n",
    "from sklearn.naive_bayes import BernoulliNB\n",
    "from sklearn import model_selection\n",
    "\n",
    "\n",
    "#these data_train, etc are different than what defined above. cocneptually play different role\n",
    "data_train, data_test, target_train, target_test = sklearn.model_selection.train_test_split(\n",
    "   data, target, test_size=0.30, random_state=42)  #train_test_split makes a random choice\n",
    "\n",
    "# Instantiate our model and store it in a new variable.\n",
    "bnb = BernoulliNB()\n",
    "\n",
    "# # Fit our model to the data.\n",
    "bnb.fit(data_train, target_train)\n",
    "\n",
    "# Classify, storing the result in a new variable.\n",
    "test_pred = bnb.predict(data_test)\n",
    "train_pred = bnb.predict(data_train)\n",
    "train_confusion = pd.crosstab(target_train, train_pred)\n",
    "test_confusion = pd.crosstab(target_test, test_pred)\n",
    "\n",
    "# Display our results.\n",
    "print(\"Train: Number of mislabeled points out of a total {} points : {}\".format(\n",
    "    data_train.shape[0],\n",
    "    (target_train != train_pred).sum()\n",
    "))\n",
    "\n",
    "\n",
    "print(\"Test: Number of mislabeled points out of a total {} points : {}\".format(\n",
    "    data_test.shape[0],\n",
    "    (target_test != test_pred).sum()\n",
    "))\n"
   ]
  },
  {
   "cell_type": "code",
   "execution_count": null,
   "metadata": {
    "collapsed": true
   },
   "outputs": [],
   "source": []
  },
  {
   "cell_type": "code",
   "execution_count": 80,
   "metadata": {},
   "outputs": [
    {
     "name": "stdout",
     "output_type": "stream",
     "text": [
      "Accuracy :  0.682857142857\n",
      "Specificity :  0.557803468208\n",
      "Sensitivity :  0.805084745763\n"
     ]
    }
   ],
   "source": [
    "\n",
    "#Accuracy train \n",
    "accuracy=(train_confusion.iloc[0,0]+train_confusion.iloc[1,1])/len(target_train)\n",
    "print ('Accuracy : ', accuracy)\n",
    "\n",
    "#Specifity\n",
    "Specificity = train_confusion.iloc[0,0]/(train_confusion.iloc[0,1]+train_confusion.iloc[0,0])\n",
    "print('Specificity : ', Specificity )\n",
    "\n",
    "#Sensitivity\n",
    "Sensitivity = train_confusion.iloc[1,1]/(train_confusion.iloc[1,0]+train_confusion.iloc[1,1])\n",
    "print('Sensitivity : ', Sensitivity)\n"
   ]
  },
  {
   "cell_type": "code",
   "execution_count": 81,
   "metadata": {},
   "outputs": [
    {
     "name": "stdout",
     "output_type": "stream",
     "text": [
      "Accuracy :  0.626666666667\n",
      "Specificity :  0.538961038961\n",
      "Sensitivity :  0.719178082192\n"
     ]
    }
   ],
   "source": [
    "\n",
    "#Accuracy test\n",
    "accuracy=(test_confusion.iloc[0,0]+test_confusion.iloc[1,1])/len(target_test)\n",
    "print ('Accuracy : ', accuracy)\n",
    "\n",
    "#Specifity\n",
    "Specificity = test_confusion.iloc[0,0]/(test_confusion.iloc[0,1]+test_confusion.iloc[0,0])\n",
    "print('Specificity : ', Specificity )\n",
    "\n",
    "#Sensitivity\n",
    "Sensitivity = test_confusion.iloc[1,1]/(test_confusion.iloc[1,0]+test_confusion.iloc[1,1])\n",
    "print('Sensitivity : ', Sensitivity)\n"
   ]
  },
  {
   "cell_type": "code",
   "execution_count": 82,
   "metadata": {},
   "outputs": [
    {
     "name": "stdout",
     "output_type": "stream",
     "text": [
      "col_0      False  True \n",
      "Sentiment              \n",
      "False        193    153\n",
      "True          69    285\n",
      "\n",
      "\n",
      "col_0      False  True \n",
      "Sentiment              \n",
      "False         83     71\n",
      "True          41    105\n"
     ]
    }
   ],
   "source": [
    "print(train_confusion)\n",
    "print('\\n')\n",
    "\n",
    "print(test_confusion)"
   ]
  },
  {
   "cell_type": "markdown",
   "metadata": {
    "collapsed": true
   },
   "source": [
    "Our accuracy and sensitivity are all a bit higher in the train group, so there might be a case of overfitting going on, once again. The accuracy is about the same as the frquent positive words classifier  but now the spec is a lot lower and sensitivity is much higher, meaning we are getting worse at predicting negative reviews, and better at predicting positive. "
   ]
  },
  {
   "cell_type": "markdown",
   "metadata": {},
   "source": [
    "## 5 - Most common words shared between pos and neg"
   ]
  },
  {
   "cell_type": "code",
   "execution_count": null,
   "metadata": {
    "collapsed": true
   },
   "outputs": [],
   "source": []
  },
  {
   "cell_type": "code",
   "execution_count": 91,
   "metadata": {
    "collapsed": true
   },
   "outputs": [],
   "source": [
    "amazon = pd.read_csv('amazon_cells_labelled.txt', sep='\\t', header = None)\n",
    "\n",
    "amazon.columns = ['Sentence', 'Sentiment']\n"
   ]
  },
  {
   "cell_type": "code",
   "execution_count": 92,
   "metadata": {
    "collapsed": true
   },
   "outputs": [],
   "source": [
    "#turn sentiment into boolean\n",
    "amazon['Sentiment'] = (amazon['Sentiment'] == 1)"
   ]
  },
  {
   "cell_type": "code",
   "execution_count": 93,
   "metadata": {
    "collapsed": true
   },
   "outputs": [],
   "source": [
    "#outcome var\n",
    "shared = amazon.loc[:,'Sentence']\n",
    "\n",
    "def modes(amz):\n",
    "    counting = {}\n",
    "    for item in amz.str.split('\\s+'):\n",
    "        for word in item:\n",
    "            if word in counting:\n",
    "                counting[word] += 1\n",
    "            else:\n",
    "                counting[word] = 1\n",
    "\n",
    "    \n",
    "    most = max(counting.values())\n",
    "\n",
    "    least = min(counting.values())\n",
    "    \n",
    "    result = []\n",
    "    #lets set the mode to words appearing more than 25 times\n",
    "    for key,value in counting.items():\n",
    "        if value >=25:\n",
    "            result.append(key)\n",
    "            \n",
    "    return result"
   ]
  },
  {
   "cell_type": "code",
   "execution_count": 94,
   "metadata": {
    "collapsed": true
   },
   "outputs": [],
   "source": [
    "mode_shared = modes(shared)\n",
    "for word in mode_shared:\n",
    "    amazon[str(word)] = amazon.Sentence.str.contains(\n",
    "        str(word),\n",
    "        case=False\n",
    "    )"
   ]
  },
  {
   "cell_type": "code",
   "execution_count": 95,
   "metadata": {},
   "outputs": [
    {
     "name": "stdout",
     "output_type": "stream",
     "text": [
      "Train: Number of mislabeled points out of a total 700 points : 189\n",
      "Test: Number of mislabeled points out of a total 300 points : 94\n"
     ]
    }
   ],
   "source": [
    "data = amazon[mode_shared]\n",
    "target = amazon['Sentiment']\n",
    "\n",
    "\n",
    "# Our data is binary / boolean, so we're importing the Bernoulli classifier.\n",
    "from sklearn.naive_bayes import BernoulliNB\n",
    "from sklearn import model_selection\n",
    "\n",
    "\n",
    "#these data_train, etc are different than what defined above. cocneptually play different role\n",
    "data_train, data_test, target_train, target_test = sklearn.model_selection.train_test_split(\n",
    "   data, target, test_size=0.30, random_state=42)  #train_test_split makes a random choice\n",
    "\n",
    "# Instantiate our model and store it in a new variable.\n",
    "bnb = BernoulliNB()\n",
    "\n",
    "# # Fit our model to the data.\n",
    "bnb.fit(data_train, target_train)\n",
    "\n",
    "# Classify, storing the result in a new variable.\n",
    "test_pred = bnb.predict(data_test)\n",
    "train_pred = bnb.predict(data_train)\n",
    "train_confusion = pd.crosstab(target_train, train_pred)\n",
    "test_confusion = pd.crosstab(target_test, test_pred)\n",
    "\n",
    "# Display our results.\n",
    "print(\"Train: Number of mislabeled points out of a total {} points : {}\".format(\n",
    "    data_train.shape[0],\n",
    "    (target_train != train_pred).sum()\n",
    "))\n",
    "\n",
    "\n",
    "print(\"Test: Number of mislabeled points out of a total {} points : {}\".format(\n",
    "    data_test.shape[0],\n",
    "    (target_test != test_pred).sum()\n",
    "))\n"
   ]
  },
  {
   "cell_type": "code",
   "execution_count": null,
   "metadata": {
    "collapsed": true
   },
   "outputs": [],
   "source": []
  },
  {
   "cell_type": "code",
   "execution_count": 97,
   "metadata": {},
   "outputs": [
    {
     "name": "stdout",
     "output_type": "stream",
     "text": [
      "Accuracy :  0.73\n",
      "Specificity :  0.779661016949\n",
      "Sensitivity :  0.679190751445\n"
     ]
    }
   ],
   "source": [
    "\n",
    "#Accuracy train \n",
    "accuracy=(train_confusion.iloc[0,0]+train_confusion.iloc[1,1])/len(target_train)\n",
    "print ('Accuracy : ', accuracy)\n",
    "\n",
    "#Specifity\n",
    "Specificity = train_confusion.iloc[0,0]/(train_confusion.iloc[0,1]+train_confusion.iloc[0,0])\n",
    "print('Specificity : ', Specificity )\n",
    "\n",
    "#Sensitivity\n",
    "Sensitivity = train_confusion.iloc[1,1]/(train_confusion.iloc[1,0]+train_confusion.iloc[1,1])\n",
    "print('Sensitivity : ', Sensitivity)\n"
   ]
  },
  {
   "cell_type": "code",
   "execution_count": 98,
   "metadata": {},
   "outputs": [
    {
     "name": "stdout",
     "output_type": "stream",
     "text": [
      "Accuracy :  0.686666666667\n",
      "Specificity :  0.712328767123\n",
      "Sensitivity :  0.662337662338\n"
     ]
    }
   ],
   "source": [
    "\n",
    "#Accuracy test\n",
    "accuracy=(test_confusion.iloc[0,0]+test_confusion.iloc[1,1])/len(target_test)\n",
    "print ('Accuracy : ', accuracy)\n",
    "\n",
    "#Specifity\n",
    "Specificity = test_confusion.iloc[0,0]/(test_confusion.iloc[0,1]+test_confusion.iloc[0,0])\n",
    "print('Specificity : ', Specificity )\n",
    "\n",
    "#Sensitivity\n",
    "Sensitivity = test_confusion.iloc[1,1]/(test_confusion.iloc[1,0]+test_confusion.iloc[1,1])\n",
    "print('Sensitivity : ', Sensitivity)\n"
   ]
  },
  {
   "cell_type": "code",
   "execution_count": 100,
   "metadata": {},
   "outputs": [
    {
     "data": {
      "text/plain": [
       "0.69900000000000007"
      ]
     },
     "execution_count": 100,
     "metadata": {},
     "output_type": "execute_result"
    }
   ],
   "source": [
    "\n",
    "scores = model_selection.cross_val_score(bnb,data,target,cv=10) #combined accuract. \n",
    "#cross_val_score will give test scores for each of the different splits\n",
    "#prints accuracy\n",
    "scores.mean()"
   ]
  },
  {
   "cell_type": "code",
   "execution_count": 99,
   "metadata": {},
   "outputs": [
    {
     "name": "stdout",
     "output_type": "stream",
     "text": [
      "col_0      False  True \n",
      "Sentiment              \n",
      "False        276     78\n",
      "True         111    235\n",
      "\n",
      "\n",
      "col_0      False  True \n",
      "Sentiment              \n",
      "False        104     42\n",
      "True          52    102\n"
     ]
    }
   ],
   "source": [
    "print(train_confusion)\n",
    "print('\\n')\n",
    "\n",
    "print(test_confusion)"
   ]
  },
  {
   "cell_type": "markdown",
   "metadata": {
    "collapsed": true
   },
   "source": [
    "Our accuracy and spec are all a bit higher in the train group, so there might be a case of minor overfitting going on, once again. However, the accuracy we found is the highest thus far. Also, while the spec or sensitivity is not the highest we've seen for either score, this iteration has the most balance between the two (i.e. combined, they are the highest)."
   ]
  }
 ],
 "metadata": {
  "kernelspec": {
   "display_name": "Python 3",
   "language": "python",
   "name": "python3"
  },
  "language_info": {
   "codemirror_mode": {
    "name": "ipython",
    "version": 3
   },
   "file_extension": ".py",
   "mimetype": "text/x-python",
   "name": "python",
   "nbconvert_exporter": "python",
   "pygments_lexer": "ipython3",
   "version": "3.6.1"
  }
 },
 "nbformat": 4,
 "nbformat_minor": 2
}
